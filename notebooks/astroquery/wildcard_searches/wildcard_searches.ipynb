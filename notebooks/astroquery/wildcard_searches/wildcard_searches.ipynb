{
 "cells": [
  {
   "cell_type": "markdown",
   "id": "ba875f5a",
   "metadata": {},
   "source": [
    "# Wildcard Handling with Astroquery.mast"
   ]
  },
  {
   "cell_type": "markdown",
   "id": "82aa07ce",
   "metadata": {},
   "source": [
    "----"
   ]
  },
  {
   "cell_type": "markdown",
   "id": "f663f21e",
   "metadata": {},
   "source": [
    "## Learning Goals"
   ]
  },
  {
   "cell_type": "markdown",
   "id": "683067ea",
   "metadata": {},
   "source": [
    "By the end of this tutorial, you will:\n",
    "\n",
    "* Use the wildcards available for `astroquery.mast.Observations` criteria queries\n",
    "* Broaden and refine `astroquery.mast.Observations` criteria queries\n",
    "* Fully utilize the `instrument_name` criteria, especially for JWST queries\n",
    "* Query for moving targets using target ephemeris and time criteria such as `t_min` and `t_max`"
   ]
  },
  {
   "cell_type": "markdown",
   "id": "299dbd42",
   "metadata": {},
   "source": [
    "## Introduction"
   ]
  },
  {
   "cell_type": "markdown",
   "id": "e3f8b9c2",
   "metadata": {},
   "source": [
    "This Notebook demonstrates the use of wildcards in `astroquery.mast.Observations` criteria queries. The use of wildcards is encouraged for certain criteria types (namely, `string` object types) to ensure your query returns all results. \n",
    "\n",
    "We will demonstrate 3 use-cases for wildcards when doing criteria queries and emphasize certain criteria where wildcard usage is highly encouraged, particularly for JWST queries. We will also use the last example to demonstrate the use of value ranges when working with `float` object criteria types.\n",
    "\n",
    "The workflow for this notebook consists of:\n",
    "\n",
    "* [Wildcard overview with `astroquery.mast.Observations`](#overview)\n",
    "    1. [Wildcard Search with `instrument_name`](#case1)\n",
    "    2. [Wildcard Search with `instrument_name` and `proposal_id`](#case2)\n",
    "    3. [Wildcard Search a Time-sensitive Object with `target_name` and `t_min`](#case3)\n",
    "* Resources"
   ]
  },
  {
   "cell_type": "markdown",
   "id": "081aec44",
   "metadata": {},
   "source": [
    "## Imports"
   ]
  },
  {
   "cell_type": "code",
   "execution_count": 1,
   "id": "e3b0d9a0",
   "metadata": {
    "execution": {
     "iopub.execute_input": "2023-11-03T15:08:00.787275Z",
     "iopub.status.busy": "2023-11-03T15:08:00.787069Z",
     "iopub.status.idle": "2023-11-03T15:08:02.085765Z",
     "shell.execute_reply": "2023-11-03T15:08:02.084936Z"
    }
   },
   "outputs": [],
   "source": [
    "import astropy.units as u\n",
    "import matplotlib.pyplot as plt\n",
    "\n",
    "from astropy.coordinates import SkyCoord\n",
    "from astropy.table import Table, unique, vstack\n",
    "from astropy.time import Time\n",
    "from astroquery.mast import Observations"
   ]
  },
  {
   "cell_type": "markdown",
   "id": "6fa247ec",
   "metadata": {},
   "source": [
    "----"
   ]
  },
  {
   "cell_type": "markdown",
   "id": "9485fb4d",
   "metadata": {},
   "source": [
    "<a id=\"overview\"></a>\n",
    "## Wildcards with `astroquery.mast.Observations`"
   ]
  },
  {
   "cell_type": "markdown",
   "id": "01935242",
   "metadata": {},
   "source": [
    "The use of wildcards when making `astroquery.mast.Observations` queries can help ensure you retrieve all observations without leaving anything out. The available wildcards are `%` and `*`: `%` replaces a single character, while `*` replaces more than one character preceding, following, or in between the existing characters, depending on its placement. See the [Observation Criteria Queries](https://astroquery.readthedocs.io/en/latest/mast/mast.html#observation-criteria-queries) section in the `astroquery.mast` documentation for more information on the wildcards.\n",
    "\n",
    "Wildcards are only available for certain criteria. `string` type objects accept wildcards, but `float`, `integer`, or any other objects do not accept wildcards.\n",
    "\n",
    "Users may call the `get_metadata` method to see the list of query criteria and their data types. The criteria listed as `string` objects under the **Data Type** column are criteria that can be called with wildcards:"
   ]
  },
  {
   "cell_type": "code",
   "execution_count": 2,
   "id": "a892c185",
   "metadata": {
    "execution": {
     "iopub.execute_input": "2023-11-03T15:08:02.089999Z",
     "iopub.status.busy": "2023-11-03T15:08:02.089750Z",
     "iopub.status.idle": "2023-11-03T15:08:02.475955Z",
     "shell.execute_reply": "2023-11-03T15:08:02.474642Z"
    },
    "scrolled": true
   },
   "outputs": [
    {
     "data": {
      "text/html": [
       "<div><i>Table length=34</i>\n",
       "<table id=\"table140312752710928\" class=\"table-striped table-bordered table-condensed\">\n",
       "<thead><tr><th>Column Name</th><th>Column Label</th><th>Data Type</th><th>Units</th><th>Description</th><th>Examples/Valid Values</th></tr></thead>\n",
       "<thead><tr><th>str21</th><th>str25</th><th>str7</th><th>str10</th><th>str72</th><th>str116</th></tr></thead>\n",
       "<tr><td>intentType</td><td>Observation Type</td><td>string</td><td></td><td>Whether observation is for science or calibration.</td><td>Valid values: science, calibration</td></tr>\n",
       "<tr><td>obs_collection</td><td>Mission</td><td>string</td><td></td><td>Collection</td><td>E.g. SWIFT, PS1, HST, IUE</td></tr>\n",
       "<tr><td>provenance_name</td><td>Provenance Name</td><td>string</td><td></td><td>Provenance name, or source of data</td><td>E.g. TASOC, CALSTIS, PS1</td></tr>\n",
       "<tr><td>instrument_name</td><td>Instrument</td><td>string</td><td></td><td>Instrument Name</td><td>E.g. WFPC2/WFC, UVOT, STIS/CCD</td></tr>\n",
       "<tr><td>project</td><td>Project</td><td>string</td><td></td><td>Processing project</td><td>E.g. HST, HLA, EUVE, hlsp_legus</td></tr>\n",
       "<tr><td>filters</td><td>Filters</td><td>string</td><td></td><td>Instrument filters</td><td>F469N, NUV, FUV, LOW DISP, MIRROR</td></tr>\n",
       "<tr><td>wavelength_region</td><td>Waveband</td><td>string</td><td></td><td>Energy Band</td><td>EUV, XRAY, OPTICAL</td></tr>\n",
       "<tr><td>target_name</td><td>Target Name</td><td>string</td><td></td><td>Target Name</td><td>Ex. COMET-67P-CHURYUMOV-GER-UPDATE</td></tr>\n",
       "<tr><td>target_classification</td><td>Target Classification</td><td>string</td><td></td><td>Type of target</td><td>Ex. COMET;COMET BEING ORBITED BY THE ROSETTA SPACECRAFT;SOLAR SYSTEM</td></tr>\n",
       "<tr><td>obs_id</td><td>Observation ID</td><td>string</td><td></td><td>Observation identifier, given by mission</td><td>U24Z0101T, N4QF18030</td></tr>\n",
       "<tr><td>...</td><td>...</td><td>...</td><td>...</td><td>...</td><td>...</td></tr>\n",
       "<tr><td>s_region</td><td>s_region</td><td>string</td><td>ICRS Shape</td><td>STC/S Footprint</td><td>Will be ICRS circle or polygon. E.g. CIRCLE ICRS 17.71740689 -58.40043015 0.625</td></tr>\n",
       "<tr><td>jpegURL</td><td>jpegURL</td><td>string</td><td></td><td>Preview Image URL</td><td>https://archive.stsci.edu/hst/previews/N4QF/N4QF18090.jpg</td></tr>\n",
       "<tr><td>distance</td><td>Distance (&quot;)</td><td>float</td><td>arcsec</td><td>Angular separation between searched coordinates and center of obsevation</td><td></td></tr>\n",
       "<tr><td>obsid</td><td>Product Group ID</td><td>integer</td><td></td><td>Database identifier for obs_id</td><td>Long integer, e.g. 2007590987</td></tr>\n",
       "<tr><td>dataRights</td><td>Data Rights</td><td>string</td><td></td><td>Data Rights</td><td>valid values: public,exclusive_access,restricted</td></tr>\n",
       "<tr><td>mtFlag</td><td>Moving Target</td><td>boolean</td><td></td><td>Moving Target Flag</td><td>If True, observation contains a moving target, if False or absent observation may or may not contain a moving target</td></tr>\n",
       "<tr><td>srcDen</td><td>Number of Catalog Objects</td><td>float</td><td></td><td>Number of cataloged objects found in observation</td><td></td></tr>\n",
       "<tr><td>dataURL</td><td>Data URL</td><td>string</td><td></td><td>Data URL</td><td></td></tr>\n",
       "<tr><td>proposal_type</td><td>Proposal Type</td><td>string</td><td></td><td>Type of telescope proposal</td><td>Eg. 3PI, GO, GO/DD, HLA, GII, AIS</td></tr>\n",
       "<tr><td>sequence_number</td><td>Sequence Number</td><td>integer</td><td></td><td>Sequence number, e.g. Kepler quarter or TESS sector</td><td></td></tr>\n",
       "</table></div>"
      ],
      "text/plain": [
       "<Table length=34>\n",
       "     Column Name      ...\n",
       "        str21         ...\n",
       "--------------------- ...\n",
       "           intentType ...\n",
       "       obs_collection ...\n",
       "      provenance_name ...\n",
       "      instrument_name ...\n",
       "              project ...\n",
       "              filters ...\n",
       "    wavelength_region ...\n",
       "          target_name ...\n",
       "target_classification ...\n",
       "               obs_id ...\n",
       "                  ... ...\n",
       "             s_region ...\n",
       "              jpegURL ...\n",
       "             distance ...\n",
       "                obsid ...\n",
       "           dataRights ...\n",
       "               mtFlag ...\n",
       "               srcDen ...\n",
       "              dataURL ...\n",
       "        proposal_type ...\n",
       "      sequence_number ..."
      ]
     },
     "execution_count": 2,
     "metadata": {},
     "output_type": "execute_result"
    }
   ],
   "source": [
    "Observations.get_metadata(\"observations\")"
   ]
  },
  {
   "cell_type": "markdown",
   "id": "74d0a968",
   "metadata": {},
   "source": [
    "<a id=\"case1\"></a>\n",
    "### Case 1: Wildcard Search with `instrument_name`"
   ]
  },
  {
   "cell_type": "markdown",
   "id": "6b80645c",
   "metadata": {},
   "source": [
    "For our first example we will search for all NIRISS observations taken by a certain proposal/program PI. Our two query criteria are `proposal_pi` and `instrument_name`, which are both `string` object criteria. As such, both can be wildcarded for ease of use. \n",
    "\n",
    "In fact, it is sometimes necessary to use wildcards when searching on `instrument_name`. Both HST and JWST use instrument configurations in this field to allow for more precise advanced searches (e.g. NIRISS/IMAGE and STIS/FUV-MAMA). When performing a \"generic\" search, you must include a wildcard or these more detailed results will be excluded.\n",
    "\n",
    "We will demonstrate this by looking at the results for the query below:"
   ]
  },
  {
   "cell_type": "code",
   "execution_count": 3,
   "id": "c88ef2ed",
   "metadata": {
    "execution": {
     "iopub.execute_input": "2023-11-03T15:08:02.480113Z",
     "iopub.status.busy": "2023-11-03T15:08:02.479016Z",
     "iopub.status.idle": "2023-11-03T15:08:02.826429Z",
     "shell.execute_reply": "2023-11-03T15:08:02.825611Z"
    },
    "scrolled": true
   },
   "outputs": [
    {
     "data": {
      "text/html": [
       "<div><i>Table masked=True length=94</i>\n",
       "<table id=\"table140312752899728\" class=\"table-striped table-bordered table-condensed\">\n",
       "<thead><tr><th>intentType</th><th>obs_collection</th><th>provenance_name</th><th>instrument_name</th><th>project</th><th>filters</th><th>wavelength_region</th><th>target_name</th><th>target_classification</th><th>sequence_number</th><th>obs_id</th><th>s_ra</th><th>s_dec</th><th>proposal_id</th><th>proposal_pi</th><th>dataproduct_type</th><th>calib_level</th><th>t_min</th><th>t_max</th><th>t_exptime</th><th>em_min</th><th>em_max</th><th>obs_title</th><th>t_obs_release</th><th>proposal_type</th><th>dataRights</th><th>mtFlag</th><th>obsid</th><th>objID</th></tr></thead>\n",
       "<thead><tr><th>str7</th><th>str4</th><th>str7</th><th>str12</th><th>str4</th><th>str13</th><th>str8</th><th>str13</th><th>str54</th><th>int64</th><th>str50</th><th>float64</th><th>float64</th><th>str4</th><th>str16</th><th>str8</th><th>int64</th><th>float64</th><th>float64</th><th>float64</th><th>float64</th><th>float64</th><th>str70</th><th>float64</th><th>str3</th><th>str16</th><th>bool</th><th>str9</th><th>str9</th></tr></thead>\n",
       "<tr><td>science</td><td>JWST</td><td>CALJWST</td><td>NIRISS/IMAGE</td><td>JWST</td><td>CLEAR;GR700XD</td><td>Infrared</td><td>BD+60-1753</td><td>Star; A dwarfs</td><td>--</td><td>jw01512001001_03101_00001_nis</td><td>261.2178777047604</td><td>60.430788532878</td><td>1512</td><td>Espinoza, Nestor</td><td>image</td><td>2</td><td>59995.971151875</td><td>59995.97127905093</td><td>5.494</td><td>600.0</td><td>2800.0</td><td>SOSS Wavelength and Trace</td><td>59996.02417822</td><td>CAL</td><td>PUBLIC</td><td>False</td><td>117933676</td><td>317525309</td></tr>\n",
       "<tr><td>science</td><td>JWST</td><td>CALJWST</td><td>NIRISS/SOSS</td><td>JWST</td><td>F480M</td><td>Infrared</td><td>BD+60-1753</td><td>Star; A dwarfs</td><td>--</td><td>jw01512002001_02101_00001_nis</td><td>261.2178777048343</td><td>60.43078853290603</td><td>1512</td><td>Espinoza, Nestor</td><td>image</td><td>2</td><td>59995.98101357639</td><td>59995.98102200231</td><td>0.683</td><td>4600.0</td><td>5000.0</td><td>SOSS Wavelength and Trace</td><td>59996.18175925</td><td>CAL</td><td>PUBLIC</td><td>False</td><td>117933629</td><td>317525330</td></tr>\n",
       "<tr><td>science</td><td>JWST</td><td>CALJWST</td><td>NIRISS/IMAGE</td><td>JWST</td><td>CLEAR;GR700XD</td><td>Infrared</td><td>BD+60-1753</td><td>Star; A dwarfs</td><td>--</td><td>jw01512001001_03102_00001_nis</td><td>261.2178777047765</td><td>60.43078853288411</td><td>1512</td><td>Espinoza, Nestor</td><td>image</td><td>2</td><td>59995.97207774306</td><td>59995.97462126157</td><td>164.82</td><td>600.0</td><td>2800.0</td><td>SOSS Wavelength and Trace</td><td>59996.02564814</td><td>CAL</td><td>PUBLIC</td><td>False</td><td>117933623</td><td>317525334</td></tr>\n",
       "<tr><td>science</td><td>JWST</td><td>CALJWST</td><td>NIRISS/SOSS</td><td>JWST</td><td>F480M</td><td>Infrared</td><td>BD+60-1753</td><td>Star; A dwarfs</td><td>--</td><td>jw01512003001_02101_00003_nis</td><td>261.2178777049821</td><td>60.43078853296207</td><td>1512</td><td>Espinoza, Nestor</td><td>image</td><td>2</td><td>59996.0006165162</td><td>59996.00062494213</td><td>0.683</td><td>4600.0</td><td>5000.0</td><td>SOSS Wavelength and Trace</td><td>59996.22311345</td><td>CAL</td><td>PUBLIC</td><td>False</td><td>117933684</td><td>317525350</td></tr>\n",
       "<tr><td>science</td><td>JWST</td><td>CALJWST</td><td>NIRISS/SOSS</td><td>JWST</td><td>F480M</td><td>Infrared</td><td>BD+60-1753</td><td>Star; A dwarfs</td><td>--</td><td>jw01512001001_02101_00001_nis</td><td>261.2178777047001</td><td>60.43078853285514</td><td>1512</td><td>Espinoza, Nestor</td><td>image</td><td>2</td><td>59995.96321136574</td><td>59995.96321979167</td><td>0.683</td><td>4600.0</td><td>5000.0</td><td>SOSS Wavelength and Trace</td><td>59996.16189809</td><td>CAL</td><td>PUBLIC</td><td>False</td><td>117933677</td><td>317525361</td></tr>\n",
       "<tr><td>science</td><td>JWST</td><td>CALJWST</td><td>NIRISS/SOSS</td><td>JWST</td><td>F480M</td><td>Infrared</td><td>BD+60-1753</td><td>Star; A dwarfs</td><td>--</td><td>jw01512002001_02101_00004_nis</td><td>261.2178777048824</td><td>60.43078853292429</td><td>1512</td><td>Espinoza, Nestor</td><td>image</td><td>2</td><td>59995.98740097222</td><td>59995.98740939815</td><td>0.683</td><td>4600.0</td><td>5000.0</td><td>SOSS Wavelength and Trace</td><td>59996.18133101</td><td>CAL</td><td>PUBLIC</td><td>False</td><td>117933631</td><td>317525364</td></tr>\n",
       "<tr><td>science</td><td>JWST</td><td>CALJWST</td><td>NIRISS/SOSS</td><td>JWST</td><td>F480M</td><td>Infrared</td><td>BD+60-1753</td><td>Star; A dwarfs</td><td>--</td><td>jw01512003001_02101_00002_nis</td><td>261.2178777049756</td><td>60.43078853295963</td><td>1512</td><td>Espinoza, Nestor</td><td>image</td><td>2</td><td>59995.99976318287</td><td>59995.9997716088</td><td>0.683</td><td>4600.0</td><td>5000.0</td><td>SOSS Wavelength and Trace</td><td>59996.22358799</td><td>CAL</td><td>PUBLIC</td><td>False</td><td>117933685</td><td>317525369</td></tr>\n",
       "<tr><td>science</td><td>JWST</td><td>CALJWST</td><td>NIRISS/SOSS</td><td>JWST</td><td>F480M</td><td>Infrared</td><td>BD+60-1753</td><td>Star; A dwarfs</td><td>--</td><td>jw01512002001_02101_00003_nis</td><td>261.2178777048472</td><td>60.43078853291094</td><td>1512</td><td>Espinoza, Nestor</td><td>image</td><td>2</td><td>59995.98273135417</td><td>59995.98273978009</td><td>0.683</td><td>4600.0</td><td>5000.0</td><td>SOSS Wavelength and Trace</td><td>59996.18243051</td><td>CAL</td><td>PUBLIC</td><td>False</td><td>117933632</td><td>317525397</td></tr>\n",
       "<tr><td>science</td><td>JWST</td><td>CALJWST</td><td>NIRISS/SOSS</td><td>JWST</td><td>F480M</td><td>Infrared</td><td>BD+60-1753</td><td>Star; A dwarfs</td><td>--</td><td>jw01512001001_02101_00002_nis</td><td>261.2178777047065</td><td>60.43078853285758</td><td>1512</td><td>Espinoza, Nestor</td><td>image</td><td>2</td><td>59995.96406469907</td><td>59995.964073125</td><td>0.683</td><td>4600.0</td><td>5000.0</td><td>SOSS Wavelength and Trace</td><td>59996.1616898</td><td>CAL</td><td>PUBLIC</td><td>False</td><td>117933622</td><td>317525399</td></tr>\n",
       "<tr><td>science</td><td>JWST</td><td>CALJWST</td><td>NIRISS/SOSS</td><td>JWST</td><td>F480M</td><td>Infrared</td><td>BD+60-1753</td><td>Star; A dwarfs</td><td>--</td><td>jw01512003001_02101_00004_nis</td><td>261.2178777050174</td><td>60.43078853297545</td><td>1512</td><td>Espinoza, Nestor</td><td>image</td><td>2</td><td>59996.00529503472</td><td>59996.00530346065</td><td>0.683</td><td>4600.0</td><td>5000.0</td><td>SOSS Wavelength and Trace</td><td>59996.22332179</td><td>CAL</td><td>PUBLIC</td><td>False</td><td>117933686</td><td>317525416</td></tr>\n",
       "<tr><td>...</td><td>...</td><td>...</td><td>...</td><td>...</td><td>...</td><td>...</td><td>...</td><td>...</td><td>...</td><td>...</td><td>...</td><td>...</td><td>...</td><td>...</td><td>...</td><td>...</td><td>...</td><td>...</td><td>...</td><td>...</td><td>...</td><td>...</td><td>...</td><td>...</td><td>...</td><td>...</td><td>...</td><td>...</td></tr>\n",
       "<tr><td>science</td><td>JWST</td><td>CALJWST</td><td>NIRISS/SOSS</td><td>JWST</td><td>CLEAR;GR700XD</td><td>Infrared</td><td>HAT-P-14</td><td>--</td><td>--</td><td>jw01541001001_04101_00001-seg001_nis</td><td>260.1161736742332</td><td>38.24216472053897</td><td>1541</td><td>Espinoza, Nestor</td><td>spectrum</td><td>2</td><td>59738.29788028935</td><td>59738.55248649306</td><td>18855.408</td><td>600.0</td><td>2800.0</td><td>NIRISS Sensitivity and Stability for Transiting Exoplanet Observations</td><td>59774.8541666</td><td>COM</td><td>PUBLIC</td><td>False</td><td>85700117</td><td>335565636</td></tr>\n",
       "<tr><td>science</td><td>JWST</td><td>CALJWST</td><td>NIRISS/SOSS</td><td>JWST</td><td>CLEAR;GR700XD</td><td>Infrared</td><td>HAT-P-14</td><td>Star; Exoplanet Systems; Exoplanets; F dwarfs; F stars</td><td>--</td><td>jw01541001001_04101_00001-seg004_nis</td><td>260.1161771630844</td><td>38.24215651109613</td><td>1541</td><td>Espinoza, Nestor</td><td>spectrum</td><td>2</td><td>59738.29788028935</td><td>59738.55248649306</td><td>18855.408</td><td>600.0</td><td>2800.0</td><td>NIRISS Sensitivity and Stability for Transiting Exoplanet Observations</td><td>59774.8541666</td><td>COM</td><td>PUBLIC</td><td>False</td><td>85700141</td><td>335565664</td></tr>\n",
       "<tr><td>science</td><td>JWST</td><td>CALJWST</td><td>NIRISS/SOSS</td><td>JWST</td><td>CLEAR;GR700XD</td><td>Infrared</td><td>HAT-P-14</td><td>Star; Exoplanet Systems; Exoplanets; F dwarfs; F stars</td><td>--</td><td>jw01541001001_02101_00002-seg001_nis</td><td>260.1161771627305</td><td>38.24215651192892</td><td>1541</td><td>Espinoza, Nestor</td><td>image</td><td>2</td><td>59738.26208069445</td><td>59738.26209122685</td><td>0.954</td><td>600.0</td><td>2800.0</td><td>NIRISS Sensitivity and Stability for Transiting Exoplanet Observations</td><td>59774.8541666</td><td>COM</td><td>PUBLIC</td><td>False</td><td>85700160</td><td>335565688</td></tr>\n",
       "<tr><td>science</td><td>JWST</td><td>CALJWST</td><td>NIRISS/SOSS</td><td>JWST</td><td>CLEAR;GR700XD</td><td>Infrared</td><td>HAT-P-14</td><td>Star; Exoplanet Systems; Exoplanets; F dwarfs; F stars</td><td>--</td><td>jw01541001001_02101_00001-seg001_nis</td><td>260.1161771627287</td><td>38.24215651193334</td><td>1541</td><td>Espinoza, Nestor</td><td>image</td><td>2</td><td>59738.26121625</td><td>59738.26122678241</td><td>0.954</td><td>600.0</td><td>2800.0</td><td>NIRISS Sensitivity and Stability for Transiting Exoplanet Observations</td><td>59774.8541666</td><td>COM</td><td>PUBLIC</td><td>False</td><td>85700178</td><td>335565712</td></tr>\n",
       "<tr><td>science</td><td>JWST</td><td>CALJWST</td><td>NIRISS/SOSS</td><td>JWST</td><td>CLEAR;GR700XD</td><td>Infrared</td><td>HAT-P-14</td><td>Star; Exoplanet Systems; Exoplanets; F dwarfs; F stars</td><td>--</td><td>jw01541001001_04101_00001-seg003_nis</td><td>260.1161771630844</td><td>38.24215651109613</td><td>1541</td><td>Espinoza, Nestor</td><td>spectrum</td><td>2</td><td>59738.29788028935</td><td>59738.55248649306</td><td>18855.408</td><td>600.0</td><td>2800.0</td><td>NIRISS Sensitivity and Stability for Transiting Exoplanet Observations</td><td>59774.8541666</td><td>COM</td><td>PUBLIC</td><td>False</td><td>85700237</td><td>335565746</td></tr>\n",
       "<tr><td>science</td><td>JWST</td><td>CALJWST</td><td>NIRISS/SOSS</td><td>JWST</td><td>CLEAR;GR700XD</td><td>Infrared</td><td>HAT-P-14</td><td>--</td><td>--</td><td>jw01541001001_04101_00001-seg002_nis</td><td>260.1161736742332</td><td>38.24216472053897</td><td>1541</td><td>Espinoza, Nestor</td><td>spectrum</td><td>2</td><td>59738.29788028935</td><td>59738.55248649306</td><td>18855.408</td><td>600.0</td><td>2800.0</td><td>NIRISS Sensitivity and Stability for Transiting Exoplanet Observations</td><td>59774.8541666</td><td>COM</td><td>PUBLIC</td><td>False</td><td>85700224</td><td>335565788</td></tr>\n",
       "<tr><td>science</td><td>JWST</td><td>CALJWST</td><td>NIRISS/SOSS</td><td>JWST</td><td>CLEAR;GR700XD</td><td>Infrared</td><td>HAT-P-14</td><td>Star; Exoplanet Systems; Exoplanets; F dwarfs; F stars</td><td>--</td><td>jw01541001001_04102_00001-seg001_nis</td><td>260.1161771633686</td><td>38.24215651042748</td><td>1541</td><td>Espinoza, Nestor</td><td>image</td><td>2</td><td>59738.55390866898</td><td>59738.55835982639</td><td>329.64</td><td>600.0</td><td>2800.0</td><td>NIRISS Sensitivity and Stability for Transiting Exoplanet Observations</td><td>59774.8541666</td><td>COM</td><td>PUBLIC</td><td>False</td><td>85700205</td><td>335565819</td></tr>\n",
       "<tr><td>science</td><td>JWST</td><td>CALJWST</td><td>NIRISS/SOSS</td><td>JWST</td><td>CLEAR;GR700XD</td><td>Infrared</td><td>CD-38-2551</td><td>Star; G stars</td><td>--</td><td>jw02113-o005_t001_niriss_clear-gr700xd-substrip256</td><td>94.33630544540856</td><td>-38.32344481007381</td><td>2113</td><td>Espinoza, Nestor</td><td>spectrum</td><td>3</td><td>60215.75685262732</td><td>60216.25049009259</td><td>32810.168</td><td>600.0</td><td>2800.0</td><td>Exploring the morning and evening limbs of a transiting exoplanet</td><td>60582.96342588</td><td>GO</td><td>EXCLUSIVE_ACCESS</td><td>False</td><td>188165781</td><td>340693902</td></tr>\n",
       "<tr><td>science</td><td>JWST</td><td>CALJWST</td><td>NIRISS/SOSS</td><td>JWST</td><td>CLEAR;GR700XD</td><td>Infrared</td><td>CD-38-2551</td><td>Star; G stars</td><td>--</td><td>jw02113005001_04103_00001-seg001_nis</td><td>94.33630544130956</td><td>-38.32344481509817</td><td>2113</td><td>Espinoza, Nestor</td><td>image</td><td>2</td><td>60216.2528283912</td><td>60216.25759748842</td><td>329.64</td><td>600.0</td><td>2800.0</td><td>Exploring the morning and evening limbs of a transiting exoplanet</td><td>60582.57626142</td><td>GO</td><td>EXCLUSIVE_ACCESS</td><td>False</td><td>178895888</td><td>340696498</td></tr>\n",
       "<tr><td>science</td><td>JWST</td><td>CALJWST</td><td>NIRISS/SOSS</td><td>JWST</td><td>CLEAR;GR700XD</td><td>Infrared</td><td>CD-38-2551</td><td>Star; G stars</td><td>--</td><td>jw02113005001_04101_00001-seg001_nis</td><td>94.33630544945105</td><td>-38.3234448051187</td><td>2113</td><td>Espinoza, Nestor</td><td>spectrum</td><td>2</td><td>60215.77435597222</td><td>60215.77448314815</td><td>5.494</td><td>600.0</td><td>2800.0</td><td>Exploring the morning and evening limbs of a transiting exoplanet</td><td>60582.58410871</td><td>GO</td><td>EXCLUSIVE_ACCESS</td><td>False</td><td>178895938</td><td>340696553</td></tr>\n",
       "</table></div>"
      ],
      "text/plain": [
       "<Table masked=True length=94>\n",
       "intentType obs_collection provenance_name ... mtFlag   obsid     objID  \n",
       "   str7         str4            str7      ...  bool     str9      str9  \n",
       "---------- -------------- --------------- ... ------ --------- ---------\n",
       "   science           JWST         CALJWST ...  False 117933676 317525309\n",
       "   science           JWST         CALJWST ...  False 117933629 317525330\n",
       "   science           JWST         CALJWST ...  False 117933623 317525334\n",
       "   science           JWST         CALJWST ...  False 117933684 317525350\n",
       "   science           JWST         CALJWST ...  False 117933677 317525361\n",
       "   science           JWST         CALJWST ...  False 117933631 317525364\n",
       "   science           JWST         CALJWST ...  False 117933685 317525369\n",
       "   science           JWST         CALJWST ...  False 117933632 317525397\n",
       "   science           JWST         CALJWST ...  False 117933622 317525399\n",
       "   science           JWST         CALJWST ...  False 117933686 317525416\n",
       "       ...            ...             ... ...    ...       ...       ...\n",
       "   science           JWST         CALJWST ...  False  85700117 335565636\n",
       "   science           JWST         CALJWST ...  False  85700141 335565664\n",
       "   science           JWST         CALJWST ...  False  85700160 335565688\n",
       "   science           JWST         CALJWST ...  False  85700178 335565712\n",
       "   science           JWST         CALJWST ...  False  85700237 335565746\n",
       "   science           JWST         CALJWST ...  False  85700224 335565788\n",
       "   science           JWST         CALJWST ...  False  85700205 335565819\n",
       "   science           JWST         CALJWST ...  False 188165781 340693902\n",
       "   science           JWST         CALJWST ...  False 178895888 340696498\n",
       "   science           JWST         CALJWST ...  False 178895938 340696553"
      ]
     },
     "execution_count": 3,
     "metadata": {},
     "output_type": "execute_result"
    }
   ],
   "source": [
    "observations = Observations.query_criteria(proposal_pi=\"Espinoza, Nestor\",\n",
    "                                           instrument_name=\"NIRISS*\")\n",
    "observations"
   ]
  },
  {
   "cell_type": "markdown",
   "id": "3eb7c273",
   "metadata": {},
   "source": [
    "Our query returned many NIRISS observations led by the PI Dr. Espinoza. Let's get all the unique values under the `instrument_name` column to see what our `*` wildcard picked up."
   ]
  },
  {
   "cell_type": "code",
   "execution_count": 4,
   "id": "ffc1b58f",
   "metadata": {
    "execution": {
     "iopub.execute_input": "2023-11-03T15:08:02.829811Z",
     "iopub.status.busy": "2023-11-03T15:08:02.829327Z",
     "iopub.status.idle": "2023-11-03T15:08:02.837480Z",
     "shell.execute_reply": "2023-11-03T15:08:02.836945Z"
    }
   },
   "outputs": [
    {
     "data": {
      "text/plain": [
       "{'NIRISS/IMAGE', 'NIRISS/SOSS'}"
      ]
     },
     "execution_count": 4,
     "metadata": {},
     "output_type": "execute_result"
    }
   ],
   "source": [
    "set(observations['instrument_name'])"
   ]
  },
  {
   "cell_type": "markdown",
   "id": "34c9e95f",
   "metadata": {},
   "source": [
    "Our observations have the advanced labeling; had we simply set `instrument_name = \"NIRISS\"`, we would have missed several observations. For more details on this advanced labeling, see the [JWST Instrument Names page](https://outerspace.stsci.edu/display/MASTDOCS/JWST+Instrument+Names)."
   ]
  },
  {
   "cell_type": "markdown",
   "id": "a08f607f",
   "metadata": {},
   "source": [
    "#### A note of caution: There is such a thing as too many wildcards\n",
    "\n",
    "You can be too generous with the wildcards, so be sure to exercise caution in their use. Too much ambiguity can lead to unintended results. Let's take a look at our example below."
   ]
  },
  {
   "cell_type": "code",
   "execution_count": 5,
   "id": "17d9194e",
   "metadata": {
    "execution": {
     "iopub.execute_input": "2023-11-03T15:08:02.840379Z",
     "iopub.status.busy": "2023-11-03T15:08:02.840034Z",
     "iopub.status.idle": "2023-11-03T15:08:03.295841Z",
     "shell.execute_reply": "2023-11-03T15:08:03.294634Z"
    },
    "scrolled": true
   },
   "outputs": [
    {
     "data": {
      "text/plain": [
       "{'NIRISS/IMAGE', 'NIRISS/SOSS', 'NIRSPEC/SLIT'}"
      ]
     },
     "execution_count": 5,
     "metadata": {},
     "output_type": "execute_result"
    }
   ],
   "source": [
    "observations = Observations.query_criteria(proposal_pi='Espinoza, Nestor',\n",
    "                                           instrument_name='NIR*') # Surely only one instrument begins with 'NIR'\n",
    "set(observations['instrument_name'])"
   ]
  },
  {
   "cell_type": "markdown",
   "id": "e019a8e2",
   "metadata": {},
   "source": [
    "This query returns `NIRSPEC/SLIT` observations in addition to the NIRISS ones, which is not what we intended."
   ]
  },
  {
   "cell_type": "markdown",
   "id": "fefa0c07",
   "metadata": {},
   "source": [
    "<a id=\"case2\"></a>\n",
    "### Case 2: Wildcard Search with `instrument_name` and `proposal_id`"
   ]
  },
  {
   "cell_type": "markdown",
   "id": "99af085a",
   "metadata": {},
   "source": [
    "Let's add an additional `string` criterion and wildcard into the mix. We'll do this with the `proposal_id` field which, despite its numeric content, is encoded as a string.\n",
    "\n",
    "Let's query for a four digit proposal/program IDs that begin with `15`."
   ]
  },
  {
   "cell_type": "code",
   "execution_count": 6,
   "id": "dd436c7d",
   "metadata": {
    "execution": {
     "iopub.execute_input": "2023-11-03T15:08:03.299382Z",
     "iopub.status.busy": "2023-11-03T15:08:03.298900Z",
     "iopub.status.idle": "2023-11-03T15:08:03.548540Z",
     "shell.execute_reply": "2023-11-03T15:08:03.547281Z"
    }
   },
   "outputs": [
    {
     "data": {
      "text/plain": [
       "({'1512', '1541'}, {'NIRISS/IMAGE', 'NIRISS/SOSS'})"
      ]
     },
     "execution_count": 6,
     "metadata": {},
     "output_type": "execute_result"
    }
   ],
   "source": [
    "observations = Observations.query_criteria(proposal_pi='Espinoza, Nestor',\n",
    "                                           instrument_name='NIRISS*',\n",
    "                                           proposal_id=['15%%']) # Only a four digit result will match this\n",
    "\n",
    "set(observations['proposal_id']), set(observations['instrument_name'])"
   ]
  },
  {
   "cell_type": "markdown",
   "id": "9fcc9102",
   "metadata": {},
   "source": [
    "<a id=\"case3\"></a>\n",
    "### Case 3: Create a Moving Target Ephemeris using MAST Observations with Wildcard Search"
   ]
  },
  {
   "cell_type": "markdown",
   "id": "c38a4cdb",
   "metadata": {},
   "source": [
    "We will be querying for image observations of Comet 67P Churyumov-Gerasimenko observed through the Hubble Space Telescope's Advanced Camera for Surveys (ACS) Wide Field Camera (WFC). This comet's name can be listed in different ways, so we will use `*` wildcards in our criteria query."
   ]
  },
  {
   "cell_type": "code",
   "execution_count": 7,
   "id": "a7cd9670",
   "metadata": {
    "execution": {
     "iopub.execute_input": "2023-11-03T15:08:03.551816Z",
     "iopub.status.busy": "2023-11-03T15:08:03.551152Z",
     "iopub.status.idle": "2023-11-03T15:08:15.542142Z",
     "shell.execute_reply": "2023-11-03T15:08:15.540948Z"
    }
   },
   "outputs": [
    {
     "name": "stdout",
     "output_type": "stream",
     "text": [
      "140 total observations\n",
      "\n",
      "Listed target names:\n",
      "{'COMET-67P-CHURYUMOV-GERASIMENK', 'COMET-67P-CHURYUMOV-GER-UPDATE'}\n"
     ]
    }
   ],
   "source": [
    "observations = Observations.query_criteria(target_name=\"*67P*\",\n",
    "                                           instrument_name=\"ACS/WFC\")\n",
    "\n",
    "print(f\"{len(observations)} total observations\" + \"\\n\")\n",
    "print(\"Listed target names:\")\n",
    "print(set(observations['target_name']))"
   ]
  },
  {
   "cell_type": "markdown",
   "id": "5ed146c3",
   "metadata": {},
   "source": [
    "Above there are two names we get for Comet-67P. You should exercise caution when searching on the `target_name` criteria, since this is often entered by the PI who proposed the observation and can vary from person to person.\n",
    "\n",
    "In the remainder of this notebook, we will construct a bare-bones ephemeris using the filtered MAST observations of this object and their metadata. We will then do some reverse engineering to query for the target based on coordinates using the ephemeris table, and hope that we get the same results back! Let's begin:\n",
    "\n",
    "For simplicity, let's work only with the `'COMET-67P-CHURYUMOV-GERASIMENK'` observations to create our ephemeris."
   ]
  },
  {
   "cell_type": "code",
   "execution_count": 8,
   "id": "a028e9e6",
   "metadata": {
    "execution": {
     "iopub.execute_input": "2023-11-03T15:08:15.545772Z",
     "iopub.status.busy": "2023-11-03T15:08:15.545415Z",
     "iopub.status.idle": "2023-11-03T15:08:15.580079Z",
     "shell.execute_reply": "2023-11-03T15:08:15.579390Z"
    },
    "scrolled": true,
    "tags": []
   },
   "outputs": [
    {
     "data": {
      "text/html": [
       "<div><i>Table masked=True length=70</i>\n",
       "<table id=\"table140312752766480\" class=\"table-striped table-bordered table-condensed\">\n",
       "<thead><tr><th>intentType</th><th>obs_collection</th><th>provenance_name</th><th>instrument_name</th><th>project</th><th>filters</th><th>wavelength_region</th><th>target_name</th><th>target_classification</th><th>sequence_number</th><th>obs_id</th><th>s_ra</th><th>s_dec</th><th>proposal_id</th><th>proposal_pi</th><th>dataproduct_type</th><th>calib_level</th><th>t_min</th><th>t_max</th><th>t_exptime</th><th>em_min</th><th>em_max</th><th>obs_title</th><th>t_obs_release</th><th>proposal_type</th><th>dataRights</th><th>mtFlag</th><th>obsid</th><th>objID</th></tr></thead>\n",
       "<thead><tr><th>str7</th><th>str3</th><th>str6</th><th>str7</th><th>str3</th><th>str12</th><th>str7</th><th>str30</th><th>str89</th><th>int64</th><th>str36</th><th>float64</th><th>float64</th><th>str5</th><th>str14</th><th>str5</th><th>int64</th><th>float64</th><th>float64</th><th>float64</th><th>float64</th><th>float64</th><th>str119</th><th>float64</th><th>str3</th><th>str6</th><th>bool</th><th>str8</th><th>str9</th></tr></thead>\n",
       "<tr><td>science</td><td>HST</td><td>CALACS</td><td>ACS/WFC</td><td>HST</td><td>F775W</td><td>Optical</td><td>COMET-67P-CHURYUMOV-GERASIMENK</td><td>COMET; COMET-67P-CHURYUMOV-GERASIMENKO WHICH IS THE PRIMARY TARGET FOR ROSETTA SPACECRAFT</td><td>--</td><td>jcis05010</td><td>290.5806735758</td><td>-27.96626079113</td><td>13863</td><td>Hines, Dean C.</td><td>image</td><td>3</td><td>56978.44466003472</td><td>56978.45073653935</td><td>300.0</td><td>690.0</td><td>860.0</td><td>Imaging Polarimetry of the 67P/Churyumov-Gerasimenko with ACS: Supporting the Rosetta Mission</td><td>57343.70451382</td><td>GO</td><td>PUBLIC</td><td>True</td><td>24839233</td><td>300630619</td></tr>\n",
       "<tr><td>science</td><td>HST</td><td>CALACS</td><td>ACS/WFC</td><td>HST</td><td>F775W</td><td>Optical</td><td>COMET-67P-CHURYUMOV-GERASIMENK</td><td>COMET; COMET-67P-CHURYUMOV-GERASIMENKO WHICH IS THE PRIMARY TARGET FOR ROSETTA SPACECRAFT</td><td>--</td><td>jcis04010</td><td>290.2735685756</td><td>-28.02183037337</td><td>13863</td><td>Hines, Dean C.</td><td>image</td><td>3</td><td>56977.44858376157</td><td>56977.454660219904</td><td>300.0</td><td>690.0</td><td>860.0</td><td>Imaging Polarimetry of the 67P/Churyumov-Gerasimenko with ACS: Supporting the Rosetta Mission</td><td>57342.8724883</td><td>GO</td><td>PUBLIC</td><td>True</td><td>24839231</td><td>300632430</td></tr>\n",
       "<tr><td>science</td><td>HST</td><td>CALACS</td><td>ACS/WFC</td><td>HST</td><td>F606W</td><td>Optical</td><td>COMET-67P-CHURYUMOV-GERASIMENK</td><td>COMET; COMET BEING ORBITED BY THE ROSETTA SPACECRAFT</td><td>--</td><td>jcz301010</td><td>148.6544847864</td><td>17.89356942054</td><td>14261</td><td>Hines, Dean C.</td><td>image</td><td>3</td><td>57305.47050170139</td><td>57305.49995790509</td><td>1868.0</td><td>470.0</td><td>720.0</td><td>Post-Perihelion Imaging Polarimetry of the 67P/Churyumov-Gerasimenko with ACS: Continued Support of the Rosetta Mission</td><td>57671.63094901</td><td>GO</td><td>PUBLIC</td><td>True</td><td>25001890</td><td>300634612</td></tr>\n",
       "<tr><td>science</td><td>HST</td><td>CALACS</td><td>ACS/WFC</td><td>HST</td><td>F606W</td><td>Optical</td><td>COMET-67P-CHURYUMOV-GERASIMENK</td><td>COMET; COMET-67P-CHURYUMOV-GERASIMENKO WHICH IS THE PRIMARY TARGET FOR ROSETTA SPACECRAFT</td><td>--</td><td>jcis01010</td><td>281.2558788729</td><td>-31.01619293249</td><td>13863</td><td>Hines, Dean C.</td><td>image</td><td>3</td><td>56887.26573422454</td><td>56887.49156755787</td><td>7200.0</td><td>470.0</td><td>720.0</td><td>Imaging Polarimetry of the 67P/Churyumov-Gerasimenko with ACS: Supporting the Rosetta Mission</td><td>57252.60829852</td><td>GO</td><td>PUBLIC</td><td>True</td><td>24839228</td><td>301750450</td></tr>\n",
       "<tr><td>science</td><td>HST</td><td>CALACS</td><td>ACS/WFC</td><td>HST</td><td>F775W</td><td>Optical</td><td>COMET-67P-CHURYUMOV-GERASIMENK</td><td>COMET; COMET-67P-CHURYUMOV-GERASIMENKO WHICH IS THE PRIMARY TARGET FOR ROSETTA SPACECRAFT</td><td>--</td><td>jcis06010</td><td>290.9112348543</td><td>-27.90621726673</td><td>13863</td><td>Hines, Dean C.</td><td>image</td><td>3</td><td>56979.505933368055</td><td>56979.51200949074</td><td>300.0</td><td>690.0</td><td>860.0</td><td>Imaging Polarimetry of the 67P/Churyumov-Gerasimenko with ACS: Supporting the Rosetta Mission</td><td>57344.94012718</td><td>GO</td><td>PUBLIC</td><td>True</td><td>24839235</td><td>300631034</td></tr>\n",
       "<tr><td>science</td><td>HST</td><td>CALACS</td><td>ACS/WFC</td><td>HST</td><td>F606W</td><td>Optical</td><td>COMET-67P-CHURYUMOV-GERASIMENK</td><td>COMET; COMET-67P-CHURYUMOV-GERASIMENKO WHICH IS THE PRIMARY TARGET FOR ROSETTA SPACECRAFT</td><td>--</td><td>jcis04020</td><td>290.2770693515</td><td>-28.02111499969</td><td>13863</td><td>Hines, Dean C.</td><td>image</td><td>3</td><td>56977.45820188658</td><td>56977.611049039355</td><td>6280.0</td><td>470.0</td><td>720.0</td><td>Imaging Polarimetry of the 67P/Churyumov-Gerasimenko with ACS: Supporting the Rosetta Mission</td><td>57342.94112256</td><td>GO</td><td>PUBLIC</td><td>True</td><td>24839232</td><td>301750132</td></tr>\n",
       "<tr><td>science</td><td>HST</td><td>CALACS</td><td>ACS/WFC</td><td>HST</td><td>F606W</td><td>Optical</td><td>COMET-67P-CHURYUMOV-GERASIMENK</td><td>COMET; COMET-67P-CHURYUMOV-GERASIMENKO WHICH IS THE PRIMARY TARGET FOR ROSETTA SPACECRAFT</td><td>--</td><td>jcis06020</td><td>290.9147892768</td><td>-27.90546497065</td><td>13863</td><td>Hines, Dean C.</td><td>image</td><td>3</td><td>56979.51550486111</td><td>56979.66734533565</td><td>6280.0</td><td>470.0</td><td>720.0</td><td>Imaging Polarimetry of the 67P/Churyumov-Gerasimenko with ACS: Supporting the Rosetta Mission</td><td>57344.94447902</td><td>GO</td><td>PUBLIC</td><td>True</td><td>24839236</td><td>302503482</td></tr>\n",
       "<tr><td>science</td><td>HST</td><td>CALACS</td><td>ACS/WFC</td><td>HST</td><td>F606W</td><td>Optical</td><td>COMET-67P-CHURYUMOV-GERASIMENK</td><td>COMET; COMET-67P-CHURYUMOV-GERASIMENKO WHICH IS THE PRIMARY TARGET FOR ROSETTA SPACECRAFT</td><td>--</td><td>jcis03010</td><td>280.9542165962</td><td>-30.99542663878</td><td>13863</td><td>Hines, Dean C.</td><td>image</td><td>3</td><td>56889.322632372685</td><td>56889.548465706015</td><td>9600.0</td><td>470.0</td><td>720.0</td><td>Imaging Polarimetry of the 67P/Churyumov-Gerasimenko with ACS: Supporting the Rosetta Mission</td><td>57254.78804398</td><td>GO</td><td>PUBLIC</td><td>True</td><td>24839230</td><td>302531385</td></tr>\n",
       "<tr><td>science</td><td>HST</td><td>CALACS</td><td>ACS/WFC</td><td>HST</td><td>F606W</td><td>Optical</td><td>COMET-67P-CHURYUMOV-GERASIMENK</td><td>COMET; COMET BEING ORBITED BY THE ROSETTA SPACECRAFT</td><td>--</td><td>jcz303010</td><td>149.386341824</td><td>17.6965860963</td><td>14261</td><td>Hines, Dean C.</td><td>image</td><td>3</td><td>57306.530825775466</td><td>57306.56028197917</td><td>1868.0</td><td>470.0</td><td>720.0</td><td>Post-Perihelion Imaging Polarimetry of the 67P/Churyumov-Gerasimenko with ACS: Continued Support of the Rosetta Mission</td><td>57672.72732635</td><td>GO</td><td>PUBLIC</td><td>True</td><td>25001892</td><td>300632709</td></tr>\n",
       "<tr><td>science</td><td>HST</td><td>CALACS</td><td>ACS/WFC</td><td>HST</td><td>F606W</td><td>Optical</td><td>COMET-67P-CHURYUMOV-GERASIMENK</td><td>COMET; COMET-67P-CHURYUMOV-GERASIMENKO WHICH IS THE PRIMARY TARGET FOR ROSETTA SPACECRAFT</td><td>--</td><td>jcis02010</td><td>281.1070302812</td><td>-31.0066887554</td><td>13863</td><td>Hines, Dean C.</td><td>image</td><td>3</td><td>56888.26101200232</td><td>56888.48685717593</td><td>9600.0</td><td>470.0</td><td>720.0</td><td>Imaging Polarimetry of the 67P/Churyumov-Gerasimenko with ACS: Supporting the Rosetta Mission</td><td>57253.60605318</td><td>GO</td><td>PUBLIC</td><td>True</td><td>24839229</td><td>302510983</td></tr>\n",
       "<tr><td>...</td><td>...</td><td>...</td><td>...</td><td>...</td><td>...</td><td>...</td><td>...</td><td>...</td><td>...</td><td>...</td><td>...</td><td>...</td><td>...</td><td>...</td><td>...</td><td>...</td><td>...</td><td>...</td><td>...</td><td>...</td><td>...</td><td>...</td><td>...</td><td>...</td><td>...</td><td>...</td><td>...</td><td>...</td></tr>\n",
       "<tr><td>science</td><td>HLA</td><td>HLA</td><td>ACS/WFC</td><td>HLA</td><td>F606WPOL60V</td><td>--</td><td>COMET-67P-CHURYUMOV-GERASIMENK</td><td>--</td><td>--</td><td>hst_13863_02_acs_wfc_f606wpol60v_02</td><td>281.1045408863173</td><td>-31.00650879708346</td><td>13863</td><td>Hines</td><td>image</td><td>2</td><td>56888.27707</td><td>56888.29098</td><td>1200.0</td><td>nan</td><td>nan</td><td>--</td><td>57253.60605318</td><td>HLA</td><td>PUBLIC</td><td>--</td><td>25981093</td><td>67948360</td></tr>\n",
       "<tr><td>science</td><td>HLA</td><td>HLA</td><td>ACS/WFC</td><td>HLA</td><td>F606WPOL120V</td><td>--</td><td>COMET-67P-CHURYUMOV-GERASIMENK</td><td>--</td><td>--</td><td>hst_13863_03_acs_wfc_f606wpol120v_03</td><td>280.95182074981915</td><td>-30.99522891426489</td><td>13863</td><td>Hines</td><td>image</td><td>2</td><td>56889.33869</td><td>56889.3526</td><td>1200.0</td><td>nan</td><td>nan</td><td>--</td><td>57254.78804398</td><td>HLA</td><td>PUBLIC</td><td>--</td><td>25981102</td><td>67948369</td></tr>\n",
       "<tr><td>science</td><td>HLA</td><td>HLA</td><td>ACS/WFC</td><td>HLA</td><td>F606WPOL0V</td><td>--</td><td>COMET-67P-CHURYUMOV-GERASIMENK</td><td>--</td><td>--</td><td>hst_13863_04_acs_wfc_f606wpol0v_02</td><td>290.3206520946842</td><td>-28.012569699591925</td><td>13863</td><td>Hines</td><td>image</td><td>2</td><td>56977.60197</td><td>56977.61106</td><td>785.0</td><td>nan</td><td>nan</td><td>--</td><td>57342.94112256</td><td>HLA</td><td>PUBLIC</td><td>--</td><td>25981109</td><td>67948376</td></tr>\n",
       "<tr><td>science</td><td>HLA</td><td>HLA</td><td>ACS/WFC</td><td>HLA</td><td>F606WPOL60V</td><td>--</td><td>COMET-67P-CHURYUMOV-GERASIMENK</td><td>--</td><td>--</td><td>hst_13863_05_acs_wfc_f606wpol60v_01</td><td>290.58421214616294</td><td>-27.965536625124344</td><td>13863</td><td>Hines</td><td>image</td><td>2</td><td>56978.45428</td><td>56978.46338</td><td>785.0</td><td>nan</td><td>nan</td><td>--</td><td>57343.75185176</td><td>HLA</td><td>PUBLIC</td><td>--</td><td>25981118</td><td>67948385</td></tr>\n",
       "<tr><td>science</td><td>HLA</td><td>HLA</td><td>ACS/WFC</td><td>HLA</td><td>F606WPOL60V</td><td>--</td><td>COMET-67P-CHURYUMOV-GERASIMENK</td><td>--</td><td>--</td><td>hst_13863_05_acs_wfc_f606wpol60v_02</td><td>290.6244321950754</td><td>-27.95757257418894</td><td>13863</td><td>Hines</td><td>image</td><td>2</td><td>56978.58567</td><td>56978.59477</td><td>785.0</td><td>nan</td><td>nan</td><td>--</td><td>57343.75185176</td><td>HLA</td><td>PUBLIC</td><td>--</td><td>25981119</td><td>67948386</td></tr>\n",
       "<tr><td>science</td><td>HLA</td><td>HLA</td><td>ACS/WFC</td><td>HLA</td><td>F606WPOL120V</td><td>--</td><td>COMET-67P-CHURYUMOV-GERASIMENK</td><td>--</td><td>--</td><td>hst_13863_06_acs_wfc_f606wpol120v_08</td><td>290.9379617431372</td><td>-27.901450058158304</td><td>13863</td><td>Hines</td><td>image</td><td>2</td><td>56979.59193</td><td>56979.60103</td><td>785.0</td><td>nan</td><td>nan</td><td>--</td><td>57344.94447902</td><td>HLA</td><td>PUBLIC</td><td>--</td><td>25981135</td><td>67948402</td></tr>\n",
       "<tr><td>science</td><td>HLA</td><td>HLA</td><td>ACS/WFC</td><td>HLA</td><td>F606WPOL120V</td><td>--</td><td>COMET-67P-CHURYUMOV-GERASIMENK</td><td>--</td><td>--</td><td>hst_13863_03_acs_wfc_f606wpol120v_04</td><td>280.94509075023745</td><td>-30.995604914482804</td><td>13863</td><td>Hines</td><td>image</td><td>2</td><td>56889.38581</td><td>56889.39972</td><td>1200.0</td><td>nan</td><td>nan</td><td>--</td><td>57254.78804398</td><td>HLA</td><td>PUBLIC</td><td>--</td><td>25981103</td><td>67948370</td></tr>\n",
       "<tr><td>science</td><td>HLA</td><td>HLA</td><td>ACS/WFC</td><td>HLA</td><td>F606WPOL60V</td><td>--</td><td>COMET-67P-CHURYUMOV-GERASIMENK</td><td>--</td><td>--</td><td>hst_13863_05_acs_wfc_f606wpol60v_08</td><td>290.62052219537316</td><td>-27.959104624398297</td><td>13863</td><td>Hines</td><td>image</td><td>2</td><td>56978.57397</td><td>56978.58307</td><td>785.0</td><td>nan</td><td>nan</td><td>--</td><td>57343.75185176</td><td>HLA</td><td>PUBLIC</td><td>--</td><td>25981125</td><td>67948392</td></tr>\n",
       "<tr><td>science</td><td>HLA</td><td>HLA</td><td>ACS/WFC</td><td>HLA</td><td>F606WPOL0V</td><td>--</td><td>COMET-67P-CHURYUMOV-GERASIMENK</td><td>--</td><td>--</td><td>hst_14261_01_acs_wfc_f606wpol0v_02</td><td>148.6544740972559</td><td>17.893565436772803</td><td>14261</td><td>Hines</td><td>image</td><td>2</td><td>57305.4705</td><td>57305.47591</td><td>467.0</td><td>nan</td><td>nan</td><td>--</td><td>57671.63094901</td><td>HLA</td><td>PUBLIC</td><td>--</td><td>26004658</td><td>67971925</td></tr>\n",
       "<tr><td>science</td><td>HLA</td><td>HLA</td><td>ACS/WFC</td><td>HLA</td><td>F606WPOL120V</td><td>--</td><td>COMET-67P-CHURYUMOV-GERASIMENK</td><td>--</td><td>--</td><td>hst_14261_03_acs_wfc_f606wpol120v_01</td><td>149.39313343193777</td><td>17.695584189165338</td><td>14261</td><td>Hines</td><td>image</td><td>2</td><td>57306.53884</td><td>57306.54426</td><td>467.0</td><td>nan</td><td>nan</td><td>--</td><td>57672.72732635</td><td>HLA</td><td>PUBLIC</td><td>--</td><td>26004665</td><td>67971932</td></tr>\n",
       "</table></div>"
      ],
      "text/plain": [
       "<Table masked=True length=70>\n",
       "intentType obs_collection provenance_name ... mtFlag  obsid     objID  \n",
       "   str7         str3            str6      ...  bool    str8      str9  \n",
       "---------- -------------- --------------- ... ------ -------- ---------\n",
       "   science            HST          CALACS ...   True 24839233 300630619\n",
       "   science            HST          CALACS ...   True 24839231 300632430\n",
       "   science            HST          CALACS ...   True 25001890 300634612\n",
       "   science            HST          CALACS ...   True 24839228 301750450\n",
       "   science            HST          CALACS ...   True 24839235 300631034\n",
       "   science            HST          CALACS ...   True 24839232 301750132\n",
       "   science            HST          CALACS ...   True 24839236 302503482\n",
       "   science            HST          CALACS ...   True 24839230 302531385\n",
       "   science            HST          CALACS ...   True 25001892 300632709\n",
       "   science            HST          CALACS ...   True 24839229 302510983\n",
       "       ...            ...             ... ...    ...      ...       ...\n",
       "   science            HLA             HLA ...     -- 25981093  67948360\n",
       "   science            HLA             HLA ...     -- 25981102  67948369\n",
       "   science            HLA             HLA ...     -- 25981109  67948376\n",
       "   science            HLA             HLA ...     -- 25981118  67948385\n",
       "   science            HLA             HLA ...     -- 25981119  67948386\n",
       "   science            HLA             HLA ...     -- 25981135  67948402\n",
       "   science            HLA             HLA ...     -- 25981103  67948370\n",
       "   science            HLA             HLA ...     -- 25981125  67948392\n",
       "   science            HLA             HLA ...     -- 26004658  67971925\n",
       "   science            HLA             HLA ...     -- 26004665  67971932"
      ]
     },
     "execution_count": 8,
     "metadata": {},
     "output_type": "execute_result"
    }
   ],
   "source": [
    "mask = observations[\"target_name\"] == \"COMET-67P-CHURYUMOV-GERASIMENK\"\n",
    "filtered_observations = observations[mask]\n",
    "filtered_observations"
   ]
  },
  {
   "cell_type": "markdown",
   "id": "ebdc42f6",
   "metadata": {},
   "source": [
    "Now that we have our filtered observations, let's sort the rows of this table based on the `t_min` criteria, which refers to the start time of the exposure in MJD."
   ]
  },
  {
   "cell_type": "code",
   "execution_count": 9,
   "id": "5198bf11",
   "metadata": {
    "execution": {
     "iopub.execute_input": "2023-11-03T15:08:15.583242Z",
     "iopub.status.busy": "2023-11-03T15:08:15.582809Z",
     "iopub.status.idle": "2023-11-03T15:08:15.597359Z",
     "shell.execute_reply": "2023-11-03T15:08:15.596778Z"
    }
   },
   "outputs": [],
   "source": [
    "filtered_observations.sort(\"t_min\")"
   ]
  },
  {
   "cell_type": "markdown",
   "id": "dc840a0a",
   "metadata": {},
   "source": [
    "Now that we've sorted our table, let's construct a basic ephemeris showing the path of our object over time (with `t_min`, or exposure start in MJD, as our time component):"
   ]
  },
  {
   "cell_type": "code",
   "execution_count": 10,
   "id": "cd4fca9a",
   "metadata": {
    "execution": {
     "iopub.execute_input": "2023-11-03T15:08:15.600107Z",
     "iopub.status.busy": "2023-11-03T15:08:15.599759Z",
     "iopub.status.idle": "2023-11-03T15:08:15.604325Z",
     "shell.execute_reply": "2023-11-03T15:08:15.603673Z"
    }
   },
   "outputs": [],
   "source": [
    "ephemeris = Table([filtered_observations[\"s_ra\"],\n",
    "                   filtered_observations[\"s_dec\"],\n",
    "                   filtered_observations[\"t_min\"]], names=(\"ra\", \"dec\", \"t_min\"))"
   ]
  },
  {
   "cell_type": "markdown",
   "id": "80b5f267",
   "metadata": {},
   "source": [
    "Let's display the contents of our ephemeris, and use it to generate a plot of the comet's path:"
   ]
  },
  {
   "cell_type": "code",
   "execution_count": 11,
   "id": "40a7aedb",
   "metadata": {
    "execution": {
     "iopub.execute_input": "2023-11-03T15:08:15.607184Z",
     "iopub.status.busy": "2023-11-03T15:08:15.606849Z",
     "iopub.status.idle": "2023-11-03T15:08:15.615443Z",
     "shell.execute_reply": "2023-11-03T15:08:15.614801Z"
    }
   },
   "outputs": [
    {
     "data": {
      "text/html": [
       "<div><i>Table length=70</i>\n",
       "<table id=\"table140312752856400\" class=\"table-striped table-bordered table-condensed\">\n",
       "<thead><tr><th>ra</th><th>dec</th><th>t_min</th></tr></thead>\n",
       "<thead><tr><th>float64</th><th>float64</th><th>float64</th></tr></thead>\n",
       "<tr><td>281.2558788729</td><td>-31.01619293249</td><td>56887.26573422454</td></tr>\n",
       "<tr><td>281.1070408364967</td><td>-31.006679797131913</td><td>56888.26101</td></tr>\n",
       "<tr><td>281.1070302812</td><td>-31.0066887554</td><td>56888.26101200232</td></tr>\n",
       "<tr><td>281.1045408863173</td><td>-31.00650879708346</td><td>56888.27707</td></tr>\n",
       "<tr><td>281.0975108367455</td><td>-31.006933797314236</td><td>56888.32419</td></tr>\n",
       "<tr><td>281.0951608865579</td><td>-31.006770747268593</td><td>56888.34025</td></tr>\n",
       "<tr><td>281.0868808868347</td><td>-31.005851797486205</td><td>56888.39054</td></tr>\n",
       "<tr><td>281.0845408866453</td><td>-31.005687797434355</td><td>56888.40661</td></tr>\n",
       "<tr><td>281.0773208868312</td><td>-31.004271747618215</td><td>56888.4569</td></tr>\n",
       "<tr><td>281.0749808366519</td><td>-31.004106747569107</td><td>56888.47296</td></tr>\n",
       "<tr><td>...</td><td>...</td><td>...</td></tr>\n",
       "<tr><td>149.02105347495342</td><td>17.795211192797524</td><td>57306.00024</td></tr>\n",
       "<tr><td>149.0210592664</td><td>17.79521475611</td><td>57306.00024725695</td></tr>\n",
       "<tr><td>149.02788342509825</td><td>17.794214142733026</td><td>57306.00826</td></tr>\n",
       "<tr><td>149.03383347531883</td><td>17.791933192580494</td><td>57306.01628</td></tr>\n",
       "<tr><td>149.0387234255141</td><td>17.789775192433133</td><td>57306.02429</td></tr>\n",
       "<tr><td>149.38633343179924</td><td>17.696582189227897</td><td>57306.53082</td></tr>\n",
       "<tr><td>149.386341824</td><td>17.6965860963</td><td>57306.530825775466</td></tr>\n",
       "<tr><td>149.39313343193777</td><td>17.695584189165338</td><td>57306.53884</td></tr>\n",
       "<tr><td>149.39905343216378</td><td>17.69330118900645</td><td>57306.54686</td></tr>\n",
       "<tr><td>149.40391343235848</td><td>17.69114218886538</td><td>57306.55487</td></tr>\n",
       "</table></div>"
      ],
      "text/plain": [
       "<Table length=70>\n",
       "        ra                 dec               t_min       \n",
       "     float64             float64            float64      \n",
       "------------------ ------------------- ------------------\n",
       "    281.2558788729     -31.01619293249  56887.26573422454\n",
       " 281.1070408364967 -31.006679797131913        56888.26101\n",
       "    281.1070302812      -31.0066887554  56888.26101200232\n",
       " 281.1045408863173  -31.00650879708346        56888.27707\n",
       " 281.0975108367455 -31.006933797314236        56888.32419\n",
       " 281.0951608865579 -31.006770747268593        56888.34025\n",
       " 281.0868808868347 -31.005851797486205        56888.39054\n",
       " 281.0845408866453 -31.005687797434355        56888.40661\n",
       " 281.0773208868312 -31.004271747618215         56888.4569\n",
       " 281.0749808366519 -31.004106747569107        56888.47296\n",
       "               ...                 ...                ...\n",
       "149.02105347495342  17.795211192797524        57306.00024\n",
       "    149.0210592664      17.79521475611  57306.00024725695\n",
       "149.02788342509825  17.794214142733026        57306.00826\n",
       "149.03383347531883  17.791933192580494        57306.01628\n",
       " 149.0387234255141  17.789775192433133        57306.02429\n",
       "149.38633343179924  17.696582189227897        57306.53082\n",
       "     149.386341824       17.6965860963 57306.530825775466\n",
       "149.39313343193777  17.695584189165338        57306.53884\n",
       "149.39905343216378   17.69330118900645        57306.54686\n",
       "149.40391343235848   17.69114218886538        57306.55487"
      ]
     },
     "execution_count": 11,
     "metadata": {},
     "output_type": "execute_result"
    }
   ],
   "source": [
    "ephemeris.sort(\"t_min\")\n",
    "ephemeris"
   ]
  },
  {
   "cell_type": "code",
   "execution_count": 12,
   "id": "29d51f19",
   "metadata": {
    "execution": {
     "iopub.execute_input": "2023-11-03T15:08:15.618660Z",
     "iopub.status.busy": "2023-11-03T15:08:15.618344Z",
     "iopub.status.idle": "2023-11-03T15:08:15.859522Z",
     "shell.execute_reply": "2023-11-03T15:08:15.858569Z"
    }
   },
   "outputs": [
    {
     "data": {
      "image/png": "[encoded data removed]",
      "text/plain": [
       "<Figure size 1200x800 with 1 Axes>"
      ]
     },
     "metadata": {},
     "output_type": "display_data"
    }
   ],
   "source": [
    "plt.figure(figsize=(12,8))\n",
    "plt.scatter(ephemeris[0:18]['ra'], ephemeris[0:18]['dec'], color='royalblue', s=200, lw=1., edgecolor='k')\n",
    "\n",
    "plt.xlabel(\"Right Ascension (deg)\", fontsize=20)\n",
    "plt.ylabel(\"Declination (deg)\", fontsize=20)\n",
    "\n",
    "plt.title(\"Sky Coordinates\", fontsize=20)\n",
    "\n",
    "plt.xticks(fontsize=15)\n",
    "plt.yticks(fontsize=15)\n",
    "plt.grid()"
   ]
  },
  {
   "cell_type": "markdown",
   "id": "78e5b531",
   "metadata": {},
   "source": [
    "You can choose to save the ephemeris table in your current working directory by running the cell below:"
   ]
  },
  {
   "cell_type": "code",
   "execution_count": 13,
   "id": "8763a7e9",
   "metadata": {
    "execution": {
     "iopub.execute_input": "2023-11-03T15:08:15.863409Z",
     "iopub.status.busy": "2023-11-03T15:08:15.862743Z",
     "iopub.status.idle": "2023-11-03T15:08:15.870348Z",
     "shell.execute_reply": "2023-11-03T15:08:15.869715Z"
    }
   },
   "outputs": [],
   "source": [
    "ephemeris.write('ephemeris-comet67p-cg.csv', format='ascii')  "
   ]
  },
  {
   "cell_type": "markdown",
   "id": "4b6fafaf",
   "metadata": {},
   "source": [
    "## Resources"
   ]
  },
  {
   "cell_type": "markdown",
   "id": "e1ce99f9",
   "metadata": {},
   "source": [
    "The following is a list of resources that were referenced throughout the tutorial, as well as some additional references that you may find useful:\n",
    "\n",
    "* [`astroquery.mast.Observation` criteria queries](https://astroquery.readthedocs.io/en/latest/mast/mast.html#observation-criteria-queries)\n",
    "* [JWST Instrument Names](https://outerspace.stsci.edu/display/MASTDOCS/JWST+Instrument+Names)"
   ]
  },
  {
   "cell_type": "markdown",
   "id": "55a71062",
   "metadata": {},
   "source": [
    "## Citations"
   ]
  },
  {
   "cell_type": "markdown",
   "id": "268da702",
   "metadata": {},
   "source": [
    "If you use any of astroquery's tools for published research, please cite the authors. Follow this link for more information about citing astroquery:\n",
    "\n",
    "* [Citing astroquery](https://github.com/astropy/astroquery/blob/main/astroquery/CITATION)"
   ]
  },
  {
   "cell_type": "markdown",
   "id": "79ab0efc",
   "metadata": {},
   "source": [
    "## About This Notebook"
   ]
  },
  {
   "cell_type": "markdown",
   "id": "bb9ce04c",
   "metadata": {},
   "source": [
    "If you have comments or questions on this notebook, please contact us through the Archive Help Desk e-mail at archive@stsci.edu. <br>\n",
    "<br>\n",
    "Author: Jenny V. Medina <br>\n",
    "Keywords: astroquery, wildcards, moving target <br>\n",
    "Last Updated: Jun 2023"
   ]
  }
 ],
 "metadata": {
  "kernelspec": {
   "display_name": "Python 3 (ipykernel)",
   "language": "python",
   "name": "python3"
  },
  "language_info": {
   "codemirror_mode": {
    "name": "ipython",
    "version": 3
   },
   "file_extension": ".py",
   "mimetype": "text/x-python",
   "name": "python",
   "nbconvert_exporter": "python",
   "pygments_lexer": "ipython3",
   "version": "3.11.6"
  }
 },
 "nbformat": 4,
 "nbformat_minor": 5
}
