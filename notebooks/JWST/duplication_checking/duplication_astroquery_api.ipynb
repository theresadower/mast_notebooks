{
 "cells": [
  {
   "cell_type": "markdown",
   "metadata": {},
   "source": [
    "# Find Existing and Planned JWST Observations"
   ]
  },
  {
   "cell_type": "markdown",
   "metadata": {},
   "source": [
    "## Introduction\n",
    "\n",
    "As with _HST, JWST_ observations that duplicate existing, planned, or approved observations will not be allowed unless investigators provide a scientific justification in their proposal and that request is approved. Consult the [JWST Duplicate Observations Policy](https://jwst-docs.stsci.edu/jwst-opportunities-and-policies/jwst-general-science-policies/jwst-duplicate-observations-policy) for details. Broadly speaking, observations you are considering might duplicate observations in the current or prior cycles if \n",
    "your target is of the same astrophysical source, or there is significant spatial overlap of fields, **and** the following apply:\n",
    "\n",
    "  * Similar imaging passband, or overlapping spectral range\n",
    "  * Similar (spectral) resolution\n",
    "  * Similar exposure depth\n",
    "\n",
    "Observations with a different scientific instrument than one you are considering *might* still duplicate if the observing configuration and capabilities are similar (e.g., NIRCam and NIRISS imaging, or NIRCam and NIRSpec spectroscopy).\n",
    "\n",
    "This notebook illustrates how to use the python package [astroquery.mast](https://astroquery.readthedocs.io/en/latest/mast/mast.html) to search the Mikulski Archive for Space Telescopes (MAST) for potential duplicate observations. "
   ]
  },
  {
   "cell_type": "markdown",
   "metadata": {},
   "source": [
    "### Special Disclaimer\n",
    "<a id=\"Disclaimer\"></a>\n",
    "\n",
    "The capabilities described here will help <em>identify</em> potential duplications between your intended JWST observations and those that have been approved, planned, or that have already executed. \n",
    "\n",
    "<div class=\"alert alert-block alert-warning\">\n",
    "\n",
    "<span style=\"color:black\">\n",
    "The complete footprint of approved (but not executed) mosaicked or parallel observations is only approximate. That is, while the primary location is reported for an observation, the exact orientation is not known until the observation is scheduled for execution. Moreover metadata in MAST about planned/approved observations may not suffice to determine whether your intended observation is a genuine duplication, particularly for slit or MOS spectroscopy. You are responsible for evaluating the details of the planned observations by using the accepted program's APT file (and/or the Aladin display in APT, as appropriate) to determine if the potential duplications are genuine.\n",
    "</span>\n",
    "</div>\n"
   ]
  },
  {
   "cell_type": "markdown",
   "metadata": {},
   "source": [
    "### Table of contents\n",
    "\n",
    "<ul>\n",
    "    <li><a href=\"#Strategy\">Strategy</a></li>\n",
    "    <li><a href=\"#Setup\">Setup</a></li>\n",
    "    <ul>\n",
    "        <li><a href=\"#Utility Routines\">Utility Routines</a></li>\n",
    "    </ul>\n",
    "    <li><a href=\"#Target/Position Queries\">Queries by Target/Position</a></li>\n",
    "    <ul>\n",
    "        <li><a href=\"#Target Search\">Search by Target Name</a></li>\n",
    "        <li><a href=\"#Moving-Target\">Single Moving Target</a></li>\n",
    "    </ul>\n",
    "    <li><a href=\"#Target-List\">Checking a List of Targets</a></li>\n",
    "    <ul>\n",
    "        <li><a href=\"#Target-CSV\">Loading Targets from CSV</a></li>\n",
    "    </ul>\n",
    "    <li><a href=\"#Evaluate-Dups\">Evaluating Potential Duplications</a></li>\n",
    "    <ul>\n",
    "        <li><a href=\"#Trappist-1\">Trappist-1</a></li>\n",
    "        <li><a href=\"#V-XX-Cha\">V* XX Cha</a></li>\n",
    "        <li><a href=\"#M-57\">M 57</a></li>\n",
    "    </ul>\n",
    "    <li><a href=\"#Appendix\">Appendix: Caveats</a></li>\n",
    "    <li><a href=\"#Resources\">Additional Resources</a></li>\n",
    "</ul>"
   ]
  },
  {
   "cell_type": "markdown",
   "metadata": {},
   "source": [
    "<a id=\"Strategy\"></a>\n",
    "## Strategy\n",
    "\n",
    "The following strategy, applied to each target or field, will identify potentially duplicative observations relatively efficiently. \n",
    "\n",
    "  1. Search for common targets or fields. If no existing or planned observation coincides with your intended target, you are done.\n",
    "  2. If there is a spatial overlap, determine if the instrument(s) and observing configurations you plan to use are the same or similar to the existing observations. If there is no commonality, you are done.\n",
    "  3. If there is spatial overlap and common instruments/configuration, determine in detail the overlap in passband/spectral coverage, and exposure depth.\n",
    "  4. If there is a likely duplication for an intended target, do one of the following:\n",
    "     - Include in your proposal a scientific case for the duplicating observation(s)\n",
    "     - Alter your intended observation(s) in a way that does not duplicate\n",
    "     - Choose a different target"
   ]
  },
  {
   "cell_type": "markdown",
   "metadata": {},
   "source": [
    "<a id=\"Setup\"></a>\n",
    "## Setup\n",
    "\n",
    "Begin by importing some essential python packages: general utilities in [astropy](https://www.astropy.org/), and query services in [astroquery.mast](https://astroquery.readthedocs.io/en/latest/mast/mast.html). "
   ]
  },
  {
   "cell_type": "code",
   "execution_count": 1,
   "metadata": {
    "execution": {
     "iopub.execute_input": "2023-08-24T14:14:49.998028Z",
     "iopub.status.busy": "2023-08-24T14:14:49.997807Z",
     "iopub.status.idle": "2023-08-24T14:14:50.006709Z",
     "shell.execute_reply": "2023-08-24T14:14:50.006025Z"
    }
   },
   "outputs": [
    {
     "data": {
      "text/html": [
       "<style>.container { width:99% !important; }</style>"
      ],
      "text/plain": [
       "<IPython.core.display.HTML object>"
      ]
     },
     "metadata": {},
     "output_type": "display_data"
    }
   ],
   "source": [
    "# Give the notebook cells more of the available width\n",
    "from IPython.display import display, HTML\n",
    "display(HTML(\"<style>.container { width:99% !important; }</style>\"))"
   ]
  },
  {
   "cell_type": "code",
   "execution_count": 2,
   "metadata": {
    "execution": {
     "iopub.execute_input": "2023-08-24T14:14:50.045536Z",
     "iopub.status.busy": "2023-08-24T14:14:50.045092Z",
     "iopub.status.idle": "2023-08-24T14:14:50.587202Z",
     "shell.execute_reply": "2023-08-24T14:14:50.586587Z"
    }
   },
   "outputs": [],
   "source": [
    "import astropy\n",
    "from astropy import table\n",
    "from astropy.table import Table, unique\n",
    "from astropy import units as u\n",
    "from astropy.coordinates import Angle\n",
    "from astroquery.mast import Mast\n",
    "from astroquery.mast import Observations\n",
    "import numpy as np"
   ]
  },
  {
   "cell_type": "markdown",
   "metadata": {},
   "source": [
    "<a id=\"Utility Routines\"></a>\n",
    "### Utility Routines\n",
    "\n",
    "The following utility routine will create URLs to the parent programs of matching observations. "
   ]
  },
  {
   "cell_type": "code",
   "execution_count": 3,
   "metadata": {
    "execution": {
     "iopub.execute_input": "2023-08-24T14:14:50.590296Z",
     "iopub.status.busy": "2023-08-24T14:14:50.589966Z",
     "iopub.status.idle": "2023-08-24T14:14:50.594349Z",
     "shell.execute_reply": "2023-08-24T14:14:50.593786Z"
    }
   },
   "outputs": [],
   "source": [
    "APT_LINK = '(http://www.stsci.edu/cgi-bin/get-proposal-info?id={}&observatory=JWST)'\n",
    "\n",
    "def get_program_URL(program_id):\n",
    "    '''\n",
    "    Generate the URL for program status information, given a program ID. \n",
    "    '''\n",
    "    #return APT_LINK.format(program_id)\n",
    "    return APT_LINK.format(program_id)"
   ]
  },
  {
   "cell_type": "markdown",
   "metadata": {},
   "source": [
    "The following utility routine will construct ranges in RA and Dec to facilitate queries in an area surrounding a given place in the sky."
   ]
  },
  {
   "cell_type": "code",
   "execution_count": 4,
   "metadata": {
    "execution": {
     "iopub.execute_input": "2023-08-24T14:14:50.596746Z",
     "iopub.status.busy": "2023-08-24T14:14:50.596389Z",
     "iopub.status.idle": "2023-08-24T14:14:50.600242Z",
     "shell.execute_reply": "2023-08-24T14:14:50.599675Z"
    }
   },
   "outputs": [],
   "source": [
    "def coord_ranges(ra, dec, extent_ra, extent_dec):\n",
    "    '''\n",
    "    Parameters\n",
    "    ----------\n",
    "    ra:         right ascension coordinate (deg)\n",
    "    dec:        declination coordinate (deg)\n",
    "    extent_ra:  spatial extent in RA (deg)\n",
    "    extent_dec: spatial extent in Dec (deg)\n",
    "    '''\n",
    "    # correct width in ra for declination\n",
    "    half_width = np.abs(extent_ra / 2. / np.cos(np.deg2rad(dec)))\n",
    "    ra_range = [ra-half_width, ra+half_width]\n",
    "\n",
    "    half_width = extent_dec / 2.\n",
    "    dec_range = [dec-half_width, dec+half_width]\n",
    "    return (ra_range, dec_range)"
   ]
  },
  {
   "cell_type": "markdown",
   "metadata": {},
   "source": [
    "<a id=\"Target/Position Queries\"></a>\n",
    "## Queries by Target/Postion\n",
    "\n",
    "All of the queries below search for JWST observations, using a search radius larger than fields of view (FoV) of JWST apertures, to allow for the possibility that the FoV may be rotated when approved-but-unexecuted observations are actually scheduled. Restrict the search to JWST by including the parameter: `obs_collection = \"JWST\"`. "
   ]
  },
  {
   "cell_type": "markdown",
   "metadata": {},
   "source": [
    "<div class=\"alert alert-block alert-warning\">\n",
    "\n",
    "<span style=\"color:black\">\n",
    "<b>Searching for source names is not recommended</b> when checking for potential duplications with fixed targets because the matches are not reliable, consistent, or complete. <i>The exception would be for matching Object names of well known solar system bodies.</i>\n",
    "\n",
    "The best approach is to use an independent source for the coordinates of your desired target. Failing that, the <b>Mast.resolve_object()</b> method will return coordinates in the ICRS reference frame, which you can use to verify whether a target name resolves to the coordinates you intend. See the <a href=\"#Appendix\">Appendix</a> for details.\n",
    "</span>\n",
    "</div>"
   ]
  },
  {
   "cell_type": "markdown",
   "metadata": {},
   "source": [
    "<a id=\"Target Search\"></a>\n",
    "### Search by Target Name\n",
    "\n",
    "This example shows how to query for a single target with a standard name, **HD 104237** which is a T-Tauri star. We first resolve the name and verify that the coordinates are correct. "
   ]
  },
  {
   "cell_type": "code",
   "execution_count": 5,
   "metadata": {
    "execution": {
     "iopub.execute_input": "2023-08-24T14:14:50.602892Z",
     "iopub.status.busy": "2023-08-24T14:14:50.602602Z",
     "iopub.status.idle": "2023-08-24T14:14:51.310304Z",
     "shell.execute_reply": "2023-08-24T14:14:51.309549Z"
    }
   },
   "outputs": [
    {
     "data": {
      "text/plain": [
       "<SkyCoord (ICRS): (ra, dec) in deg\n",
       "    (180.02119525, -78.19293492)>"
      ]
     },
     "execution_count": 5,
     "metadata": {},
     "output_type": "execute_result"
    }
   ],
   "source": [
    "# Resolve the coordinates if necessary\n",
    "coords = Mast.resolve_object('HD 104237')\n",
    "coords"
   ]
  },
  {
   "cell_type": "markdown",
   "metadata": {},
   "source": [
    "In this case the resolved coordinates agree with those in (see [Simbad](https://simbad.u-strasbg.fr/simbad/sim-basic?Ident=HD+104237&submit=SIMBAD+search)), so it is safe to execute a simple **cone search** (a search within a specified radius of a place on the sky) to find JWST existing or planned observations. \n",
    "The [astroquery.mast](https://astroquery.readthedocs.io/en/latest/mast/mast.html) package provides the method **Observations.query_criteria()** to specify the parameters for the search; provide them as key=value pairs. The full set of query parameters for this method may be found on [CAOM Field Descriptions](https://mast.stsci.edu/api/v0/_c_a_o_mfields.html). "
   ]
  },
  {
   "cell_type": "code",
   "execution_count": 6,
   "metadata": {
    "execution": {
     "iopub.execute_input": "2023-08-24T14:14:51.313798Z",
     "iopub.status.busy": "2023-08-24T14:14:51.313380Z",
     "iopub.status.idle": "2023-08-24T14:15:15.826717Z",
     "shell.execute_reply": "2023-08-24T14:15:15.826171Z"
    }
   },
   "outputs": [
    {
     "name": "stdout",
     "output_type": "stream",
     "text": [
      "Number of matching observations: 0\n"
     ]
    },
    {
     "name": "stderr",
     "output_type": "stream",
     "text": [
      "WARNING: NoResultsWarning: Query returned no results. [astroquery.mast.discovery_portal]\n"
     ]
    }
   ],
   "source": [
    "# If the coordinates are ok\n",
    "obs = Observations.query_criteria(\n",
    "        obs_collection='JWST'\n",
    "        ,objectname='HD 104237'\n",
    "        ,radius='20s'\n",
    "        )\n",
    "print('Number of matching observations: {}'.format(len(obs)))"
   ]
  },
  {
   "cell_type": "markdown",
   "metadata": {},
   "source": [
    "<div class=\"alert alert-block alert-info\">\n",
    "\n",
    "<span style=\"color:black\">\n",
    "    The number of matches is zero, so there are no potential duplications with this target.\n",
    "</span>\n",
    "</div>"
   ]
  },
  {
   "cell_type": "markdown",
   "metadata": {},
   "source": [
    "<a id=\"Moving-Target\"></a>\n",
    "### Single Moving Target\n",
    "\n",
    "Moving targets, by definition, do not lend themselves to searches by position. This kind of search is limited to a modest set of solar system bodies with recognized names. Note the use of a wildcard character (*) in case the target name includes other text."
   ]
  },
  {
   "cell_type": "code",
   "execution_count": 7,
   "metadata": {
    "execution": {
     "iopub.execute_input": "2023-08-24T14:15:15.829821Z",
     "iopub.status.busy": "2023-08-24T14:15:15.829297Z",
     "iopub.status.idle": "2023-08-24T14:15:16.064637Z",
     "shell.execute_reply": "2023-08-24T14:15:16.063868Z"
    }
   },
   "outputs": [
    {
     "name": "stdout",
     "output_type": "stream",
     "text": [
      "Number of matching observations: 28\n"
     ]
    }
   ],
   "source": [
    "obs = Observations.query_criteria(\n",
    "        target_name=\"Io*\",\n",
    "        obs_collection=\"JWST\"\n",
    "        )\n",
    "    \n",
    "print('Number of matching observations: {}'.format(len(obs)))"
   ]
  },
  {
   "cell_type": "markdown",
   "metadata": {},
   "source": [
    "There are some JWST observations of Io, including some that are planned but have not executed as of the beginning of Cy-2 (i.e., `calib_level = -1`). The details are in the returned table of results, the most essential of which can be viewed below."
   ]
  },
  {
   "cell_type": "code",
   "execution_count": 8,
   "metadata": {
    "execution": {
     "iopub.execute_input": "2023-08-24T14:15:16.067818Z",
     "iopub.status.busy": "2023-08-24T14:15:16.067275Z",
     "iopub.status.idle": "2023-08-24T14:15:16.080338Z",
     "shell.execute_reply": "2023-08-24T14:15:16.079825Z"
    }
   },
   "outputs": [
    {
     "data": {
      "text/html": [
       "<i>Table length=28</i>\n",
       "<table id=\"table140212119305296-342637\" class=\"table-striped table-bordered table-condensed\">\n",
       "<thead><tr><th>idx</th><th>target_name</th><th>instrument_name</th><th>filters</th><th>calib_level</th><th>t_exptime</th><th>proposal_id</th></tr></thead>\n",
       "<tr><td>0</td><td>IO</td><td>MIRI/IFU</td><td>--</td><td>-1</td><td>222.003</td><td>4078</td></tr>\n",
       "<tr><td>1</td><td>IO</td><td>MIRI/IFU</td><td>--</td><td>-1</td><td>222.003</td><td>4078</td></tr>\n",
       "<tr><td>2</td><td>IO</td><td>MIRI/IFU</td><td>--</td><td>-1</td><td>222.003</td><td>4078</td></tr>\n",
       "<tr><td>3</td><td>IO</td><td>MIRI/IFU</td><td>--</td><td>-1</td><td>222.003</td><td>4078</td></tr>\n",
       "<tr><td>4</td><td>IO</td><td>MIRI/IFU</td><td>--</td><td>-1</td><td>222.003</td><td>4078</td></tr>\n",
       "<tr><td>5</td><td>IO</td><td>MIRI/IFU</td><td>--</td><td>-1</td><td>222.003</td><td>4078</td></tr>\n",
       "<tr><td>6</td><td>IO</td><td>MIRI/IFU</td><td>--</td><td>-1</td><td>222.003</td><td>4078</td></tr>\n",
       "<tr><td>7</td><td>IO</td><td>MIRI/IFU</td><td>--</td><td>-1</td><td>222.003</td><td>4078</td></tr>\n",
       "<tr><td>8</td><td>IO</td><td>MIRI/IFU</td><td>--</td><td>-1</td><td>222.003</td><td>4078</td></tr>\n",
       "<tr><td>9</td><td>IO</td><td>MIRI/IFU</td><td>--</td><td>-1</td><td>222.003</td><td>4078</td></tr>\n",
       "<tr><td>10</td><td>IO</td><td>MIRI/IFU</td><td>--</td><td>-1</td><td>222.003</td><td>4078</td></tr>\n",
       "<tr><td>11</td><td>IO</td><td>MIRI/IFU</td><td>--</td><td>-1</td><td>222.003</td><td>4078</td></tr>\n",
       "<tr><td>12</td><td>IO</td><td>MIRI/IFU</td><td>--</td><td>-1</td><td>222.003</td><td>4078</td></tr>\n",
       "<tr><td>13</td><td>IO</td><td>MIRI/IFU</td><td>--</td><td>-1</td><td>222.003</td><td>4078</td></tr>\n",
       "<tr><td>14</td><td>IO</td><td>NIRISS/AMI</td><td>F430M;NRM</td><td>3</td><td>1697.4</td><td>1373</td></tr>\n",
       "<tr><td>15</td><td>IO</td><td>MIRI/IFU</td><td>CH4</td><td>3</td><td>790.8870000000001</td><td>1373</td></tr>\n",
       "<tr><td>16</td><td>IO</td><td>MIRI/IFU</td><td>CH3</td><td>3</td><td>790.8870000000001</td><td>1373</td></tr>\n",
       "<tr><td>17</td><td>IO</td><td>MIRI/IFU</td><td>CH2</td><td>3</td><td>790.8870000000001</td><td>1373</td></tr>\n",
       "<tr><td>18</td><td>IO</td><td>MIRI/IFU</td><td>CH1</td><td>3</td><td>790.8870000000001</td><td>1373</td></tr>\n",
       "<tr><td>19</td><td>IO</td><td>NIRSPEC/IFU</td><td>F170LP;G235H</td><td>3</td><td>687.152</td><td>1373</td></tr>\n",
       "<tr><td>20</td><td>IO</td><td>NIRSPEC/IFU</td><td>F290LP;G395H</td><td>3</td><td>343.576</td><td>1373</td></tr>\n",
       "<tr><td>21</td><td>IO</td><td>NIRSPEC/IFU</td><td>F290LP;G395H</td><td>3</td><td>343.576</td><td>1373</td></tr>\n",
       "<tr><td>22</td><td>IO</td><td>NIRSPEC/IFU</td><td>F170LP;G235H</td><td>3</td><td>687.152</td><td>1373</td></tr>\n",
       "<tr><td>23</td><td>IO</td><td>NIRSPEC/IFU</td><td>F100LP;G140H</td><td>3</td><td>5135.288</td><td>1373</td></tr>\n",
       "<tr><td>24</td><td>IO</td><td>NIRSPEC/IFU</td><td>F100LP;G140H</td><td>-1</td><td>583.556</td><td>1373</td></tr>\n",
       "<tr><td>25</td><td>IO</td><td>NIRSPEC/IFU</td><td>F100LP;G140H</td><td>-1</td><td>583.556</td><td>1373</td></tr>\n",
       "<tr><td>26</td><td>IO</td><td>NIRSPEC/IFU</td><td>F100LP;G140H</td><td>-1</td><td>583.556</td><td>1373</td></tr>\n",
       "<tr><td>27</td><td>IO</td><td>NIRSPEC/IFU</td><td>F100LP;G140H</td><td>-1</td><td>583.556</td><td>1373</td></tr>\n",
       "</table><style>table.dataTable {clear: both; width: auto !important; margin: 0 !important;}\n",
       ".dataTables_info, .dataTables_length, .dataTables_filter, .dataTables_paginate{\n",
       "display: inline-block; margin-right: 1em; }\n",
       ".paginate_button { margin-right: 5px; }\n",
       "</style>\n",
       "<script>\n",
       "\n",
       "var astropy_sort_num = function(a, b) {\n",
       "    var a_num = parseFloat(a);\n",
       "    var b_num = parseFloat(b);\n",
       "\n",
       "    if (isNaN(a_num) && isNaN(b_num))\n",
       "        return ((a < b) ? -1 : ((a > b) ? 1 : 0));\n",
       "    else if (!isNaN(a_num) && !isNaN(b_num))\n",
       "        return ((a_num < b_num) ? -1 : ((a_num > b_num) ? 1 : 0));\n",
       "    else\n",
       "        return isNaN(a_num) ? -1 : 1;\n",
       "}\n",
       "\n",
       "require.config({paths: {\n",
       "    datatables: 'https://cdn.datatables.net/1.10.12/js/jquery.dataTables.min'\n",
       "}});\n",
       "require([\"datatables\"], function(){\n",
       "    console.log(\"$('#table140212119305296-342637').dataTable()\");\n",
       "    \n",
       "jQuery.extend( jQuery.fn.dataTableExt.oSort, {\n",
       "    \"optionalnum-asc\": astropy_sort_num,\n",
       "    \"optionalnum-desc\": function (a,b) { return -astropy_sort_num(a, b); }\n",
       "});\n",
       "\n",
       "    $('#table140212119305296-342637').dataTable({\n",
       "        order: [],\n",
       "        pageLength: 50,\n",
       "        lengthMenu: [[10, 25, 50, 100, 500, 1000, -1], [10, 25, 50, 100, 500, 1000, 'All']],\n",
       "        pagingType: \"full_numbers\",\n",
       "        columnDefs: [{targets: [0, 4, 5], type: \"optionalnum\"}]\n",
       "    });\n",
       "});\n",
       "</script>\n"
      ],
      "text/plain": [
       "<IPython.core.display.HTML object>"
      ]
     },
     "execution_count": 8,
     "metadata": {},
     "output_type": "execute_result"
    }
   ],
   "source": [
    "out_cols = ['target_name','instrument_name','filters','calib_level','t_exptime','proposal_id']\n",
    "obs[out_cols].show_in_notebook()"
   ]
  },
  {
   "cell_type": "markdown",
   "metadata": {},
   "source": [
    "You may need to examine the specifics of the programs that obtained the observations to know whether your intended observations would duplicate. Here are the unique Program Titles and URLs for the program status pages, which may offer clues:"
   ]
  },
  {
   "cell_type": "code",
   "execution_count": 9,
   "metadata": {
    "execution": {
     "iopub.execute_input": "2023-08-24T14:15:16.082737Z",
     "iopub.status.busy": "2023-08-24T14:15:16.082436Z",
     "iopub.status.idle": "2023-08-24T14:15:16.097310Z",
     "shell.execute_reply": "2023-08-24T14:15:16.096732Z"
    },
    "scrolled": true
   },
   "outputs": [
    {
     "name": "stdout",
     "output_type": "stream",
     "text": [
      "proposal_id                                      title                                      \n",
      "----------- --------------------------------------------------------------------------------\n",
      "       1373 ERS observations of the Jovian System as a demonstration of JWST capabilities fo\n",
      "       4078 Mass-loss from Ios volcanic atmosphere: A unique synergy with the Juno Io fly-by\n",
      "proposal_id                                proposal_URL                              \n",
      "----------- -------------------------------------------------------------------------\n",
      "       1373 (http://www.stsci.edu/cgi-bin/get-proposal-info?id=1373&observatory=JWST)\n",
      "       4078 (http://www.stsci.edu/cgi-bin/get-proposal-info?id=4078&observatory=JWST)\n"
     ]
    }
   ],
   "source": [
    "obs['title'] = [x[:80] for x in obs['obs_title']]\n",
    "unique(obs['proposal_id','title']).pprint(max_width=-1)\n",
    "obs['proposal_URL'] = [get_program_URL(x) for x in obs['proposal_id']]\n",
    "unique(obs['proposal_id','proposal_URL']).pprint(max_width=-1)"
   ]
  },
  {
   "cell_type": "markdown",
   "metadata": {},
   "source": [
    "<div class=\"alert alert-block alert-warning\">\n",
    "\n",
    "<span style=\"color:black\">\n",
    "    There are images, spectra and IFU observations of this target that could conflict with your intended proposal. Proposed images in passbands that overlap the IFU data would have to be examined closely for duplication. \n",
    "</span>\n",
    "</div>"
   ]
  },
  {
   "cell_type": "markdown",
   "metadata": {},
   "source": [
    "<a id=\"Target-List\"></a>\n",
    "## Checking a List of Targets\n",
    "\n",
    "It is often useful to search for individual targets with the [MAST Portal](https://mast.stsci.edu/portal/Mashup/Clients/Mast/Portal.html) because the results are easily visualized. But it is more efficient to search over a large number of targets using astroquery.mast. "
   ]
  },
  {
   "cell_type": "markdown",
   "metadata": {},
   "source": [
    "<a id=\"Target-CSV\"></a>\n",
    "### Loading Targets from CSV\n",
    "For efficiency, make a CSV (comma-separated variable) list of your targets, one per row. The list can alternatively be read from a local file: just substitute the file name for `targ_table` in the first argument of the `Table.read()` method. The list can contain many fields, but at a minimum must contain the target name and the equitorial coordinates. \n",
    "\n",
    "The first row of the file will be interpreted as a column name in the table. <b>This is important.</b> "
   ]
  },
  {
   "cell_type": "code",
   "execution_count": 10,
   "metadata": {
    "execution": {
     "iopub.execute_input": "2023-08-24T14:15:16.099953Z",
     "iopub.status.busy": "2023-08-24T14:15:16.099652Z",
     "iopub.status.idle": "2023-08-24T14:15:16.104526Z",
     "shell.execute_reply": "2023-08-24T14:15:16.103949Z"
    }
   },
   "outputs": [],
   "source": [
    "targ_table = '''\n",
    "target_name, RA, DEC, Range, Description\n",
    "Trappist-1, 23:06:29.3684948589, -05:02:29.037301866, 20s, Exoplanet host star\n",
    "V* XX Cha, 11:11:39.559, -76:20:15.04, 20s, Variable star with debris disk\n",
    "M 31, 00:42:44.330, +41:16:07.50, 24.0m, Andromeda Galaxy\n",
    "M 57, 18:53:35.0967659112, +33:01:44.883287544, 4m, Planetary nebula\n",
    "'''\n",
    "targets = Table.read(targ_table, format='ascii.csv')"
   ]
  },
  {
   "cell_type": "markdown",
   "metadata": {},
   "source": [
    "Next, make new columns to hold the coordinates and ranges in units of degrees. "
   ]
  },
  {
   "cell_type": "code",
   "execution_count": 11,
   "metadata": {
    "execution": {
     "iopub.execute_input": "2023-08-24T14:15:16.106954Z",
     "iopub.status.busy": "2023-08-24T14:15:16.106596Z",
     "iopub.status.idle": "2023-08-24T14:15:16.115352Z",
     "shell.execute_reply": "2023-08-24T14:15:16.114783Z"
    }
   },
   "outputs": [
    {
     "data": {
      "text/html": [
       "<div><i>Table length=4</i>\n",
       "<table id=\"table140212119341328\" class=\"table-striped table-bordered table-condensed\">\n",
       "<thead><tr><th>target_name</th><th>RA</th><th>DEC</th><th>Range</th><th>Description</th><th>ra_deg</th><th>dec_deg</th><th>range_deg</th><th>N_obs</th></tr></thead>\n",
       "<thead><tr><th>str10</th><th>str19</th><th>str19</th><th>str5</th><th>str30</th><th>float64</th><th>float64</th><th>float64</th><th>int64</th></tr></thead>\n",
       "<tr><td>Trappist-1</td><td>23:06:29.3684948589</td><td>-05:02:29.037301866</td><td>20s</td><td>Exoplanet host star</td><td>346.62236872857875</td><td>-5.041399250518333</td><td>0.005555555555555556</td><td>0</td></tr>\n",
       "<tr><td>V* XX Cha</td><td>11:11:39.559</td><td>-76:20:15.04</td><td>20s</td><td>Variable star with debris disk</td><td>167.91482916666666</td><td>-76.33751111111111</td><td>0.005555555555555556</td><td>0</td></tr>\n",
       "<tr><td>M 31</td><td>00:42:44.330</td><td>+41:16:07.50</td><td>24.0m</td><td>Andromeda Galaxy</td><td>10.684708333333331</td><td>41.26875</td><td>0.4</td><td>0</td></tr>\n",
       "<tr><td>M 57</td><td>18:53:35.0967659112</td><td>+33:01:44.883287544</td><td>4m</td><td>Planetary nebula</td><td>283.39623652462996</td><td>33.029134246539996</td><td>0.06666666666666667</td><td>0</td></tr>\n",
       "</table></div>"
      ],
      "text/plain": [
       "<Table length=4>\n",
       "target_name          RA         ...      range_deg       N_obs\n",
       "   str10           str19        ...       float64        int64\n",
       "----------- ------------------- ... -------------------- -----\n",
       " Trappist-1 23:06:29.3684948589 ... 0.005555555555555556     0\n",
       "  V* XX Cha        11:11:39.559 ... 0.005555555555555556     0\n",
       "       M 31        00:42:44.330 ...                  0.4     0\n",
       "       M 57 18:53:35.0967659112 ...  0.06666666666666667     0"
      ]
     },
     "execution_count": 11,
     "metadata": {},
     "output_type": "execute_result"
    }
   ],
   "source": [
    "targets['ra_deg'] = [Angle(x+' hours').degree for x in targets['RA']]\n",
    "targets['dec_deg'] = [Angle(x+' degree').degree for x in targets['DEC']]\n",
    "targets['range_deg'] = [Angle(x).degree for x in targets['Range']]\n",
    "targets['N_obs'] = 0  # field to hold the count of matched observations \n",
    "targets"
   ]
  },
  {
   "cell_type": "markdown",
   "metadata": {},
   "source": [
    "It can save some effort to determine the number of JWST Observations that match each of your targets using the <b><code>query_criteria_count()</code></b> method. Note that the coordinate parameters must be specified as lower and upper bounds of a range (i.e., a python list), so use the `coord_ranges()` utility function.\n",
    "\n",
    "<div class=\"alert alert-block alert-info\">\n",
    "\n",
    "<span style=\"color:black\">\n",
    "It is good practice to first check the number of matching observations before fetching the results themselves, in case the number of results is very large. This is more important when querying MAST missions with a very large number of observations, such as <i>HST</i>. This type of search is typically fairly fast.\n",
    "    \n",
    "</span>\n",
    "</div>"
   ]
  },
  {
   "cell_type": "code",
   "execution_count": 12,
   "metadata": {
    "execution": {
     "iopub.execute_input": "2023-08-24T14:15:16.118332Z",
     "iopub.status.busy": "2023-08-24T14:15:16.118042Z",
     "iopub.status.idle": "2023-08-24T14:15:17.002347Z",
     "shell.execute_reply": "2023-08-24T14:15:17.001555Z"
    }
   },
   "outputs": [
    {
     "data": {
      "text/html": [
       "<i>Table length=4</i>\n",
       "<table id=\"table140212119341392-910746\" class=\"table-striped table-bordered table-condensed\">\n",
       "<thead><tr><th>idx</th><th>target_name</th><th>N_obs</th></tr></thead>\n",
       "<tr><td>0</td><td>Trappist-1</td><td>47</td></tr>\n",
       "<tr><td>1</td><td>V* XX Cha</td><td>13</td></tr>\n",
       "<tr><td>2</td><td>M 31</td><td>0</td></tr>\n",
       "<tr><td>3</td><td>M 57</td><td>147</td></tr>\n",
       "</table><style>table.dataTable {clear: both; width: auto !important; margin: 0 !important;}\n",
       ".dataTables_info, .dataTables_length, .dataTables_filter, .dataTables_paginate{\n",
       "display: inline-block; margin-right: 1em; }\n",
       ".paginate_button { margin-right: 5px; }\n",
       "</style>\n",
       "<script>\n",
       "\n",
       "var astropy_sort_num = function(a, b) {\n",
       "    var a_num = parseFloat(a);\n",
       "    var b_num = parseFloat(b);\n",
       "\n",
       "    if (isNaN(a_num) && isNaN(b_num))\n",
       "        return ((a < b) ? -1 : ((a > b) ? 1 : 0));\n",
       "    else if (!isNaN(a_num) && !isNaN(b_num))\n",
       "        return ((a_num < b_num) ? -1 : ((a_num > b_num) ? 1 : 0));\n",
       "    else\n",
       "        return isNaN(a_num) ? -1 : 1;\n",
       "}\n",
       "\n",
       "require.config({paths: {\n",
       "    datatables: 'https://cdn.datatables.net/1.10.12/js/jquery.dataTables.min'\n",
       "}});\n",
       "require([\"datatables\"], function(){\n",
       "    console.log(\"$('#table140212119341392-910746').dataTable()\");\n",
       "    \n",
       "jQuery.extend( jQuery.fn.dataTableExt.oSort, {\n",
       "    \"optionalnum-asc\": astropy_sort_num,\n",
       "    \"optionalnum-desc\": function (a,b) { return -astropy_sort_num(a, b); }\n",
       "});\n",
       "\n",
       "    $('#table140212119341392-910746').dataTable({\n",
       "        order: [],\n",
       "        pageLength: 50,\n",
       "        lengthMenu: [[10, 25, 50, 100, 500, 1000, -1], [10, 25, 50, 100, 500, 1000, 'All']],\n",
       "        pagingType: \"full_numbers\",\n",
       "        columnDefs: [{targets: [0, 2], type: \"optionalnum\"}]\n",
       "    });\n",
       "});\n",
       "</script>\n"
      ],
      "text/plain": [
       "<IPython.core.display.HTML object>"
      ]
     },
     "execution_count": 12,
     "metadata": {},
     "output_type": "execute_result"
    }
   ],
   "source": [
    "# get the counts of each target\n",
    "for t in targets:\n",
    "    (ra_range, dec_range) = coord_ranges(t['ra_deg'],t['dec_deg'], t['range_deg'], t['range_deg'])\n",
    "    t['N_obs'] = Observations.query_criteria_count(\n",
    "            obs_collection='JWST'\n",
    "            ,s_ra=ra_range\n",
    "            ,s_dec=dec_range\n",
    "            )\n",
    "\n",
    "targets['target_name','N_obs'].show_in_notebook()"
   ]
  },
  {
   "cell_type": "markdown",
   "metadata": {},
   "source": [
    "<div class=\"alert alert-block alert-info\">\n",
    "\n",
    "<span style=\"color:black\">\n",
    "For targets where no JWST Observations exist, there is no potential for duplication. \n",
    "</span>\n",
    "</div>"
   ]
  },
  {
   "cell_type": "markdown",
   "metadata": {},
   "source": [
    "<a id=\"Evaluate-Dups\"></a>\n",
    "## Evaluating Potential Duplications\n",
    "\n",
    "To examine the matching Observations for the other targets in more detail, use the <b><code>query_criteria()</code></b>\n",
    "method. "
   ]
  },
  {
   "cell_type": "code",
   "execution_count": 13,
   "metadata": {
    "execution": {
     "iopub.execute_input": "2023-08-24T14:15:17.005553Z",
     "iopub.status.busy": "2023-08-24T14:15:17.005350Z",
     "iopub.status.idle": "2023-08-24T14:15:17.818893Z",
     "shell.execute_reply": "2023-08-24T14:15:17.818228Z"
    }
   },
   "outputs": [],
   "source": [
    "targets['obs'] = None\n",
    "for t in targets:\n",
    "    if t['N_obs'] > 0:\n",
    "        (ra_range, dec_range) = coord_ranges(t['ra_deg'],t['dec_deg'], t['range_deg'], t['range_deg'])\n",
    "        t['obs'] = Observations.query_criteria(\n",
    "            obs_collection=\"JWST\"\n",
    "            ,s_ra=ra_range\n",
    "            ,s_dec=dec_range\n",
    "            )"
   ]
  },
  {
   "cell_type": "markdown",
   "metadata": {},
   "source": [
    "Targets with matching JWST Observations are examined in the following sub-sections."
   ]
  },
  {
   "cell_type": "markdown",
   "metadata": {},
   "source": [
    "<a id=\"Trappist-1\"></a>\n",
    "### Trappist-1\n",
    "\n",
    "Trappist-1 is a well known exo-planet host star. If the intended observations are timeseries spectroscopy, the search would naturally be limited to a small area of sky. There are quite a few JWST observations of this target, so it is important to examine the relevant details. "
   ]
  },
  {
   "cell_type": "code",
   "execution_count": 14,
   "metadata": {
    "execution": {
     "iopub.execute_input": "2023-08-24T14:15:17.822050Z",
     "iopub.status.busy": "2023-08-24T14:15:17.821723Z",
     "iopub.status.idle": "2023-08-24T14:15:17.838622Z",
     "shell.execute_reply": "2023-08-24T14:15:17.837620Z"
    }
   },
   "outputs": [
    {
     "data": {
      "text/html": [
       "<i>Table length=3</i>\n",
       "<table id=\"table140212118871952-294411\" class=\"table-striped table-bordered table-condensed\">\n",
       "<thead><tr><th>idx</th><th>target_name</th><th>instrument_name</th><th>filters</th><th>t_exptime</th><th>proposal_id</th></tr></thead>\n",
       "<tr><td>0</td><td>TRAPPIST-1</td><td>MIRI/IMAGE</td><td>F1500W</td><td>72540.749</td><td>3077</td></tr>\n",
       "<tr><td>1</td><td>TRAPPIST-1</td><td>MIRI/IMAGE</td><td>F1500W</td><td>135230.285</td><td>3077</td></tr>\n",
       "<tr><td>2</td><td>TRAPPIST-1B</td><td>MIRI/IMAGE</td><td>F1280W</td><td>13983.427</td><td>1279</td></tr>\n",
       "</table><style>table.dataTable {clear: both; width: auto !important; margin: 0 !important;}\n",
       ".dataTables_info, .dataTables_length, .dataTables_filter, .dataTables_paginate{\n",
       "display: inline-block; margin-right: 1em; }\n",
       ".paginate_button { margin-right: 5px; }\n",
       "</style>\n",
       "<script>\n",
       "\n",
       "var astropy_sort_num = function(a, b) {\n",
       "    var a_num = parseFloat(a);\n",
       "    var b_num = parseFloat(b);\n",
       "\n",
       "    if (isNaN(a_num) && isNaN(b_num))\n",
       "        return ((a < b) ? -1 : ((a > b) ? 1 : 0));\n",
       "    else if (!isNaN(a_num) && !isNaN(b_num))\n",
       "        return ((a_num < b_num) ? -1 : ((a_num > b_num) ? 1 : 0));\n",
       "    else\n",
       "        return isNaN(a_num) ? -1 : 1;\n",
       "}\n",
       "\n",
       "require.config({paths: {\n",
       "    datatables: 'https://cdn.datatables.net/1.10.12/js/jquery.dataTables.min'\n",
       "}});\n",
       "require([\"datatables\"], function(){\n",
       "    console.log(\"$('#table140212118871952-294411').dataTable()\");\n",
       "    \n",
       "jQuery.extend( jQuery.fn.dataTableExt.oSort, {\n",
       "    \"optionalnum-asc\": astropy_sort_num,\n",
       "    \"optionalnum-desc\": function (a,b) { return -astropy_sort_num(a, b); }\n",
       "});\n",
       "\n",
       "    $('#table140212118871952-294411').dataTable({\n",
       "        order: [],\n",
       "        pageLength: 50,\n",
       "        lengthMenu: [[10, 25, 50, 100, 500, 1000, -1], [10, 25, 50, 100, 500, 1000, 'All']],\n",
       "        pagingType: \"full_numbers\",\n",
       "        columnDefs: [{targets: [0, 4], type: \"optionalnum\"}]\n",
       "    });\n",
       "});\n",
       "</script>\n"
      ],
      "text/plain": [
       "<IPython.core.display.HTML object>"
      ]
     },
     "execution_count": 14,
     "metadata": {},
     "output_type": "execute_result"
    }
   ],
   "source": [
    "out_cols = ['target_name','instrument_name','filters','t_exptime','proposal_id']\n",
    "obs = targets[0]['obs']\n",
    "unique(obs[out_cols]).show_in_notebook()"
   ]
  },
  {
   "cell_type": "markdown",
   "metadata": {},
   "source": [
    "You will need to examine the specifics of the programs that obtained the observations to know for certain which of the 7 known exoplanets was being observed, and therefore whether your intended observations would duplicate. Here are the unique Program Titles, which may offer clues:"
   ]
  },
  {
   "cell_type": "code",
   "execution_count": 15,
   "metadata": {
    "execution": {
     "iopub.execute_input": "2023-08-24T14:15:17.840869Z",
     "iopub.status.busy": "2023-08-24T14:15:17.840677Z",
     "iopub.status.idle": "2023-08-24T14:15:17.849107Z",
     "shell.execute_reply": "2023-08-24T14:15:17.848516Z"
    }
   },
   "outputs": [
    {
     "name": "stdout",
     "output_type": "stream",
     "text": [
      "proposal_id                  title                 \n",
      "----------- ---------------------------------------\n",
      "       1279      Thermal emission from Trappist-1 b\n",
      "       3077 TRAPPIST-1 Planets: Atmospheres Or Not?\n"
     ]
    }
   ],
   "source": [
    "obs['title'] = [x[:80] for x in obs['obs_title']]\n",
    "unique(obs['proposal_id','title']).pprint(max_width=-1)"
   ]
  },
  {
   "cell_type": "markdown",
   "metadata": {},
   "source": [
    "The Program Status Pages offer the complete specifications for each existing program:"
   ]
  },
  {
   "cell_type": "code",
   "execution_count": 16,
   "metadata": {
    "execution": {
     "iopub.execute_input": "2023-08-24T14:15:17.852281Z",
     "iopub.status.busy": "2023-08-24T14:15:17.851867Z",
     "iopub.status.idle": "2023-08-24T14:15:17.860412Z",
     "shell.execute_reply": "2023-08-24T14:15:17.859828Z"
    }
   },
   "outputs": [
    {
     "name": "stdout",
     "output_type": "stream",
     "text": [
      "proposal_id                                proposal_URL                              \n",
      "----------- -------------------------------------------------------------------------\n",
      "       1279 (http://www.stsci.edu/cgi-bin/get-proposal-info?id=1279&observatory=JWST)\n",
      "       3077 (http://www.stsci.edu/cgi-bin/get-proposal-info?id=3077&observatory=JWST)\n"
     ]
    }
   ],
   "source": [
    "obs['proposal_URL'] = [get_program_URL(x) for x in obs['proposal_id']]\n",
    "unique(obs['proposal_id','proposal_URL']).pprint(max_width=-1)"
   ]
  },
  {
   "cell_type": "markdown",
   "metadata": {},
   "source": [
    "<div class=\"alert alert-block alert-warning\">\n",
    "\n",
    "<span style=\"color:black\">\n",
    "    There are both NIRISS and NIRSpec spectroscopic observations of this target that could conflict with your intended proposal. \n",
    "</span>\n",
    "</div>"
   ]
  },
  {
   "cell_type": "markdown",
   "metadata": {},
   "source": [
    "<a id=\"V-XX-Cha\"></a>\n",
    "### V* XX Cha\n",
    "\n",
    "This pre-main-sequence star has a debris disk, and might be worth a coronagraphic observation. The search area is small (20 arcsec) to exclude nearby targets."
   ]
  },
  {
   "cell_type": "code",
   "execution_count": 17,
   "metadata": {
    "execution": {
     "iopub.execute_input": "2023-08-24T14:15:17.863661Z",
     "iopub.status.busy": "2023-08-24T14:15:17.863161Z",
     "iopub.status.idle": "2023-08-24T14:15:17.879021Z",
     "shell.execute_reply": "2023-08-24T14:15:17.878454Z"
    }
   },
   "outputs": [
    {
     "data": {
      "text/html": [
       "<i>Table length=7</i>\n",
       "<table id=\"table140212119272912-834643\" class=\"table-striped table-bordered table-condensed\">\n",
       "<thead><tr><th>idx</th><th>target_name</th><th>instrument_name</th><th>filters</th><th>t_exptime</th><th>calib_level</th><th>proposal_id</th></tr></thead>\n",
       "<tr><td>0</td><td>V-XX-CHA-2</td><td>MIRI/IFU</td><td>CH1</td><td>3696.348</td><td>3</td><td>1282</td></tr>\n",
       "<tr><td>1</td><td>V-XX-CHA-2</td><td>MIRI/IFU</td><td>CH2</td><td>3696.348</td><td>3</td><td>1282</td></tr>\n",
       "<tr><td>2</td><td>V-XX-CHA-2</td><td>MIRI/IFU</td><td>CH3</td><td>3696.348</td><td>3</td><td>1282</td></tr>\n",
       "<tr><td>3</td><td>V-XX-CHA-2</td><td>MIRI/IFU</td><td>CH4</td><td>3696.348</td><td>3</td><td>1282</td></tr>\n",
       "<tr><td>4</td><td>V-XX-CHA-2</td><td>MIRI/IMAGE</td><td>F1280W</td><td>3696.348</td><td>3</td><td>1282</td></tr>\n",
       "<tr><td>5</td><td>V-XX-CHA-2</td><td>NIRSPEC/IFU</td><td>F290LP;G395H</td><td>32.21</td><td>-1</td><td>1282</td></tr>\n",
       "<tr><td>6</td><td>V-XX-CHA-2</td><td>NIRSPEC/IFU</td><td>F290LP;G395H</td><td>161.052</td><td>-1</td><td>1282</td></tr>\n",
       "</table><style>table.dataTable {clear: both; width: auto !important; margin: 0 !important;}\n",
       ".dataTables_info, .dataTables_length, .dataTables_filter, .dataTables_paginate{\n",
       "display: inline-block; margin-right: 1em; }\n",
       ".paginate_button { margin-right: 5px; }\n",
       "</style>\n",
       "<script>\n",
       "\n",
       "var astropy_sort_num = function(a, b) {\n",
       "    var a_num = parseFloat(a);\n",
       "    var b_num = parseFloat(b);\n",
       "\n",
       "    if (isNaN(a_num) && isNaN(b_num))\n",
       "        return ((a < b) ? -1 : ((a > b) ? 1 : 0));\n",
       "    else if (!isNaN(a_num) && !isNaN(b_num))\n",
       "        return ((a_num < b_num) ? -1 : ((a_num > b_num) ? 1 : 0));\n",
       "    else\n",
       "        return isNaN(a_num) ? -1 : 1;\n",
       "}\n",
       "\n",
       "require.config({paths: {\n",
       "    datatables: 'https://cdn.datatables.net/1.10.12/js/jquery.dataTables.min'\n",
       "}});\n",
       "require([\"datatables\"], function(){\n",
       "    console.log(\"$('#table140212119272912-834643').dataTable()\");\n",
       "    \n",
       "jQuery.extend( jQuery.fn.dataTableExt.oSort, {\n",
       "    \"optionalnum-asc\": astropy_sort_num,\n",
       "    \"optionalnum-desc\": function (a,b) { return -astropy_sort_num(a, b); }\n",
       "});\n",
       "\n",
       "    $('#table140212119272912-834643').dataTable({\n",
       "        order: [],\n",
       "        pageLength: 50,\n",
       "        lengthMenu: [[10, 25, 50, 100, 500, 1000, -1], [10, 25, 50, 100, 500, 1000, 'All']],\n",
       "        pagingType: \"full_numbers\",\n",
       "        columnDefs: [{targets: [0, 4, 5], type: \"optionalnum\"}]\n",
       "    });\n",
       "});\n",
       "</script>\n"
      ],
      "text/plain": [
       "<IPython.core.display.HTML object>"
      ]
     },
     "execution_count": 17,
     "metadata": {},
     "output_type": "execute_result"
    }
   ],
   "source": [
    "out_cols = ['target_name','instrument_name','filters','t_exptime','calib_level','proposal_id']\n",
    "obs = targets[1]['obs']\n",
    "unique(obs[out_cols]).show_in_notebook()"
   ]
  },
  {
   "cell_type": "markdown",
   "metadata": {},
   "source": [
    "Note that some of the observations for this target had not been observed (at the beginning of Cy-2). "
   ]
  },
  {
   "cell_type": "markdown",
   "metadata": {},
   "source": [
    "<div class=\"alert alert-block alert-info\">\n",
    "\n",
    "<span style=\"color:black\">\n",
    "While JWST spectra from MIRI and NIRSpec exist or are planned, there is no potential for duplication with a coronagraphic observation. \n",
    "</span>\n",
    "</div>"
   ]
  },
  {
   "cell_type": "markdown",
   "metadata": {},
   "source": [
    "<a id=\"M-57\"></a>\n",
    "### M 57\n",
    "\n",
    "The Ring Nebula (NGC 6720) is well observed, particularly with HST and, recently, with JWST. We searched a 4-arcmin region around the source to include potential spectral Observations in the nebular periphery. The following table shows the unique combinations of instrument configurations. "
   ]
  },
  {
   "cell_type": "code",
   "execution_count": 18,
   "metadata": {
    "execution": {
     "iopub.execute_input": "2023-08-24T14:15:17.881562Z",
     "iopub.status.busy": "2023-08-24T14:15:17.881137Z",
     "iopub.status.idle": "2023-08-24T14:15:17.899512Z",
     "shell.execute_reply": "2023-08-24T14:15:17.898869Z"
    }
   },
   "outputs": [
    {
     "data": {
      "text/html": [
       "<i>Table length=43</i>\n",
       "<table id=\"table140212119153232-939451\" class=\"table-striped table-bordered table-condensed\">\n",
       "<thead><tr><th>idx</th><th>target_name</th><th>instrument_name</th><th>filters</th><th>t_exptime</th><th>proposal_id</th></tr></thead>\n",
       "<tr><td>0</td><td>NGC6720</td><td>MIRI/IMAGE</td><td>F1000W</td><td>444.0079999999999</td><td>1558</td></tr>\n",
       "<tr><td>1</td><td>NGC6720</td><td>MIRI/IMAGE</td><td>F1130W</td><td>444.0079999999999</td><td>1558</td></tr>\n",
       "<tr><td>2</td><td>NGC6720</td><td>MIRI/IMAGE</td><td>F1280W</td><td>444.0079999999999</td><td>1558</td></tr>\n",
       "<tr><td>3</td><td>NGC6720</td><td>MIRI/IMAGE</td><td>F1500W</td><td>444.0079999999999</td><td>1558</td></tr>\n",
       "<tr><td>4</td><td>NGC6720</td><td>MIRI/IMAGE</td><td>F1800W</td><td>444.0079999999999</td><td>1558</td></tr>\n",
       "<tr><td>5</td><td>NGC6720</td><td>MIRI/IMAGE</td><td>F2100W</td><td>444.0079999999999</td><td>1558</td></tr>\n",
       "<tr><td>6</td><td>NGC6720</td><td>MIRI/IMAGE</td><td>F2550W</td><td>444.0079999999999</td><td>1558</td></tr>\n",
       "<tr><td>7</td><td>NGC6720</td><td>MIRI/IMAGE</td><td>F560W</td><td>444.0079999999999</td><td>1558</td></tr>\n",
       "<tr><td>8</td><td>NGC6720</td><td>MIRI/IMAGE</td><td>F770W</td><td>444.0079999999999</td><td>1558</td></tr>\n",
       "<tr><td>9</td><td>NGC6720</td><td>NIRCAM/IMAGE</td><td>F150W2;F162M</td><td>483.1559999999998</td><td>1558</td></tr>\n",
       "<tr><td>10</td><td>NGC6720</td><td>NIRCAM/IMAGE</td><td>F212N</td><td>483.1559999999998</td><td>1558</td></tr>\n",
       "<tr><td>11</td><td>NGC6720</td><td>NIRCAM/IMAGE</td><td>F300M</td><td>483.1559999999998</td><td>1558</td></tr>\n",
       "<tr><td>12</td><td>NGC6720</td><td>NIRCAM/IMAGE</td><td>F335M</td><td>483.1559999999998</td><td>1558</td></tr>\n",
       "<tr><td>13</td><td>NGC6720-MRS-POSITION-1</td><td>MIRI/IFU</td><td>CH1</td><td>2763.936</td><td>1558</td></tr>\n",
       "<tr><td>14</td><td>NGC6720-MRS-POSITION-1</td><td>MIRI/IFU</td><td>CH2</td><td>2763.936</td><td>1558</td></tr>\n",
       "<tr><td>15</td><td>NGC6720-MRS-POSITION-1</td><td>MIRI/IFU</td><td>CH3</td><td>2763.936</td><td>1558</td></tr>\n",
       "<tr><td>16</td><td>NGC6720-MRS-POSITION-1</td><td>MIRI/IFU</td><td>CH4</td><td>2763.936</td><td>1558</td></tr>\n",
       "<tr><td>17</td><td>NGC6720-MRS-POSITION-1</td><td>MIRI/IMAGE</td><td>F1000W</td><td>921.312</td><td>1558</td></tr>\n",
       "<tr><td>18</td><td>NGC6720-MRS-POSITION-1</td><td>MIRI/IMAGE</td><td>F1130W</td><td>921.312</td><td>1558</td></tr>\n",
       "<tr><td>19</td><td>NGC6720-MRS-POSITION-1</td><td>MIRI/IMAGE</td><td>F770W</td><td>921.312</td><td>1558</td></tr>\n",
       "<tr><td>20</td><td>NGC6720-MRS-POSITION-2</td><td>MIRI/IFU</td><td>CH1</td><td>2763.936</td><td>1558</td></tr>\n",
       "<tr><td>21</td><td>NGC6720-MRS-POSITION-2</td><td>MIRI/IFU</td><td>CH2</td><td>2763.936</td><td>1558</td></tr>\n",
       "<tr><td>22</td><td>NGC6720-MRS-POSITION-2</td><td>MIRI/IFU</td><td>CH3</td><td>2763.936</td><td>1558</td></tr>\n",
       "<tr><td>23</td><td>NGC6720-MRS-POSITION-2</td><td>MIRI/IFU</td><td>CH4</td><td>2763.936</td><td>1558</td></tr>\n",
       "<tr><td>24</td><td>NGC6720-MRS-POSITION-2</td><td>MIRI/IMAGE</td><td>F1000W</td><td>921.312</td><td>1558</td></tr>\n",
       "<tr><td>25</td><td>NGC6720-MRS-POSITION-2</td><td>MIRI/IMAGE</td><td>F1130W</td><td>921.312</td><td>1558</td></tr>\n",
       "<tr><td>26</td><td>NGC6720-MRS-POSITION-2</td><td>MIRI/IMAGE</td><td>F770W</td><td>921.312</td><td>1558</td></tr>\n",
       "<tr><td>27</td><td>NGC6720-NIRSPEC-POSITION-1</td><td>NIRSPEC/IFU</td><td>F070LP;G140M</td><td>145.889</td><td>1558</td></tr>\n",
       "<tr><td>28</td><td>NGC6720-NIRSPEC-POSITION-1</td><td>NIRSPEC/IFU</td><td>F070LP;G140M</td><td>583.556</td><td>1558</td></tr>\n",
       "<tr><td>29</td><td>NGC6720-NIRSPEC-POSITION-1</td><td>NIRSPEC/IFU</td><td>F100LP;G140M</td><td>145.889</td><td>1558</td></tr>\n",
       "<tr><td>30</td><td>NGC6720-NIRSPEC-POSITION-1</td><td>NIRSPEC/IFU</td><td>F100LP;G140M</td><td>583.556</td><td>1558</td></tr>\n",
       "<tr><td>31</td><td>NGC6720-NIRSPEC-POSITION-1</td><td>NIRSPEC/IFU</td><td>F170LP;G235M</td><td>145.889</td><td>1558</td></tr>\n",
       "<tr><td>32</td><td>NGC6720-NIRSPEC-POSITION-1</td><td>NIRSPEC/IFU</td><td>F170LP;G235M</td><td>583.556</td><td>1558</td></tr>\n",
       "<tr><td>33</td><td>NGC6720-NIRSPEC-POSITION-1</td><td>NIRSPEC/IFU</td><td>F290LP;G395M</td><td>145.889</td><td>1558</td></tr>\n",
       "<tr><td>34</td><td>NGC6720-NIRSPEC-POSITION-1</td><td>NIRSPEC/IFU</td><td>F290LP;G395M</td><td>583.556</td><td>1558</td></tr>\n",
       "<tr><td>35</td><td>NGC6720-NIRSPEC-POSITION-2</td><td>NIRSPEC/IFU</td><td>F070LP;G140M</td><td>145.889</td><td>1558</td></tr>\n",
       "<tr><td>36</td><td>NGC6720-NIRSPEC-POSITION-2</td><td>NIRSPEC/IFU</td><td>F070LP;G140M</td><td>583.556</td><td>1558</td></tr>\n",
       "<tr><td>37</td><td>NGC6720-NIRSPEC-POSITION-2</td><td>NIRSPEC/IFU</td><td>F100LP;G140M</td><td>145.889</td><td>1558</td></tr>\n",
       "<tr><td>38</td><td>NGC6720-NIRSPEC-POSITION-2</td><td>NIRSPEC/IFU</td><td>F100LP;G140M</td><td>583.556</td><td>1558</td></tr>\n",
       "<tr><td>39</td><td>NGC6720-NIRSPEC-POSITION-2</td><td>NIRSPEC/IFU</td><td>F170LP;G235M</td><td>145.889</td><td>1558</td></tr>\n",
       "<tr><td>40</td><td>NGC6720-NIRSPEC-POSITION-2</td><td>NIRSPEC/IFU</td><td>F170LP;G235M</td><td>583.556</td><td>1558</td></tr>\n",
       "<tr><td>41</td><td>NGC6720-NIRSPEC-POSITION-2</td><td>NIRSPEC/IFU</td><td>F290LP;G395M</td><td>145.889</td><td>1558</td></tr>\n",
       "<tr><td>42</td><td>NGC6720-NIRSPEC-POSITION-2</td><td>NIRSPEC/IFU</td><td>F290LP;G395M</td><td>583.556</td><td>1558</td></tr>\n",
       "</table><style>table.dataTable {clear: both; width: auto !important; margin: 0 !important;}\n",
       ".dataTables_info, .dataTables_length, .dataTables_filter, .dataTables_paginate{\n",
       "display: inline-block; margin-right: 1em; }\n",
       ".paginate_button { margin-right: 5px; }\n",
       "</style>\n",
       "<script>\n",
       "\n",
       "var astropy_sort_num = function(a, b) {\n",
       "    var a_num = parseFloat(a);\n",
       "    var b_num = parseFloat(b);\n",
       "\n",
       "    if (isNaN(a_num) && isNaN(b_num))\n",
       "        return ((a < b) ? -1 : ((a > b) ? 1 : 0));\n",
       "    else if (!isNaN(a_num) && !isNaN(b_num))\n",
       "        return ((a_num < b_num) ? -1 : ((a_num > b_num) ? 1 : 0));\n",
       "    else\n",
       "        return isNaN(a_num) ? -1 : 1;\n",
       "}\n",
       "\n",
       "require.config({paths: {\n",
       "    datatables: 'https://cdn.datatables.net/1.10.12/js/jquery.dataTables.min'\n",
       "}});\n",
       "require([\"datatables\"], function(){\n",
       "    console.log(\"$('#table140212119153232-939451').dataTable()\");\n",
       "    \n",
       "jQuery.extend( jQuery.fn.dataTableExt.oSort, {\n",
       "    \"optionalnum-asc\": astropy_sort_num,\n",
       "    \"optionalnum-desc\": function (a,b) { return -astropy_sort_num(a, b); }\n",
       "});\n",
       "\n",
       "    $('#table140212119153232-939451').dataTable({\n",
       "        order: [],\n",
       "        pageLength: 50,\n",
       "        lengthMenu: [[10, 25, 50, 100, 500, 1000, -1], [10, 25, 50, 100, 500, 1000, 'All']],\n",
       "        pagingType: \"full_numbers\",\n",
       "        columnDefs: [{targets: [0, 4], type: \"optionalnum\"}]\n",
       "    });\n",
       "});\n",
       "</script>\n"
      ],
      "text/plain": [
       "<IPython.core.display.HTML object>"
      ]
     },
     "execution_count": 18,
     "metadata": {},
     "output_type": "execute_result"
    }
   ],
   "source": [
    "out_cols = ['target_name','instrument_name','filters','t_exptime','proposal_id']\n",
    "obs = targets[3]['obs']\n",
    "unique(obs[out_cols]).show_in_notebook()"
   ]
  },
  {
   "cell_type": "markdown",
   "metadata": {},
   "source": [
    "<div class=\"alert alert-block alert-warning\">\n",
    "\n",
    "<span style=\"color:black\">\n",
    "    There are both MIRI and NIRCam images in many passbands, and MIRI and NIRSpec spectroscopic IFU Observations of this target that could conflict with the intended proposal. \n",
    "</span>\n",
    "</div>"
   ]
  },
  {
   "cell_type": "markdown",
   "metadata": {},
   "source": [
    "To retain this target it would be necessary to obtain spectra in a different location, or to use a different instrument/configuration/data-taking mode (e.g., time-series of the central star). It may be helpful to see the [footprints of these Observations](https://mast.stsci.edu/portal/Mashup/Clients/Mast/Portal.html?searchQuery=%7B%22service%22%3A%22CAOMFILTERED%22%2C%22inputText%22%3A%5B%7B%22paramName%22%3A%22obs_collection%22%2C%22niceName%22%3A%22obs_collection%22%2C%22values%22%3A%5B%22JWST%22%5D%2C%22valString%22%3A%22JWST%22%2C%22isDate%22%3Afalse%2C%22separator%22%3A%22%3B%22%2C%22facetType%22%3A%22discrete%22%2C%22displayString%22%3A%22JWST%22%7D%5D%2C%22position%22%3A%22283.39623652463%2C%2033.02913424654%2C%200.066667%22%2C%22paramsService%22%3A%22Mast.Caom.Filtered.Position%22%2C%22title%22%3A%22MAST%3A%20%20Advanced%20Search%201%22%2C%22tooltip%22%3A%22JWST%3B%20%20m%2057%20r%3D4m%3B%22%2C%22ra%22%3A283.39623652463%2C%22dec%22%3A33.02913424654%2C%22radius%22%3A0.066667%2C%22columns%22%3A%22*%22%2C%22columnsConfig%22%3A%22Mast.Caom.Cone%22%7D) in the MAST Portal, or to view the observation specifications in Program [GO-1558](https://www.stsci.edu/cgi-bin/get-proposal-info?id=1558&observatory=JWST)."
   ]
  },
  {
   "cell_type": "markdown",
   "metadata": {},
   "source": [
    "<a id=\"Appendix\"></a>\n",
    "## Appendix: Caveats"
   ]
  },
  {
   "cell_type": "markdown",
   "metadata": {},
   "source": [
    "It is possible to search MAST for individual sources by name, in one of two ways: *Object Name* or by *Target Name*. \n",
    "\n",
    "- **Object Name:** MAST invokes an astrophysical name resolver (e.g., [NED](https://ned.ipac.caltech.edu/byname) or [Simbad](https://simbad.u-strasbg.fr/simbad/sim-fid)) to look up source coordinates. Not all object names are recognized by resolvers. Also, different resolvers sometimes return substantially different coordinates; MAST will pick one of them (but not tell you which one). Sometimes the coordinates returned by the resolvers differ by substantial amounts, often because they refer to different sources.\n",
    "  - A classic case is the bright star &mu; Eri from the Bayer Greek letter system, and the star MU Eri in the general catalog of variable stars. in MAST,\n",
    "    - Searching for `* mu. eri` (or just plain `mu eri` matches **&mu; Eri** (RA = 4:45:30.15, Dec = -3:15:16.777)\n",
    "    - Searching for `V* mu eri` matches **MU Eri** (RA = 2:48:10.566, Dec = -15:18:04.03)\n",
    "- **Target Name:** This search matches to target names specified by Investigators in observing proposals to refer to sources. These are not guaranteed to match standard names for astrophysical sources, and often do not."
   ]
  },
  {
   "cell_type": "markdown",
   "metadata": {},
   "source": [
    "<div class=\"alert alert-block alert-warning\">\n",
    "\n",
    "<span style=\"color:black\">\n",
    "<b>Searching by source names is not recommended</b> when checking for potential duplications with fixed targets because the matches are not reliable, consistent, or complete. <i>The exception would be for matching Object names of well known solar system bodies.</i>\n",
    "\n",
    "The best approach is to use an independent source for the coordinates of your desired target. Failing that, the <b>Mast.resolve_object()</b> method will return coordinates in the ICRS reference frame, which you can use to verify whether a target name resolves to the coordinates you intend. See the <a href=\"#Appendix\">Appendix</a> for details.\n",
    "</span>\n",
    "</div>"
   ]
  },
  {
   "cell_type": "markdown",
   "metadata": {},
   "source": [
    "<a id=\"Resources\"></a>\n",
    "## Additional Resources\n",
    "\n",
    "* [astropy](https://docs.astropy.org/en/stable/index.html) documentation\n",
    "* [astroquery](https://astroquery.readthedocs.io/en/latest/mast/mast.html) documentation for querying MAST\n",
    "* [Queryable fields](https://mast.stsci.edu/api/v0/_c_a_o_mfields.html) in the MAST/CAOM database\n",
    "* The [MAST Portal](https://mast.stsci.edu/portal/Mashup/Clients/Mast/Portal.html) web interface"
   ]
  },
  {
   "cell_type": "markdown",
   "metadata": {},
   "source": [
    "## About this notebook\n",
    "\n",
    "This notebook was developed by Archive Sciences Branch staff. For support, please contact the Archive HelpDesk at archive@stsci.edu, or through the [JWST HelpDesk Portal](https://jwsthelp.stsci.edu). \n",
    "<img style=\"float: right;\" src=\"https://raw.githubusercontent.com/spacetelescope/notebooks/master/assets/stsci_pri_combo_mark_horizonal_white_bkgd.png\" alt=\"Space Telescope Logo\" width=\"200px\"/>\n",
    "\n",
    "**Last update:** 2023 Aug"
   ]
  },
  {
   "cell_type": "code",
   "execution_count": null,
   "metadata": {},
   "outputs": [],
   "source": []
  }
 ],
 "metadata": {
  "kernelspec": {
   "display_name": "Python 3 (ipykernel)",
   "language": "python",
   "name": "python3"
  },
  "language_info": {
   "codemirror_mode": {
    "name": "ipython",
    "version": 3
   },
   "file_extension": ".py",
   "mimetype": "text/x-python",
   "name": "python",
   "nbconvert_exporter": "python",
   "pygments_lexer": "ipython3",
   "version": "3.11.4"
  }
 },
 "nbformat": 4,
 "nbformat_minor": 4
}
