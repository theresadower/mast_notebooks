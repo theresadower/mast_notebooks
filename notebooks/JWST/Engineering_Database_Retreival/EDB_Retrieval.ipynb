{
 "cells": [
  {
   "cell_type": "markdown",
   "metadata": {},
   "source": [
    "# JWST Engineering Data Retrieval\n",
    "\n",
    "This tutorial will show you how to retrieve JWST engineeering data and use it in the context of a Python session. The [Engineering Data](https://outerspace.stsci.edu/display/MASTDOCS/Engineering+Data) chapter of the [JWST Archive Manual](https://outerspace.stsci.edu/display/MASTDOCS/JWST+Archive+Manual) describes how data from thousands of engineering telemetry points on JWST are stored in the Engineering Database in the form of timeseries. These data may be searched by means of an identifier, or **mnenomic**. \n",
    "\n",
    "Some quantities of interest require more than one mnemonic (a *tuple*) for meaningful analysis. This tutorial illustrates how to retrieve a tuple of mnenomics and visualize the result. In the following example, timeseries will be retrieved for mnemonics: `SA_ZADUCMDX` and `SA_ZADUCMDY` which are the *x-* and *y-* angles on the sky of the JWST [Fine Steering Mirror](https://jwst-docs.stsci.edu/jwst-observatory-hardware/jwst-telescope) (FSM). For more details on constructing a mnemonic, see the [Engineering Data](https://outerspace.stsci.edu/display/MASTDOCS/Engineering+Data) page.\n",
    "\n",
    "Note that this folder includes a companion script; after completing the tutorial, this offers a compact, customizable way to download the data.\n",
    "\n",
    "The workflow consists of: \n",
    "* [Setup](#Setup)\n",
    "* [Downloading Data](#Downloading-Data)\n",
    "    * [Define the attributes for the mnemonics of interest](#Define-Mnemonic-Parameters) \n",
    "    * [Construct the filenames to contain the mnemonic timeseries](#Construct-File-Names)\n",
    "    * [Call the web service to fetch the data and return files containing the timeseries](#Call-the-Webservice)\n",
    "    * [Prepare the data for analysis](#Prepare-the-Data-for-Analysis)\n",
    "* [Visualize the data](#Visualize-the-Data-Tuple)\n",
    "    * [Split the data into mini-series at time boundaries](#Identify-Subseries-in-the-Data)\n",
    "    * [Plot the timeseries](#Plot-the-Segmented-Timeseries)\n",
    "* [Additional resources](#Additional-Resources)"
   ]
  },
  {
   "cell_type": "markdown",
   "metadata": {},
   "source": [
    "# Setup\n",
    "\n",
    "Begin by importing the relevant Python libraries to retrieve data. \n",
    "\n",
    "* `os` for handling file separators, i.e. \"/\" on Unix-like machines and \"\\\\\" on Windows\n",
    "* `urllib` to complete the web request\n",
    "* `pathlib` to create a directory for the downloaded files\n",
    "* `pandas` for convenient data manipulation"
   ]
  },
  {
   "cell_type": "code",
   "execution_count": 1,
   "metadata": {
    "execution": {
     "iopub.execute_input": "2023-11-03T15:14:54.748724Z",
     "iopub.status.busy": "2023-11-03T15:14:54.748038Z",
     "iopub.status.idle": "2023-11-03T15:14:55.145465Z",
     "shell.execute_reply": "2023-11-03T15:14:55.144732Z"
    }
   },
   "outputs": [],
   "source": [
    "import os\n",
    "import urllib.error\n",
    "import urllib.request\n",
    "from pathlib import Path\n",
    "import pandas as pd"
   ]
  },
  {
   "cell_type": "markdown",
   "metadata": {},
   "source": [
    "Below is a function to connect to the EDB web service and retrieve the data files. It will be used later in this tutorial. "
   ]
  },
  {
   "cell_type": "code",
   "execution_count": 2,
   "metadata": {
    "execution": {
     "iopub.execute_input": "2023-11-03T15:14:55.149313Z",
     "iopub.status.busy": "2023-11-03T15:14:55.148756Z",
     "iopub.status.idle": "2023-11-03T15:14:55.155915Z",
     "shell.execute_reply": "2023-11-03T15:14:55.155212Z"
    }
   },
   "outputs": [],
   "source": [
    "def download_edb_datafiles(filenames, folder, prefix=''):\n",
    "    '''\n",
    "    Download filenames to directory\n",
    "    \n",
    "    Parameters\n",
    "    ----------\n",
    "    filenames : iterable\n",
    "        List of string-valued file names to contain the desired mnemonic timeseries\n",
    "    folder: str\n",
    "        Directory (relative to cwd) in which to write output files\n",
    "    prefix: str\n",
    "        Prefix in MAST server URL (blank except for developer testing)\n",
    "        \n",
    "    Returns\n",
    "    -------\n",
    "    int\n",
    "       Success status for each mnemonic retrieval\n",
    "    '''\n",
    "            \n",
    "    Path(folder).mkdir(exist_ok=True)\n",
    "    \n",
    "    urlStr = \"https://mast.stsci.edu{}/api/v0.1/Download/file?uri=mast:jwstedb/{}\"\n",
    "    status = 0\n",
    "    for fname in filenames:\n",
    "        print(\n",
    "            f\"Downloading File: mast:jwstedb/{fname}\\n\",\n",
    "            f\" To: {folder}/{fname}\",\n",
    "        )\n",
    "        url = urlStr.format(prefix,fname)\n",
    "        try:\n",
    "            urllib.request.urlretrieve(url, filename=f\"{folder}/{fname}\")\n",
    "        except urllib.error.HTTPError:\n",
    "            print(\"  ***Error downloading file***\")\n",
    "            status = 1\n",
    "    \n",
    "    return status"
   ]
  },
  {
   "cell_type": "markdown",
   "metadata": {},
   "source": [
    "# Downloading Data\n",
    "To download data, you'll need to format the request correctly. That requires defining nmemonics, naming files to match, and then calling the webservice to begin the download.\n",
    "\n",
    "## Define Mnemonic Parameters\n",
    "\n",
    "Next, define the parameters of each mnemonic of interest. The parameters are:\n",
    "* The mnenomic name\n",
    "* Start time\n",
    "* End time\n",
    "\n",
    "The start and end times are in UTC and have a \"compact\" ISO-8601 formatting: `yyyymmddThhmmss`, where the **T** is a literal character. The definitions can be stored in multiple ways: here they will be stored in a Python dictionary, which could be stored in an external `.yaml` file. In the companion script they are stored in an external `.csv` file."
   ]
  },
  {
   "cell_type": "markdown",
   "metadata": {},
   "source": [
    "Since the mnemonics of interest are a tuple, the start/end times are the same: from 00:00 to 06:00 on 2022 July 01. Define these times first, followed by the full parameter dictionary."
   ]
  },
  {
   "cell_type": "code",
   "execution_count": 3,
   "metadata": {
    "execution": {
     "iopub.execute_input": "2023-11-03T15:14:55.159469Z",
     "iopub.status.busy": "2023-11-03T15:14:55.158895Z",
     "iopub.status.idle": "2023-11-03T15:14:55.163606Z",
     "shell.execute_reply": "2023-11-03T15:14:55.162857Z"
    }
   },
   "outputs": [
    {
     "name": "stdout",
     "output_type": "stream",
     "text": [
      "SA_ZADUCMDX {'t_start': '20220701T000000', 't_end': '20220701T030000'}\n",
      "SA_ZADUCMDY {'t_start': '20220701T000000', 't_end': '20220701T030000'}\n"
     ]
    }
   ],
   "source": [
    "times = { \n",
    "         't_start': '20220701T000000',\n",
    "         't_end':   '20220701T030000'\n",
    "        }\n",
    "mnemonics = {\n",
    "            'SA_ZADUCMDX': times,\n",
    "            'SA_ZADUCMDY': times\n",
    "           }\n",
    "for m,v in mnemonics.items():\n",
    "    print(m, v)"
   ]
  },
  {
   "cell_type": "markdown",
   "metadata": {},
   "source": [
    "## Construct File Names\n",
    "\n",
    "The key to fetching data from the web service is to construct file names to contain the data for each mnemonic. The web service will parse the file names to determine how to query the engineering database and retrieve the timeseries of interest.\n",
    "\n",
    "The file names have the form: \n",
    "\n",
    "    `<mnemonic_name>-<t_start>-<t_end>.csv`\n",
    "    \n",
    "Use a dictionary comprehension to construct a list of file names; these will be passed to the webservice calling function."
   ]
  },
  {
   "cell_type": "code",
   "execution_count": 4,
   "metadata": {
    "execution": {
     "iopub.execute_input": "2023-11-03T15:14:55.251515Z",
     "iopub.status.busy": "2023-11-03T15:14:55.250989Z",
     "iopub.status.idle": "2023-11-03T15:14:55.255505Z",
     "shell.execute_reply": "2023-11-03T15:14:55.254928Z"
    }
   },
   "outputs": [
    {
     "name": "stdout",
     "output_type": "stream",
     "text": [
      "['SA_ZADUCMDX-20220701T000000-20220701T030000.csv', 'SA_ZADUCMDY-20220701T000000-20220701T030000.csv']\n"
     ]
    }
   ],
   "source": [
    "fnames = ['-'.join([m, v['t_start'], v['t_end']]) + '.csv' for m,v in mnemonics.items()]\n",
    "print(fnames)"
   ]
  },
  {
   "cell_type": "markdown",
   "metadata": {},
   "source": [
    "## Call the Webservice"
   ]
  },
  {
   "cell_type": "markdown",
   "metadata": {},
   "source": [
    "Set the (optional) output folder name prior to the webservice call. "
   ]
  },
  {
   "cell_type": "code",
   "execution_count": 5,
   "metadata": {
    "execution": {
     "iopub.execute_input": "2023-11-03T15:14:55.258832Z",
     "iopub.status.busy": "2023-11-03T15:14:55.258236Z",
     "iopub.status.idle": "2023-11-03T15:14:55.261704Z",
     "shell.execute_reply": "2023-11-03T15:14:55.261009Z"
    }
   },
   "outputs": [],
   "source": [
    "# Sub-directory where the data files will be written:\n",
    "subdir = 'edb-data'"
   ]
  },
  {
   "cell_type": "markdown",
   "metadata": {},
   "source": [
    "Now call the EDB web service. The files containing data will be written to your local storage, in the specified subdirectory. \n",
    "\n",
    "<div class=\"alert alert-block alert-info\">\n",
    "\n",
    "<span style=\"color:black\">\n",
    "    The webservice may take a long time (or timeout), depending upon the quantity of data in the timeseries within the chosen date range. The three-hour time interval in this example returns over 40,000 rows.  \n",
    "    \n",
    "</span>\n",
    "</div>"
   ]
  },
  {
   "cell_type": "code",
   "execution_count": 6,
   "metadata": {
    "execution": {
     "iopub.execute_input": "2023-11-03T15:14:55.264669Z",
     "iopub.status.busy": "2023-11-03T15:14:55.264213Z",
     "iopub.status.idle": "2023-11-03T15:15:00.784145Z",
     "shell.execute_reply": "2023-11-03T15:15:00.783378Z"
    }
   },
   "outputs": [
    {
     "name": "stdout",
     "output_type": "stream",
     "text": [
      "Downloading File: mast:jwstedb/SA_ZADUCMDX-20220701T000000-20220701T030000.csv\n",
      "  To: edb-data/SA_ZADUCMDX-20220701T000000-20220701T030000.csv\n",
      "Downloading File: mast:jwstedb/SA_ZADUCMDY-20220701T000000-20220701T030000.csv\n",
      "  To: edb-data/SA_ZADUCMDY-20220701T000000-20220701T030000.csv\n"
     ]
    }
   ],
   "source": [
    "status = download_edb_datafiles(fnames, folder=subdir)"
   ]
  },
  {
   "cell_type": "markdown",
   "metadata": {},
   "source": [
    "## Prepare the Data for Analysis\n",
    "\n",
    "Create a list of Pandas dataframes from the mnemonics data that were just written to disk. "
   ]
  },
  {
   "cell_type": "code",
   "execution_count": 7,
   "metadata": {
    "execution": {
     "iopub.execute_input": "2023-11-03T15:15:00.787661Z",
     "iopub.status.busy": "2023-11-03T15:15:00.787213Z",
     "iopub.status.idle": "2023-11-03T15:15:00.909607Z",
     "shell.execute_reply": "2023-11-03T15:15:00.908869Z"
    }
   },
   "outputs": [],
   "source": [
    "df = [pd.read_csv(subdir+os.path.sep+f) for f in fnames]"
   ]
  },
  {
   "cell_type": "markdown",
   "metadata": {},
   "source": [
    "Make sure the sizes of the dataframes are equal, and take a look at the first dataframe."
   ]
  },
  {
   "cell_type": "code",
   "execution_count": 8,
   "metadata": {
    "execution": {
     "iopub.execute_input": "2023-11-03T15:15:00.913342Z",
     "iopub.status.busy": "2023-11-03T15:15:00.912823Z",
     "iopub.status.idle": "2023-11-03T15:15:00.931739Z",
     "shell.execute_reply": "2023-11-03T15:15:00.931111Z"
    }
   },
   "outputs": [
    {
     "name": "stdout",
     "output_type": "stream",
     "text": [
      "Dataframes have the same size? True\n"
     ]
    },
    {
     "data": {
      "text/html": [
       "<div>\n",
       "<style scoped>\n",
       "    .dataframe tbody tr th:only-of-type {\n",
       "        vertical-align: middle;\n",
       "    }\n",
       "\n",
       "    .dataframe tbody tr th {\n",
       "        vertical-align: top;\n",
       "    }\n",
       "\n",
       "    .dataframe thead th {\n",
       "        text-align: right;\n",
       "    }\n",
       "</style>\n",
       "<table border=\"1\" class=\"dataframe\">\n",
       "  <thead>\n",
       "    <tr style=\"text-align: right;\">\n",
       "      <th></th>\n",
       "      <th>theTime</th>\n",
       "      <th>MJD</th>\n",
       "      <th>euvalue</th>\n",
       "      <th>sqldataType</th>\n",
       "    </tr>\n",
       "  </thead>\n",
       "  <tbody>\n",
       "    <tr>\n",
       "      <th>0</th>\n",
       "      <td>2022-06-30 23:59:59.839000</td>\n",
       "      <td>59760.999998</td>\n",
       "      <td>0.151660</td>\n",
       "      <td>float</td>\n",
       "    </tr>\n",
       "    <tr>\n",
       "      <th>1</th>\n",
       "      <td>2022-07-01 00:00:00.095000</td>\n",
       "      <td>59761.000001</td>\n",
       "      <td>0.150761</td>\n",
       "      <td>float</td>\n",
       "    </tr>\n",
       "    <tr>\n",
       "      <th>2</th>\n",
       "      <td>2022-07-01 00:00:00.351000</td>\n",
       "      <td>59761.000004</td>\n",
       "      <td>0.150312</td>\n",
       "      <td>float</td>\n",
       "    </tr>\n",
       "    <tr>\n",
       "      <th>3</th>\n",
       "      <td>2022-07-01 00:00:00.607000</td>\n",
       "      <td>59761.000007</td>\n",
       "      <td>0.149759</td>\n",
       "      <td>float</td>\n",
       "    </tr>\n",
       "    <tr>\n",
       "      <th>4</th>\n",
       "      <td>2022-07-01 00:00:00.863000</td>\n",
       "      <td>59761.000010</td>\n",
       "      <td>0.148798</td>\n",
       "      <td>float</td>\n",
       "    </tr>\n",
       "    <tr>\n",
       "      <th>...</th>\n",
       "      <td>...</td>\n",
       "      <td>...</td>\n",
       "      <td>...</td>\n",
       "      <td>...</td>\n",
       "    </tr>\n",
       "    <tr>\n",
       "      <th>42185</th>\n",
       "      <td>2022-07-01 02:59:59.189000</td>\n",
       "      <td>59761.124991</td>\n",
       "      <td>0.140328</td>\n",
       "      <td>float</td>\n",
       "    </tr>\n",
       "    <tr>\n",
       "      <th>42186</th>\n",
       "      <td>2022-07-01 02:59:59.445000</td>\n",
       "      <td>59761.124994</td>\n",
       "      <td>0.139679</td>\n",
       "      <td>float</td>\n",
       "    </tr>\n",
       "    <tr>\n",
       "      <th>42187</th>\n",
       "      <td>2022-07-01 02:59:59.701000</td>\n",
       "      <td>59761.124997</td>\n",
       "      <td>0.139530</td>\n",
       "      <td>float</td>\n",
       "    </tr>\n",
       "    <tr>\n",
       "      <th>42188</th>\n",
       "      <td>2022-07-01 02:59:59.957000</td>\n",
       "      <td>59761.125000</td>\n",
       "      <td>0.138832</td>\n",
       "      <td>float</td>\n",
       "    </tr>\n",
       "    <tr>\n",
       "      <th>42189</th>\n",
       "      <td>2022-07-01 03:00:00.213000</td>\n",
       "      <td>59761.125002</td>\n",
       "      <td>0.138384</td>\n",
       "      <td>float</td>\n",
       "    </tr>\n",
       "  </tbody>\n",
       "</table>\n",
       "<p>42190 rows × 4 columns</p>\n",
       "</div>"
      ],
      "text/plain": [
       "                          theTime           MJD   euvalue sqldataType\n",
       "0      2022-06-30 23:59:59.839000  59760.999998  0.151660       float\n",
       "1      2022-07-01 00:00:00.095000  59761.000001  0.150761       float\n",
       "2      2022-07-01 00:00:00.351000  59761.000004  0.150312       float\n",
       "3      2022-07-01 00:00:00.607000  59761.000007  0.149759       float\n",
       "4      2022-07-01 00:00:00.863000  59761.000010  0.148798       float\n",
       "...                           ...           ...       ...         ...\n",
       "42185  2022-07-01 02:59:59.189000  59761.124991  0.140328       float\n",
       "42186  2022-07-01 02:59:59.445000  59761.124994  0.139679       float\n",
       "42187  2022-07-01 02:59:59.701000  59761.124997  0.139530       float\n",
       "42188  2022-07-01 02:59:59.957000  59761.125000  0.138832       float\n",
       "42189  2022-07-01 03:00:00.213000  59761.125002  0.138384       float\n",
       "\n",
       "[42190 rows x 4 columns]"
      ]
     },
     "execution_count": 8,
     "metadata": {},
     "output_type": "execute_result"
    }
   ],
   "source": [
    "print('Dataframes have the same size? {}'.format(len(df[0]) == len(df[1])))\n",
    "df[0]"
   ]
  },
  {
   "cell_type": "markdown",
   "metadata": {},
   "source": [
    "# Visualize the Data Tuple\n",
    "\n",
    "Create an x-y plot for analysis. This is easy to do by plotting the Pandas dataframes. It is more interesting to add color to indicate successive moves of the FSM. Begin by loading a numeric and some Bokeh plotting libraries. "
   ]
  },
  {
   "cell_type": "code",
   "execution_count": 9,
   "metadata": {
    "execution": {
     "iopub.execute_input": "2023-11-03T15:15:00.935153Z",
     "iopub.status.busy": "2023-11-03T15:15:00.934603Z",
     "iopub.status.idle": "2023-11-03T15:15:01.453117Z",
     "shell.execute_reply": "2023-11-03T15:15:01.452361Z"
    }
   },
   "outputs": [
    {
     "data": {
      "text/html": [
       "<style>\n",
       "        .bk-notebook-logo {\n",
       "            display: block;\n",
       "            width: 20px;\n",
       "            height: 20px;\n",
       "            background-image: url(data:image/png;base64,iVBORw0KGgoAAAANSUhEUgAAABQAAAAUCAYAAACNiR0NAAAABHNCSVQICAgIfAhkiAAAAAlwSFlzAAALEgAACxIB0t1+/AAAABx0RVh0U29mdHdhcmUAQWRvYmUgRmlyZXdvcmtzIENTNui8sowAAAOkSURBVDiNjZRtaJVlGMd/1/08zzln5zjP1LWcU9N0NkN8m2CYjpgQYQXqSs0I84OLIC0hkEKoPtiH3gmKoiJDU7QpLgoLjLIQCpEsNJ1vqUOdO7ppbuec5+V+rj4ctwzd8IIbbi6u+8f1539dt3A78eXC7QizUF7gyV1fD1Yqg4JWz84yffhm0qkFqBogB9rM8tZdtwVsPUhWhGcFJngGeWrPzHm5oaMmkfEg1usvLFyc8jLRqDOMru7AyC8saQr7GG7f5fvDeH7Ej8CM66nIF+8yngt6HWaKh7k49Soy9nXurCi1o3qUbS3zWfrYeQDTB/Qj6kX6Ybhw4B+bOYoLKCC9H3Nu/leUTZ1JdRWkkn2ldcCamzrcf47KKXdAJllSlxAOkRgyHsGC/zRday5Qld9DyoM4/q/rUoy/CXh3jzOu3bHUVZeU+DEn8FInkPBFlu3+nW3Nw0mk6vCDiWg8CeJaxEwuHS3+z5RgY+YBR6V1Z1nxSOfoaPa4LASWxxdNp+VWTk7+4vzaou8v8PN+xo+KY2xsw6une2frhw05CTYOmQvsEhjhWjn0bmXPjpE1+kplmmkP3suftwTubK9Vq22qKmrBhpY4jvd5afdRA3wGjFAgcnTK2s4hY0/GPNIb0nErGMCRxWOOX64Z8RAC4oCXdklmEvcL8o0BfkNK4lUg9HTl+oPlQxdNo3Mg4Nv175e/1LDGzZen30MEjRUtmXSfiTVu1kK8W4txyV6BMKlbgk3lMwYCiusNy9fVfvvwMxv8Ynl6vxoByANLTWplvuj/nF9m2+PDtt1eiHPBr1oIfhCChQMBw6Aw0UulqTKZdfVvfG7VcfIqLG9bcldL/+pdWTLxLUy8Qq38heUIjh4XlzZxzQm19lLFlr8vdQ97rjZVOLf8nclzckbcD4wxXMidpX30sFd37Fv/GtwwhzhxGVAprjbg0gCAEeIgwCZyTV2Z1REEW8O4py0wsjeloKoMr6iCY6dP92H6Vw/oTyICIthibxjm/DfN9lVz8IqtqKYLUXfoKVMVQVVJOElGjrnnUt9T9wbgp8AyYKaGlqingHZU/uG2NTZSVqwHQTWkx9hxjkpWDaCg6Ckj5qebgBVbT3V3NNXMSiWSDdGV3hrtzla7J+duwPOToIg42ChPQOQjspnSlp1V+Gjdged7+8UN5CRAV7a5EdFNwCjEaBR27b3W890TE7g24NAP/mMDXRWrGoFPQI9ls/MWO2dWFAar/xcOIImbbpA3zgAAAABJRU5ErkJggg==);\n",
       "        }\n",
       "    </style>\n",
       "    <div>\n",
       "        <a href=\"https://bokeh.org\" target=\"_blank\" class=\"bk-notebook-logo\"></a>\n",
       "        <span id=\"e14977ad-c2f8-4c85-becb-36f4deeac751\">Loading BokehJS ...</span>\n",
       "    </div>\n"
      ]
     },
     "metadata": {},
     "output_type": "display_data"
    },
    {
     "data": {
      "application/javascript": [
       "(function(root) {\n",
       "  function now() {\n",
       "    return new Date();\n",
       "  }\n",
       "\n",
       "  const force = true;\n",
       "\n",
       "  if (typeof root._bokeh_onload_callbacks === \"undefined\" || force === true) {\n",
       "    root._bokeh_onload_callbacks = [];\n",
       "    root._bokeh_is_loading = undefined;\n",
       "  }\n",
       "\n",
       "const JS_MIME_TYPE = 'application/javascript';\n",
       "  const HTML_MIME_TYPE = 'text/html';\n",
       "  const EXEC_MIME_TYPE = 'application/vnd.bokehjs_exec.v0+json';\n",
       "  const CLASS_NAME = 'output_bokeh rendered_html';\n",
       "\n",
       "  /**\n",
       "   * Render data to the DOM node\n",
       "   */\n",
       "  function render(props, node) {\n",
       "    const script = document.createElement(\"script\");\n",
       "    node.appendChild(script);\n",
       "  }\n",
       "\n",
       "  /**\n",
       "   * Handle when an output is cleared or removed\n",
       "   */\n",
       "  function handleClearOutput(event, handle) {\n",
       "    function drop(id) {\n",
       "      const view = Bokeh.index.get_by_id(id)\n",
       "      if (view != null) {\n",
       "        view.model.document.clear()\n",
       "        Bokeh.index.delete(view)\n",
       "      }\n",
       "    }\n",
       "\n",
       "    const cell = handle.cell;\n",
       "\n",
       "    const id = cell.output_area._bokeh_element_id;\n",
       "    const server_id = cell.output_area._bokeh_server_id;\n",
       "\n",
       "    // Clean up Bokeh references\n",
       "    if (id != null) {\n",
       "      drop(id)\n",
       "    }\n",
       "\n",
       "    if (server_id !== undefined) {\n",
       "      // Clean up Bokeh references\n",
       "      const cmd_clean = \"from bokeh.io.state import curstate; print(curstate().uuid_to_server['\" + server_id + \"'].get_sessions()[0].document.roots[0]._id)\";\n",
       "      cell.notebook.kernel.execute(cmd_clean, {\n",
       "        iopub: {\n",
       "          output: function(msg) {\n",
       "            const id = msg.content.text.trim()\n",
       "            drop(id)\n",
       "          }\n",
       "        }\n",
       "      });\n",
       "      // Destroy server and session\n",
       "      const cmd_destroy = \"import bokeh.io.notebook as ion; ion.destroy_server('\" + server_id + \"')\";\n",
       "      cell.notebook.kernel.execute(cmd_destroy);\n",
       "    }\n",
       "  }\n",
       "\n",
       "  /**\n",
       "   * Handle when a new output is added\n",
       "   */\n",
       "  function handleAddOutput(event, handle) {\n",
       "    const output_area = handle.output_area;\n",
       "    const output = handle.output;\n",
       "\n",
       "    // limit handleAddOutput to display_data with EXEC_MIME_TYPE content only\n",
       "    if ((output.output_type != \"display_data\") || (!Object.prototype.hasOwnProperty.call(output.data, EXEC_MIME_TYPE))) {\n",
       "      return\n",
       "    }\n",
       "\n",
       "    const toinsert = output_area.element.find(\".\" + CLASS_NAME.split(' ')[0]);\n",
       "\n",
       "    if (output.metadata[EXEC_MIME_TYPE][\"id\"] !== undefined) {\n",
       "      toinsert[toinsert.length - 1].firstChild.textContent = output.data[JS_MIME_TYPE];\n",
       "      // store reference to embed id on output_area\n",
       "      output_area._bokeh_element_id = output.metadata[EXEC_MIME_TYPE][\"id\"];\n",
       "    }\n",
       "    if (output.metadata[EXEC_MIME_TYPE][\"server_id\"] !== undefined) {\n",
       "      const bk_div = document.createElement(\"div\");\n",
       "      bk_div.innerHTML = output.data[HTML_MIME_TYPE];\n",
       "      const script_attrs = bk_div.children[0].attributes;\n",
       "      for (let i = 0; i < script_attrs.length; i++) {\n",
       "        toinsert[toinsert.length - 1].firstChild.setAttribute(script_attrs[i].name, script_attrs[i].value);\n",
       "        toinsert[toinsert.length - 1].firstChild.textContent = bk_div.children[0].textContent\n",
       "      }\n",
       "      // store reference to server id on output_area\n",
       "      output_area._bokeh_server_id = output.metadata[EXEC_MIME_TYPE][\"server_id\"];\n",
       "    }\n",
       "  }\n",
       "\n",
       "  function register_renderer(events, OutputArea) {\n",
       "\n",
       "    function append_mime(data, metadata, element) {\n",
       "      // create a DOM node to render to\n",
       "      const toinsert = this.create_output_subarea(\n",
       "        metadata,\n",
       "        CLASS_NAME,\n",
       "        EXEC_MIME_TYPE\n",
       "      );\n",
       "      this.keyboard_manager.register_events(toinsert);\n",
       "      // Render to node\n",
       "      const props = {data: data, metadata: metadata[EXEC_MIME_TYPE]};\n",
       "      render(props, toinsert[toinsert.length - 1]);\n",
       "      element.append(toinsert);\n",
       "      return toinsert\n",
       "    }\n",
       "\n",
       "    /* Handle when an output is cleared or removed */\n",
       "    events.on('clear_output.CodeCell', handleClearOutput);\n",
       "    events.on('delete.Cell', handleClearOutput);\n",
       "\n",
       "    /* Handle when a new output is added */\n",
       "    events.on('output_added.OutputArea', handleAddOutput);\n",
       "\n",
       "    /**\n",
       "     * Register the mime type and append_mime function with output_area\n",
       "     */\n",
       "    OutputArea.prototype.register_mime_type(EXEC_MIME_TYPE, append_mime, {\n",
       "      /* Is output safe? */\n",
       "      safe: true,\n",
       "      /* Index of renderer in `output_area.display_order` */\n",
       "      index: 0\n",
       "    });\n",
       "  }\n",
       "\n",
       "  // register the mime type if in Jupyter Notebook environment and previously unregistered\n",
       "  if (root.Jupyter !== undefined) {\n",
       "    const events = require('base/js/events');\n",
       "    const OutputArea = require('notebook/js/outputarea').OutputArea;\n",
       "\n",
       "    if (OutputArea.prototype.mime_types().indexOf(EXEC_MIME_TYPE) == -1) {\n",
       "      register_renderer(events, OutputArea);\n",
       "    }\n",
       "  }\n",
       "  if (typeof (root._bokeh_timeout) === \"undefined\" || force === true) {\n",
       "    root._bokeh_timeout = Date.now() + 5000;\n",
       "    root._bokeh_failed_load = false;\n",
       "  }\n",
       "\n",
       "  const NB_LOAD_WARNING = {'data': {'text/html':\n",
       "     \"<div style='background-color: #fdd'>\\n\"+\n",
       "     \"<p>\\n\"+\n",
       "     \"BokehJS does not appear to have successfully loaded. If loading BokehJS from CDN, this \\n\"+\n",
       "     \"may be due to a slow or bad network connection. Possible fixes:\\n\"+\n",
       "     \"</p>\\n\"+\n",
       "     \"<ul>\\n\"+\n",
       "     \"<li>re-rerun `output_notebook()` to attempt to load from CDN again, or</li>\\n\"+\n",
       "     \"<li>use INLINE resources instead, as so:</li>\\n\"+\n",
       "     \"</ul>\\n\"+\n",
       "     \"<code>\\n\"+\n",
       "     \"from bokeh.resources import INLINE\\n\"+\n",
       "     \"output_notebook(resources=INLINE)\\n\"+\n",
       "     \"</code>\\n\"+\n",
       "     \"</div>\"}};\n",
       "\n",
       "  function display_loaded() {\n",
       "    const el = document.getElementById(\"e14977ad-c2f8-4c85-becb-36f4deeac751\");\n",
       "    if (el != null) {\n",
       "      el.textContent = \"BokehJS is loading...\";\n",
       "    }\n",
       "    if (root.Bokeh !== undefined) {\n",
       "      if (el != null) {\n",
       "        el.textContent = \"BokehJS \" + root.Bokeh.version + \" successfully loaded.\";\n",
       "      }\n",
       "    } else if (Date.now() < root._bokeh_timeout) {\n",
       "      setTimeout(display_loaded, 100)\n",
       "    }\n",
       "  }\n",
       "\n",
       "  function run_callbacks() {\n",
       "    try {\n",
       "      root._bokeh_onload_callbacks.forEach(function(callback) {\n",
       "        if (callback != null)\n",
       "          callback();\n",
       "      });\n",
       "    } finally {\n",
       "      delete root._bokeh_onload_callbacks\n",
       "    }\n",
       "    console.debug(\"Bokeh: all callbacks have finished\");\n",
       "  }\n",
       "\n",
       "  function load_libs(css_urls, js_urls, callback) {\n",
       "    if (css_urls == null) css_urls = [];\n",
       "    if (js_urls == null) js_urls = [];\n",
       "\n",
       "    root._bokeh_onload_callbacks.push(callback);\n",
       "    if (root._bokeh_is_loading > 0) {\n",
       "      console.debug(\"Bokeh: BokehJS is being loaded, scheduling callback at\", now());\n",
       "      return null;\n",
       "    }\n",
       "    if (js_urls == null || js_urls.length === 0) {\n",
       "      run_callbacks();\n",
       "      return null;\n",
       "    }\n",
       "    console.debug(\"Bokeh: BokehJS not loaded, scheduling load and callback at\", now());\n",
       "    root._bokeh_is_loading = css_urls.length + js_urls.length;\n",
       "\n",
       "    function on_load() {\n",
       "      root._bokeh_is_loading--;\n",
       "      if (root._bokeh_is_loading === 0) {\n",
       "        console.debug(\"Bokeh: all BokehJS libraries/stylesheets loaded\");\n",
       "        run_callbacks()\n",
       "      }\n",
       "    }\n",
       "\n",
       "    function on_error(url) {\n",
       "      console.error(\"failed to load \" + url);\n",
       "    }\n",
       "\n",
       "    for (let i = 0; i < css_urls.length; i++) {\n",
       "      const url = css_urls[i];\n",
       "      const element = document.createElement(\"link\");\n",
       "      element.onload = on_load;\n",
       "      element.onerror = on_error.bind(null, url);\n",
       "      element.rel = \"stylesheet\";\n",
       "      element.type = \"text/css\";\n",
       "      element.href = url;\n",
       "      console.debug(\"Bokeh: injecting link tag for BokehJS stylesheet: \", url);\n",
       "      document.body.appendChild(element);\n",
       "    }\n",
       "\n",
       "    for (let i = 0; i < js_urls.length; i++) {\n",
       "      const url = js_urls[i];\n",
       "      const element = document.createElement('script');\n",
       "      element.onload = on_load;\n",
       "      element.onerror = on_error.bind(null, url);\n",
       "      element.async = false;\n",
       "      element.src = url;\n",
       "      console.debug(\"Bokeh: injecting script tag for BokehJS library: \", url);\n",
       "      document.head.appendChild(element);\n",
       "    }\n",
       "  };\n",
       "\n",
       "  function inject_raw_css(css) {\n",
       "    const element = document.createElement(\"style\");\n",
       "    element.appendChild(document.createTextNode(css));\n",
       "    document.body.appendChild(element);\n",
       "  }\n",
       "\n",
       "  const js_urls = [\"https://cdn.bokeh.org/bokeh/release/bokeh-3.3.0.min.js\", \"https://cdn.bokeh.org/bokeh/release/bokeh-gl-3.3.0.min.js\", \"https://cdn.bokeh.org/bokeh/release/bokeh-widgets-3.3.0.min.js\", \"https://cdn.bokeh.org/bokeh/release/bokeh-tables-3.3.0.min.js\", \"https://cdn.bokeh.org/bokeh/release/bokeh-mathjax-3.3.0.min.js\"];\n",
       "  const css_urls = [];\n",
       "\n",
       "  const inline_js = [    function(Bokeh) {\n",
       "      Bokeh.set_log_level(\"info\");\n",
       "    },\n",
       "function(Bokeh) {\n",
       "    }\n",
       "  ];\n",
       "\n",
       "  function run_inline_js() {\n",
       "    if (root.Bokeh !== undefined || force === true) {\n",
       "          for (let i = 0; i < inline_js.length; i++) {\n",
       "      inline_js[i].call(root, root.Bokeh);\n",
       "    }\n",
       "if (force === true) {\n",
       "        display_loaded();\n",
       "      }} else if (Date.now() < root._bokeh_timeout) {\n",
       "      setTimeout(run_inline_js, 100);\n",
       "    } else if (!root._bokeh_failed_load) {\n",
       "      console.log(\"Bokeh: BokehJS failed to load within specified timeout.\");\n",
       "      root._bokeh_failed_load = true;\n",
       "    } else if (force !== true) {\n",
       "      const cell = $(document.getElementById(\"e14977ad-c2f8-4c85-becb-36f4deeac751\")).parents('.cell').data().cell;\n",
       "      cell.output_area.append_execute_result(NB_LOAD_WARNING)\n",
       "    }\n",
       "  }\n",
       "\n",
       "  if (root._bokeh_is_loading === 0) {\n",
       "    console.debug(\"Bokeh: BokehJS loaded, going straight to plotting\");\n",
       "    run_inline_js();\n",
       "  } else {\n",
       "    load_libs(css_urls, js_urls, function() {\n",
       "      console.debug(\"Bokeh: BokehJS plotting callback run at\", now());\n",
       "      run_inline_js();\n",
       "    });\n",
       "  }\n",
       "}(window));"
      ],
      "application/vnd.bokehjs_load.v0+json": "(function(root) {\n  function now() {\n    return new Date();\n  }\n\n  const force = true;\n\n  if (typeof root._bokeh_onload_callbacks === \"undefined\" || force === true) {\n    root._bokeh_onload_callbacks = [];\n    root._bokeh_is_loading = undefined;\n  }\n\n\n  if (typeof (root._bokeh_timeout) === \"undefined\" || force === true) {\n    root._bokeh_timeout = Date.now() + 5000;\n    root._bokeh_failed_load = false;\n  }\n\n  const NB_LOAD_WARNING = {'data': {'text/html':\n     \"<div style='background-color: #fdd'>\\n\"+\n     \"<p>\\n\"+\n     \"BokehJS does not appear to have successfully loaded. If loading BokehJS from CDN, this \\n\"+\n     \"may be due to a slow or bad network connection. Possible fixes:\\n\"+\n     \"</p>\\n\"+\n     \"<ul>\\n\"+\n     \"<li>re-rerun `output_notebook()` to attempt to load from CDN again, or</li>\\n\"+\n     \"<li>use INLINE resources instead, as so:</li>\\n\"+\n     \"</ul>\\n\"+\n     \"<code>\\n\"+\n     \"from bokeh.resources import INLINE\\n\"+\n     \"output_notebook(resources=INLINE)\\n\"+\n     \"</code>\\n\"+\n     \"</div>\"}};\n\n  function display_loaded() {\n    const el = document.getElementById(\"e14977ad-c2f8-4c85-becb-36f4deeac751\");\n    if (el != null) {\n      el.textContent = \"BokehJS is loading...\";\n    }\n    if (root.Bokeh !== undefined) {\n      if (el != null) {\n        el.textContent = \"BokehJS \" + root.Bokeh.version + \" successfully loaded.\";\n      }\n    } else if (Date.now() < root._bokeh_timeout) {\n      setTimeout(display_loaded, 100)\n    }\n  }\n\n  function run_callbacks() {\n    try {\n      root._bokeh_onload_callbacks.forEach(function(callback) {\n        if (callback != null)\n          callback();\n      });\n    } finally {\n      delete root._bokeh_onload_callbacks\n    }\n    console.debug(\"Bokeh: all callbacks have finished\");\n  }\n\n  function load_libs(css_urls, js_urls, callback) {\n    if (css_urls == null) css_urls = [];\n    if (js_urls == null) js_urls = [];\n\n    root._bokeh_onload_callbacks.push(callback);\n    if (root._bokeh_is_loading > 0) {\n      console.debug(\"Bokeh: BokehJS is being loaded, scheduling callback at\", now());\n      return null;\n    }\n    if (js_urls == null || js_urls.length === 0) {\n      run_callbacks();\n      return null;\n    }\n    console.debug(\"Bokeh: BokehJS not loaded, scheduling load and callback at\", now());\n    root._bokeh_is_loading = css_urls.length + js_urls.length;\n\n    function on_load() {\n      root._bokeh_is_loading--;\n      if (root._bokeh_is_loading === 0) {\n        console.debug(\"Bokeh: all BokehJS libraries/stylesheets loaded\");\n        run_callbacks()\n      }\n    }\n\n    function on_error(url) {\n      console.error(\"failed to load \" + url);\n    }\n\n    for (let i = 0; i < css_urls.length; i++) {\n      const url = css_urls[i];\n      const element = document.createElement(\"link\");\n      element.onload = on_load;\n      element.onerror = on_error.bind(null, url);\n      element.rel = \"stylesheet\";\n      element.type = \"text/css\";\n      element.href = url;\n      console.debug(\"Bokeh: injecting link tag for BokehJS stylesheet: \", url);\n      document.body.appendChild(element);\n    }\n\n    for (let i = 0; i < js_urls.length; i++) {\n      const url = js_urls[i];\n      const element = document.createElement('script');\n      element.onload = on_load;\n      element.onerror = on_error.bind(null, url);\n      element.async = false;\n      element.src = url;\n      console.debug(\"Bokeh: injecting script tag for BokehJS library: \", url);\n      document.head.appendChild(element);\n    }\n  };\n\n  function inject_raw_css(css) {\n    const element = document.createElement(\"style\");\n    element.appendChild(document.createTextNode(css));\n    document.body.appendChild(element);\n  }\n\n  const js_urls = [\"https://cdn.bokeh.org/bokeh/release/bokeh-3.3.0.min.js\", \"https://cdn.bokeh.org/bokeh/release/bokeh-gl-3.3.0.min.js\", \"https://cdn.bokeh.org/bokeh/release/bokeh-widgets-3.3.0.min.js\", \"https://cdn.bokeh.org/bokeh/release/bokeh-tables-3.3.0.min.js\", \"https://cdn.bokeh.org/bokeh/release/bokeh-mathjax-3.3.0.min.js\"];\n  const css_urls = [];\n\n  const inline_js = [    function(Bokeh) {\n      Bokeh.set_log_level(\"info\");\n    },\nfunction(Bokeh) {\n    }\n  ];\n\n  function run_inline_js() {\n    if (root.Bokeh !== undefined || force === true) {\n          for (let i = 0; i < inline_js.length; i++) {\n      inline_js[i].call(root, root.Bokeh);\n    }\nif (force === true) {\n        display_loaded();\n      }} else if (Date.now() < root._bokeh_timeout) {\n      setTimeout(run_inline_js, 100);\n    } else if (!root._bokeh_failed_load) {\n      console.log(\"Bokeh: BokehJS failed to load within specified timeout.\");\n      root._bokeh_failed_load = true;\n    } else if (force !== true) {\n      const cell = $(document.getElementById(\"e14977ad-c2f8-4c85-becb-36f4deeac751\")).parents('.cell').data().cell;\n      cell.output_area.append_execute_result(NB_LOAD_WARNING)\n    }\n  }\n\n  if (root._bokeh_is_loading === 0) {\n    console.debug(\"Bokeh: BokehJS loaded, going straight to plotting\");\n    run_inline_js();\n  } else {\n    load_libs(css_urls, js_urls, function() {\n      console.debug(\"Bokeh: BokehJS plotting callback run at\", now());\n      run_inline_js();\n    });\n  }\n}(window));"
     },
     "metadata": {},
     "output_type": "display_data"
    }
   ],
   "source": [
    "from bokeh.io import output_notebook\n",
    "import bokeh.plotting as bp\n",
    "from bokeh.models import ColorBar, SingleIntervalTicker, FixedTicker, Range1d, Span\n",
    "from bokeh.palettes import Spectral10 as cm\n",
    "from bokeh.transform import linear_cmap\n",
    "\n",
    "import numpy as np\n",
    "\n",
    "# The following method is needed for bokeh display in a Notebook.\n",
    "# Note that it does not activate the display. This happens in the 'Plot Timeseries' section.\n",
    "output_notebook()"
   ]
  },
  {
   "cell_type": "markdown",
   "metadata": {},
   "source": [
    "## Identify Subseries in the Data\n",
    "\n",
    "Engineering data may contain periods of sampling between observations where the returned values do not change. The following function attempts to break up the timeseries by looking for these stretches of unchanging values."
   ]
  },
  {
   "cell_type": "code",
   "execution_count": 10,
   "metadata": {
    "execution": {
     "iopub.execute_input": "2023-11-03T15:15:01.457294Z",
     "iopub.status.busy": "2023-11-03T15:15:01.456556Z",
     "iopub.status.idle": "2023-11-03T15:15:01.466613Z",
     "shell.execute_reply": "2023-11-03T15:15:01.465961Z"
    }
   },
   "outputs": [],
   "source": [
    "def find_breaks(x_data, y_data, max_flats=5):\n",
    "    \"\"\"\n",
    "    Parameters\n",
    "    ----------\n",
    "    x_data : pandas.DataFrame\n",
    "        X-axis timeseries data.\n",
    "    y_data : pandas.DataFrame \n",
    "        Y-axis timeseries data.\n",
    "    max_flats : int, default=5\n",
    "        After this many data points with unchanging values, timeseries data will be broken up.\n",
    "        \n",
    "    Returns\n",
    "    -------\n",
    "    list of pandas.DataFrame\n",
    "        Each DataFrame contains a continuous set of changing EDB timeseries data with X/Y-paired values.\n",
    "    \"\"\"\n",
    "    \n",
    "    # Get the MJD and position values out of the DataFrames.\n",
    "    x_vals = x_data['euvalue'].values\n",
    "    x_dates = x_data['MJD'].values\n",
    "    y_vals = y_data['euvalue'].values\n",
    "    y_dates = y_data['MJD'].values\n",
    "    \n",
    "    # Combine the x and y data into a single DataFrame.\n",
    "    xy_frame = pd.DataFrame(data=x_dates, columns=['MJD'])\n",
    "    xy_frame['timestamp'] = x_data['theTime'].values\n",
    "    xy_frame['x_value'] = x_vals\n",
    "    xy_frame['y_value'] = y_vals\n",
    "    \n",
    "    # Scan the timeseries data to look for flat periods of no reading change.\n",
    "    results = []\n",
    "    m = 0\n",
    "    flat = 0\n",
    "    recording = True\n",
    "    \n",
    "    for n in range(1, len(x_vals)):\n",
    "        \n",
    "        # Make sure the x and y timestamps match.\n",
    "        if x_dates[n] == y_dates[n]:\n",
    "            \n",
    "            # Calculate the distance from the current positions to the following.\n",
    "            x_diff = np.abs(x_vals[n-1] - x_vals[n])\n",
    "            y_diff = np.abs(y_vals[n-1] - y_vals[n])\n",
    "            \n",
    "            # Multiple points with no change will stop recording and store the current series.\n",
    "            if (x_diff == 0 and y_diff == 0):\n",
    "                flat += 1\n",
    "                if not recording:\n",
    "                    continue\n",
    "                elif flat >= max_flats:\n",
    "                    size = (n-max_flats) - m\n",
    "                    if size > 1:\n",
    "                        results.append(xy_frame[m:n-(max_flats)])\n",
    "                    recording = False\n",
    "                    \n",
    "            # Start recording if changes detected.\n",
    "            elif (x_diff > 0 or y_diff > 0) and not recording:\n",
    "                flat = 0\n",
    "                m = n\n",
    "                recording = True\n",
    "    \n",
    "    # Capture the final series if still recording.\n",
    "    if recording and (n - m) > 1:\n",
    "        results.append(xy_frame[m:])\n",
    "    \n",
    "    print(\"returning {} timeseries\".format(len(results)))\n",
    "    \n",
    "    return results"
   ]
  },
  {
   "cell_type": "markdown",
   "metadata": {},
   "source": [
    "Report the start/end times of each identified subseries. Since there are many of them, we print only the last result as a sample."
   ]
  },
  {
   "cell_type": "code",
   "execution_count": 11,
   "metadata": {
    "execution": {
     "iopub.execute_input": "2023-11-03T15:15:01.469781Z",
     "iopub.status.busy": "2023-11-03T15:15:01.469411Z",
     "iopub.status.idle": "2023-11-03T15:15:01.610224Z",
     "shell.execute_reply": "2023-11-03T15:15:01.609416Z"
    }
   },
   "outputs": [
    {
     "name": "stdout",
     "output_type": "stream",
     "text": [
      "returning 41 timeseries\n",
      "    2022-07-01 02:57:26.101000 - 2022-07-01 03:00:00.213000\n"
     ]
    }
   ],
   "source": [
    "split_series = find_breaks(df[0], df[1], max_flats=5)\n",
    "for ss in split_series:\n",
    "    v = ss['timestamp'].values\n",
    "\n",
    "# Inserting this print statement into the for loop will print all 41 timeseries\n",
    "print(\"    {0} - {1}\".format(v[0], v[-1]))"
   ]
  },
  {
   "cell_type": "markdown",
   "metadata": {},
   "source": [
    "## Plot the Segmented Timeseries\n",
    "\n",
    "The following function plots a single subseries of the x/y paired data and applies a color gradiant based on the associated time stamps. "
   ]
  },
  {
   "cell_type": "code",
   "execution_count": 12,
   "metadata": {
    "execution": {
     "iopub.execute_input": "2023-11-03T15:15:01.613807Z",
     "iopub.status.busy": "2023-11-03T15:15:01.613240Z",
     "iopub.status.idle": "2023-11-03T15:15:01.622935Z",
     "shell.execute_reply": "2023-11-03T15:15:01.622168Z"
    }
   },
   "outputs": [],
   "source": [
    "def plot_x_v_y_color(data):\n",
    "    \"\"\"\n",
    "    Plot x-versus-y timeseries data with color mapping based on the timing.\n",
    "    \n",
    "    Parameters\n",
    "    ----------\n",
    "    data : pandas.DataFrame\n",
    "        A combined x & y timeseries data set.\n",
    "    \"\"\"\n",
    "    \n",
    "    mjd = data['MJD']\n",
    "    n_ticks = 10\n",
    "    \n",
    "    # Create a bokeh.plotting figure object.\n",
    "    n = bp.figure(height=600, width=900, match_aspect=True)\n",
    "    \n",
    "    # Set up a linear color map based on the MJD data.\n",
    "    mapper = linear_cmap(field_name='MJD', palette=cm ,low=min(mjd) ,high=max(mjd))\n",
    "    \n",
    "    # Add lines to make 0 axis a bit more obvious.\n",
    "    lw = 1.3\n",
    "    vline = Span(location=0, dimension='height', line_color='black', line_width=lw)\n",
    "    hline = Span(location=0, dimension='width', line_color='black', line_width=lw)\n",
    "    n.renderers.extend([vline, hline])\n",
    "    \n",
    "    # Add a circle plot of x vs y with the color map applied.\n",
    "    n.circle(source=data, x='x_value', y='y_value', fill_alpha=0.6, fill_color=mapper, line_color=None)\n",
    "    \n",
    "    # Translate legend values from MJD to time stamps.\n",
    "    indices = list(range(0, len(mjd), int(len(mjd)/n_ticks)))\n",
    "    tick_dict = {mjd.values[x]: data['timestamp'].values[x] for x in indices}\n",
    "    ticks = FixedTicker(ticks=list(tick_dict.keys()))\n",
    "    \n",
    "    # Add some labels to our axes\n",
    "    n.xaxis.axis_label = \"FSM x-axis commanded angle (arcsec)\"\n",
    "    n.yaxis.axis_label = \"FSM y-axis commanded angle (arcsec)\"\n",
    "    \n",
    "    # Add a color bar legend for the MJD data.\n",
    "    color_bar = ColorBar(color_mapper=mapper['transform'], \n",
    "                         width=12,\n",
    "                         ticker=ticks,\n",
    "                         major_label_overrides=tick_dict,\n",
    "                         location=(0,0), \n",
    "                         label_standoff=45,\n",
    "                         )\n",
    "    n.add_layout(color_bar, 'right')\n",
    "    \n",
    "    # Display the figure.\n",
    "    bp.show(n)"
   ]
  },
  {
   "cell_type": "markdown",
   "metadata": {},
   "source": [
    "In the following command you can update the index to change which split timeseries you are plotting. Once the plot renders, use the plot control tools in the upper right to pan, zoom, and save the plot. "
   ]
  },
  {
   "cell_type": "code",
   "execution_count": 13,
   "metadata": {
    "execution": {
     "iopub.execute_input": "2023-11-03T15:15:01.625858Z",
     "iopub.status.busy": "2023-11-03T15:15:01.625412Z",
     "iopub.status.idle": "2023-11-03T15:15:01.711908Z",
     "shell.execute_reply": "2023-11-03T15:15:01.711179Z"
    }
   },
   "outputs": [
    {
     "data": {
      "text/html": [
       "\n",
       "  <div id=\"a88a7623-e2ed-4659-922f-681ba49a64ad\" data-root-id=\"p1001\" style=\"display: contents;\"></div>\n"
      ]
     },
     "metadata": {},
     "output_type": "display_data"
    },
    {
     "data": {
      "application/javascript": [
       "(function(root) {\n",
       "  function embed_document(root) {\n",
       "  const docs_json = {\"d97324f5-4a0b-4d3e-8947-f13e8a60cc42\":{\"version\":\"3.3.0\",\"title\":\"Bokeh Application\",\"roots\":[{\"type\":\"object\",\"name\":\"Figure\",\"id\":\"p1001\",\"attributes\":{\"width\":900,\"x_range\":{\"type\":\"object\",\"name\":\"DataRange1d\",\"id\":\"p1002\"},\"y_range\":{\"type\":\"object\",\"name\":\"DataRange1d\",\"id\":\"p1003\"},\"x_scale\":{\"type\":\"object\",\"name\":\"LinearScale\",\"id\":\"p1010\"},\"y_scale\":{\"type\":\"object\",\"name\":\"LinearScale\",\"id\":\"p1011\"},\"title\":{\"type\":\"object\",\"name\":\"Title\",\"id\":\"p1008\"},\"renderers\":[{\"type\":\"object\",\"name\":\"Span\",\"id\":\"p1030\",\"attributes\":{\"location\":0,\"dimension\":\"height\",\"line_width\":1.3}},{\"type\":\"object\",\"name\":\"Span\",\"id\":\"p1031\",\"attributes\":{\"location\":0,\"line_width\":1.3}},{\"type\":\"object\",\"name\":\"GlyphRenderer\",\"id\":\"p1041\",\"attributes\":{\"data_source\":{\"type\":\"object\",\"name\":\"ColumnDataSource\",\"id\":\"p1032\",\"attributes\":{\"selected\":{\"type\":\"object\",\"name\":\"Selection\",\"id\":\"p1033\",\"attributes\":{\"indices\":[],\"line_indices\":[]}},\"selection_policy\":{\"type\":\"object\",\"name\":\"UnionRenderers\",\"id\":\"p1034\"},\"data\":{\"type\":\"map\",\"entries\":[[\"index\",{\"type\":\"ndarray\",\"array\":{\"type\":\"bytes\",\"data\":\"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\"},\"shape\":[567],\"dtype\":\"int32\",\"order\":\"little\"}],[\"MJD\",{\"type\":\"ndarray\",\"array\":{\"type\":\"bytes\",\"data\":\"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\"},\"shape\":[567],\"dtype\":\"float64\",\"order\":\"little\"}],[\"timestamp\",{\"type\":\"ndarray\",\"array\":[\"2022-06-30 23:59:59.839000\",\"2022-07-01 00:00:00.095000\",\"2022-07-01 00:00:00.351000\",\"2022-07-01 00:00:00.607000\",\"2022-07-01 00:00:00.863000\",\"2022-07-01 00:00:01.119000\",\"2022-07-01 00:00:01.375000\",\"2022-07-01 00:00:01.631000\",\"2022-07-01 00:00:01.887000\",\"2022-07-01 00:00:02.143000\",\"2022-07-01 00:00:02.399000\",\"2022-07-01 00:00:02.655000\",\"2022-07-01 00:00:02.911000\",\"2022-07-01 00:00:03.167000\",\"2022-07-01 00:00:03.423000\",\"2022-07-01 00:00:03.679000\",\"2022-07-01 00:00:03.935000\",\"2022-07-01 00:00:04.191000\",\"2022-07-01 00:00:04.447000\",\"2022-07-01 00:00:04.703000\",\"2022-07-01 00:00:04.959000\",\"2022-07-01 00:00:05.215000\",\"2022-07-01 00:00:05.471000\",\"2022-07-01 00:00:05.727000\",\"2022-07-01 00:00:05.983000\",\"2022-07-01 00:00:06.239000\",\"2022-07-01 00:00:06.495000\",\"2022-07-01 00:00:06.751000\",\"2022-07-01 00:00:07.007000\",\"2022-07-01 00:00:07.263000\",\"2022-07-01 00:00:07.519000\",\"2022-07-01 00:00:07.775000\",\"2022-07-01 00:00:08.031000\",\"2022-07-01 00:00:08.287000\",\"2022-07-01 00:00:08.543000\",\"2022-07-01 00:00:08.799000\",\"2022-07-01 00:00:09.055000\",\"2022-07-01 00:00:09.311000\",\"2022-07-01 00:00:09.567000\",\"2022-07-01 00:00:09.823000\",\"2022-07-01 00:00:10.079000\",\"2022-07-01 00:00:10.335000\",\"2022-07-01 00:00:10.591000\",\"2022-07-01 00:00:10.847000\",\"2022-07-01 00:00:11.103000\",\"2022-07-01 00:00:11.359000\",\"2022-07-01 00:00:11.615000\",\"2022-07-01 00:00:11.871000\",\"2022-07-01 00:00:12.127000\",\"2022-07-01 00:00:12.383000\",\"2022-07-01 00:00:12.639000\",\"2022-07-01 00:00:12.895000\",\"2022-07-01 00:00:13.151000\",\"2022-07-01 00:00:13.407000\",\"2022-07-01 00:00:13.663000\",\"2022-07-01 00:00:13.919000\",\"2022-07-01 00:00:14.175000\",\"2022-07-01 00:00:14.431000\",\"2022-07-01 00:00:14.687000\",\"2022-07-01 00:00:14.943000\",\"2022-07-01 00:00:15.199000\",\"2022-07-01 00:00:15.455000\",\"2022-07-01 00:00:15.711000\",\"2022-07-01 00:00:15.967000\",\"2022-07-01 00:00:16.223000\",\"2022-07-01 00:00:16.479000\",\"2022-07-01 00:00:16.735000\",\"2022-07-01 00:00:16.991000\",\"2022-07-01 00:00:17.247000\",\"2022-07-01 00:00:17.503000\",\"2022-07-01 00:00:17.759000\",\"2022-07-01 00:00:18.015000\",\"2022-07-01 00:00:18.271000\",\"2022-07-01 00:00:18.527000\",\"2022-07-01 00:00:18.783000\",\"2022-07-01 00:00:19.039000\",\"2022-07-01 00:00:19.295000\",\"2022-07-01 00:00:19.551000\",\"2022-07-01 00:00:19.807000\",\"2022-07-01 00:00:20.063000\",\"2022-07-01 00:00:20.319000\",\"2022-07-01 00:00:20.575000\",\"2022-07-01 00:00:20.831000\",\"2022-07-01 00:00:21.087000\",\"2022-07-01 00:00:21.343000\",\"2022-07-01 00:00:21.599000\",\"2022-07-01 00:00:21.855000\",\"2022-07-01 00:00:22.111000\",\"2022-07-01 00:00:22.367000\",\"2022-07-01 00:00:22.623000\",\"2022-07-01 00:00:22.879000\",\"2022-07-01 00:00:23.135000\",\"2022-07-01 00:00:23.391000\",\"2022-07-01 00:00:23.647000\",\"2022-07-01 00:00:23.903000\",\"2022-07-01 00:00:24.159000\",\"2022-07-01 00:00:24.415000\",\"2022-07-01 00:00:24.671000\",\"2022-07-01 00:00:24.927000\",\"2022-07-01 00:00:25.183000\",\"2022-07-01 00:00:25.439000\",\"2022-07-01 00:00:25.695000\",\"2022-07-01 00:00:25.951000\",\"2022-07-01 00:00:26.207000\",\"2022-07-01 00:00:26.463000\",\"2022-07-01 00:00:26.719000\",\"2022-07-01 00:00:26.975000\",\"2022-07-01 00:00:27.231000\",\"2022-07-01 00:00:27.487000\",\"2022-07-01 00:00:27.743000\",\"2022-07-01 00:00:27.999000\",\"2022-07-01 00:00:28.255000\",\"2022-07-01 00:00:28.511000\",\"2022-07-01 00:00:28.767000\",\"2022-07-01 00:00:29.023000\",\"2022-07-01 00:00:29.279000\",\"2022-07-01 00:00:29.535000\",\"2022-07-01 00:00:29.791000\",\"2022-07-01 00:00:30.047000\",\"2022-07-01 00:00:30.303000\",\"2022-07-01 00:00:30.559000\",\"2022-07-01 00:00:30.815000\",\"2022-07-01 00:00:31.071000\",\"2022-07-01 00:00:31.327000\",\"2022-07-01 00:00:31.583000\",\"2022-07-01 00:00:31.839000\",\"2022-07-01 00:00:32.095000\",\"2022-07-01 00:00:32.351000\",\"2022-07-01 00:00:32.607000\",\"2022-07-01 00:00:32.863000\",\"2022-07-01 00:00:33.119000\",\"2022-07-01 00:00:33.375000\",\"2022-07-01 00:00:33.631000\",\"2022-07-01 00:00:33.887000\",\"2022-07-01 00:00:34.143000\",\"2022-07-01 00:00:34.399000\",\"2022-07-01 00:00:34.655000\",\"2022-07-01 00:00:34.911000\",\"2022-07-01 00:00:35.167000\",\"2022-07-01 00:00:35.423000\",\"2022-07-01 00:00:35.679000\",\"2022-07-01 00:00:35.935000\",\"2022-07-01 00:00:36.191000\",\"2022-07-01 00:00:36.447000\",\"2022-07-01 00:00:36.703000\",\"2022-07-01 00:00:36.959000\",\"2022-07-01 00:00:37.215000\",\"2022-07-01 00:00:37.471000\",\"2022-07-01 00:00:37.727000\",\"2022-07-01 00:00:37.983000\",\"2022-07-01 00:00:38.239000\",\"2022-07-01 00:00:38.495000\",\"2022-07-01 00:00:38.751000\",\"2022-07-01 00:00:39.007000\",\"2022-07-01 00:00:39.263000\",\"2022-07-01 00:00:39.519000\",\"2022-07-01 00:00:39.775000\",\"2022-07-01 00:00:40.031000\",\"2022-07-01 00:00:40.287000\",\"2022-07-01 00:00:40.543000\",\"2022-07-01 00:00:40.799000\",\"2022-07-01 00:00:41.055000\",\"2022-07-01 00:00:41.311000\",\"2022-07-01 00:00:41.567000\",\"2022-07-01 00:00:41.823000\",\"2022-07-01 00:00:42.079000\",\"2022-07-01 00:00:42.335000\",\"2022-07-01 00:00:42.591000\",\"2022-07-01 00:00:42.847000\",\"2022-07-01 00:00:43.103000\",\"2022-07-01 00:00:43.359000\",\"2022-07-01 00:00:43.615000\",\"2022-07-01 00:00:43.871000\",\"2022-07-01 00:00:44.127000\",\"2022-07-01 00:00:44.383000\",\"2022-07-01 00:00:44.639000\",\"2022-07-01 00:00:44.895000\",\"2022-07-01 00:00:45.151000\",\"2022-07-01 00:00:45.407000\",\"2022-07-01 00:00:45.663000\",\"2022-07-01 00:00:45.919000\",\"2022-07-01 00:00:46.175000\",\"2022-07-01 00:00:46.431000\",\"2022-07-01 00:00:46.687000\",\"2022-07-01 00:00:46.943000\",\"2022-07-01 00:00:47.199000\",\"2022-07-01 00:00:47.455000\",\"2022-07-01 00:00:47.711000\",\"2022-07-01 00:00:47.967000\",\"2022-07-01 00:00:48.223000\",\"2022-07-01 00:00:48.479000\",\"2022-07-01 00:00:48.735000\",\"2022-07-01 00:00:48.991000\",\"2022-07-01 00:00:49.247000\",\"2022-07-01 00:00:49.503000\",\"2022-07-01 00:00:49.759000\",\"2022-07-01 00:00:50.015000\",\"2022-07-01 00:00:50.271000\",\"2022-07-01 00:00:50.527000\",\"2022-07-01 00:00:50.783000\",\"2022-07-01 00:00:51.039000\",\"2022-07-01 00:00:51.295000\",\"2022-07-01 00:00:51.551000\",\"2022-07-01 00:00:51.807000\",\"2022-07-01 00:00:52.063000\",\"2022-07-01 00:00:52.319000\",\"2022-07-01 00:00:52.575000\",\"2022-07-01 00:00:52.831000\",\"2022-07-01 00:00:53.087000\",\"2022-07-01 00:00:53.343000\",\"2022-07-01 00:00:53.599000\",\"2022-07-01 00:00:53.855000\",\"2022-07-01 00:00:54.111000\",\"2022-07-01 00:00:54.367000\",\"2022-07-01 00:00:54.623000\",\"2022-07-01 00:00:54.879000\",\"2022-07-01 00:00:55.135000\",\"2022-07-01 00:00:55.391000\",\"2022-07-01 00:00:55.647000\",\"2022-07-01 00:00:55.903000\",\"2022-07-01 00:00:56.159000\",\"2022-07-01 00:00:56.415000\",\"2022-07-01 00:00:56.671000\",\"2022-07-01 00:00:56.927000\",\"2022-07-01 00:00:57.183000\",\"2022-07-01 00:00:57.439000\",\"2022-07-01 00:00:57.695000\",\"2022-07-01 00:00:57.951000\",\"2022-07-01 00:00:58.207000\",\"2022-07-01 00:00:58.463000\",\"2022-07-01 00:00:58.719000\",\"2022-07-01 00:00:58.975000\",\"2022-07-01 00:00:59.231000\",\"2022-07-01 00:00:59.487000\",\"2022-07-01 00:00:59.743000\",\"2022-07-01 00:00:59.999000\",\"2022-07-01 00:01:00.255000\",\"2022-07-01 00:01:00.511000\",\"2022-07-01 00:01:00.767000\",\"2022-07-01 00:01:01.023000\",\"2022-07-01 00:01:01.279000\",\"2022-07-01 00:01:01.535000\",\"2022-07-01 00:01:01.791000\",\"2022-07-01 00:01:02.047000\",\"2022-07-01 00:01:02.303000\",\"2022-07-01 00:01:02.559000\",\"2022-07-01 00:01:02.815000\",\"2022-07-01 00:01:03.071000\",\"2022-07-01 00:01:03.327000\",\"2022-07-01 00:01:03.583000\",\"2022-07-01 00:01:03.839000\",\"2022-07-01 00:01:04.095000\",\"2022-07-01 00:01:04.351000\",\"2022-07-01 00:01:04.607000\",\"2022-07-01 00:01:04.863000\",\"2022-07-01 00:01:05.119000\",\"2022-07-01 00:01:05.375000\",\"2022-07-01 00:01:05.631000\",\"2022-07-01 00:01:05.887000\",\"2022-07-01 00:01:06.143000\",\"2022-07-01 00:01:06.399000\",\"2022-07-01 00:01:06.655000\",\"2022-07-01 00:01:06.911000\",\"2022-07-01 00:01:07.167000\",\"2022-07-01 00:01:07.423000\",\"2022-07-01 00:01:07.679000\",\"2022-07-01 00:01:07.935000\",\"2022-07-01 00:01:08.191000\",\"2022-07-01 00:01:08.447000\",\"2022-07-01 00:01:08.703000\",\"2022-07-01 00:01:08.959000\",\"2022-07-01 00:01:09.215000\",\"2022-07-01 00:01:09.471000\",\"2022-07-01 00:01:09.727000\",\"2022-07-01 00:01:09.983000\",\"2022-07-01 00:01:10.239000\",\"2022-07-01 00:01:10.495000\",\"2022-07-01 00:01:10.751000\",\"2022-07-01 00:01:11.007000\",\"2022-07-01 00:01:11.263000\",\"2022-07-01 00:01:11.519000\",\"2022-07-01 00:01:11.775000\",\"2022-07-01 00:01:12.031000\",\"2022-07-01 00:01:12.287000\",\"2022-07-01 00:01:12.543000\",\"2022-07-01 00:01:12.799000\",\"2022-07-01 00:01:13.055000\",\"2022-07-01 00:01:13.311000\",\"2022-07-01 00:01:13.567000\",\"2022-07-01 00:01:13.823000\",\"2022-07-01 00:01:14.079000\",\"2022-07-01 00:01:14.335000\",\"2022-07-01 00:01:14.591000\",\"2022-07-01 00:01:14.847000\",\"2022-07-01 00:01:15.103000\",\"2022-07-01 00:01:15.359000\",\"2022-07-01 00:01:15.615000\",\"2022-07-01 00:01:15.871000\",\"2022-07-01 00:01:16.127000\",\"2022-07-01 00:01:16.383000\",\"2022-07-01 00:01:16.639000\",\"2022-07-01 00:01:16.895000\",\"2022-07-01 00:01:17.151000\",\"2022-07-01 00:01:17.407000\",\"2022-07-01 00:01:17.663000\",\"2022-07-01 00:01:17.919000\",\"2022-07-01 00:01:18.175000\",\"2022-07-01 00:01:18.431000\",\"2022-07-01 00:01:18.687000\",\"2022-07-01 00:01:18.943000\",\"2022-07-01 00:01:19.199000\",\"2022-07-01 00:01:19.455000\",\"2022-07-01 00:01:19.711000\",\"2022-07-01 00:01:19.967000\",\"2022-07-01 00:01:20.223000\",\"2022-07-01 00:01:20.479000\",\"2022-07-01 00:01:20.735000\",\"2022-07-01 00:01:20.991000\",\"2022-07-01 00:01:21.247000\",\"2022-07-01 00:01:21.503000\",\"2022-07-01 00:01:21.759000\",\"2022-07-01 00:01:22.015000\",\"2022-07-01 00:01:22.271000\",\"2022-07-01 00:01:22.527000\",\"2022-07-01 00:01:22.783000\",\"2022-07-01 00:01:23.039000\",\"2022-07-01 00:01:23.295000\",\"2022-07-01 00:01:23.551000\",\"2022-07-01 00:01:23.807000\",\"2022-07-01 00:01:24.063000\",\"2022-07-01 00:01:24.319000\",\"2022-07-01 00:01:24.575000\",\"2022-07-01 00:01:24.831000\",\"2022-07-01 00:01:25.087000\",\"2022-07-01 00:01:25.343000\",\"2022-07-01 00:01:25.599000\",\"2022-07-01 00:01:25.855000\",\"2022-07-01 00:01:26.111000\",\"2022-07-01 00:01:26.367000\",\"2022-07-01 00:01:26.623000\",\"2022-07-01 00:01:26.879000\",\"2022-07-01 00:01:27.135000\",\"2022-07-01 00:01:27.391000\",\"2022-07-01 00:01:27.647000\",\"2022-07-01 00:01:27.903000\",\"2022-07-01 00:01:28.159000\",\"2022-07-01 00:01:28.415000\",\"2022-07-01 00:01:28.671000\",\"2022-07-01 00:01:28.927000\",\"2022-07-01 00:01:29.183000\",\"2022-07-01 00:01:29.439000\",\"2022-07-01 00:01:29.695000\",\"2022-07-01 00:01:29.951000\",\"2022-07-01 00:01:30.207000\",\"2022-07-01 00:01:30.463000\",\"2022-07-01 00:01:30.719000\",\"2022-07-01 00:01:30.975000\",\"2022-07-01 00:01:31.231000\",\"2022-07-01 00:01:31.487000\",\"2022-07-01 00:01:31.743000\",\"2022-07-01 00:01:31.999000\",\"2022-07-01 00:01:32.255000\",\"2022-07-01 00:01:32.511000\",\"2022-07-01 00:01:32.767000\",\"2022-07-01 00:01:33.023000\",\"2022-07-01 00:01:33.279000\",\"2022-07-01 00:01:33.535000\",\"2022-07-01 00:01:33.791000\",\"2022-07-01 00:01:34.047000\",\"2022-07-01 00:01:34.303000\",\"2022-07-01 00:01:34.559000\",\"2022-07-01 00:01:34.815000\",\"2022-07-01 00:01:35.071000\",\"2022-07-01 00:01:35.327000\",\"2022-07-01 00:01:35.583000\",\"2022-07-01 00:01:35.839000\",\"2022-07-01 00:01:36.095000\",\"2022-07-01 00:01:36.351000\",\"2022-07-01 00:01:36.607000\",\"2022-07-01 00:01:36.863000\",\"2022-07-01 00:01:37.119000\",\"2022-07-01 00:01:37.375000\",\"2022-07-01 00:01:37.631000\",\"2022-07-01 00:01:37.887000\",\"2022-07-01 00:01:38.143000\",\"2022-07-01 00:01:38.399000\",\"2022-07-01 00:01:38.655000\",\"2022-07-01 00:01:38.911000\",\"2022-07-01 00:01:39.167000\",\"2022-07-01 00:01:39.423000\",\"2022-07-01 00:01:39.679000\",\"2022-07-01 00:01:39.935000\",\"2022-07-01 00:01:40.191000\",\"2022-07-01 00:01:40.447000\",\"2022-07-01 00:01:40.703000\",\"2022-07-01 00:01:40.959000\",\"2022-07-01 00:01:41.215000\",\"2022-07-01 00:01:41.471000\",\"2022-07-01 00:01:41.727000\",\"2022-07-01 00:01:41.983000\",\"2022-07-01 00:01:42.239000\",\"2022-07-01 00:01:42.495000\",\"2022-07-01 00:01:42.751000\",\"2022-07-01 00:01:43.007000\",\"2022-07-01 00:01:43.263000\",\"2022-07-01 00:01:43.519000\",\"2022-07-01 00:01:43.775000\",\"2022-07-01 00:01:44.031000\",\"2022-07-01 00:01:44.287000\",\"2022-07-01 00:01:44.543000\",\"2022-07-01 00:01:44.799000\",\"2022-07-01 00:01:45.055000\",\"2022-07-01 00:01:45.311000\",\"2022-07-01 00:01:45.567000\",\"2022-07-01 00:01:45.823000\",\"2022-07-01 00:01:46.079000\",\"2022-07-01 00:01:46.335000\",\"2022-07-01 00:01:46.591000\",\"2022-07-01 00:01:46.847000\",\"2022-07-01 00:01:47.103000\",\"2022-07-01 00:01:47.359000\",\"2022-07-01 00:01:47.615000\",\"2022-07-01 00:01:47.871000\",\"2022-07-01 00:01:48.127000\",\"2022-07-01 00:01:48.383000\",\"2022-07-01 00:01:48.639000\",\"2022-07-01 00:01:48.895000\",\"2022-07-01 00:01:49.151000\",\"2022-07-01 00:01:49.407000\",\"2022-07-01 00:01:49.663000\",\"2022-07-01 00:01:49.919000\",\"2022-07-01 00:01:50.175000\",\"2022-07-01 00:01:50.431000\",\"2022-07-01 00:01:50.687000\",\"2022-07-01 00:01:50.943000\",\"2022-07-01 00:01:51.199000\",\"2022-07-01 00:01:51.455000\",\"2022-07-01 00:01:51.711000\",\"2022-07-01 00:01:51.967000\",\"2022-07-01 00:01:52.223000\",\"2022-07-01 00:01:52.479000\",\"2022-07-01 00:01:52.735000\",\"2022-07-01 00:01:52.991000\",\"2022-07-01 00:01:53.247000\",\"2022-07-01 00:01:53.503000\",\"2022-07-01 00:01:53.759000\",\"2022-07-01 00:01:54.015000\",\"2022-07-01 00:01:54.271000\",\"2022-07-01 00:01:54.527000\",\"2022-07-01 00:01:54.783000\",\"2022-07-01 00:01:55.039000\",\"2022-07-01 00:01:55.295000\",\"2022-07-01 00:01:55.551000\",\"2022-07-01 00:01:55.807000\",\"2022-07-01 00:01:56.063000\",\"2022-07-01 00:01:56.319000\",\"2022-07-01 00:01:56.575000\",\"2022-07-01 00:01:56.831000\",\"2022-07-01 00:01:57.087000\",\"2022-07-01 00:01:57.343000\",\"2022-07-01 00:01:57.599000\",\"2022-07-01 00:01:57.855000\",\"2022-07-01 00:01:58.111000\",\"2022-07-01 00:01:58.367000\",\"2022-07-01 00:01:58.623000\",\"2022-07-01 00:01:58.879000\",\"2022-07-01 00:01:59.135000\",\"2022-07-01 00:01:59.391000\",\"2022-07-01 00:01:59.647000\",\"2022-07-01 00:01:59.903000\",\"2022-07-01 00:02:00.159000\",\"2022-07-01 00:02:00.415000\",\"2022-07-01 00:02:00.671000\",\"2022-07-01 00:02:00.927000\",\"2022-07-01 00:02:01.183000\",\"2022-07-01 00:02:01.439000\",\"2022-07-01 00:02:01.695000\",\"2022-07-01 00:02:01.951000\",\"2022-07-01 00:02:02.207000\",\"2022-07-01 00:02:02.463000\",\"2022-07-01 00:02:02.719000\",\"2022-07-01 00:02:02.975000\",\"2022-07-01 00:02:03.231000\",\"2022-07-01 00:02:03.487000\",\"2022-07-01 00:02:03.743000\",\"2022-07-01 00:02:03.999000\",\"2022-07-01 00:02:04.255000\",\"2022-07-01 00:02:04.511000\",\"2022-07-01 00:02:04.767000\",\"2022-07-01 00:02:05.023000\",\"2022-07-01 00:02:05.279000\",\"2022-07-01 00:02:05.535000\",\"2022-07-01 00:02:05.791000\",\"2022-07-01 00:02:06.047000\",\"2022-07-01 00:02:06.303000\",\"2022-07-01 00:02:06.559000\",\"2022-07-01 00:02:06.815000\",\"2022-07-01 00:02:07.071000\",\"2022-07-01 00:02:07.327000\",\"2022-07-01 00:02:07.583000\",\"2022-07-01 00:02:07.839000\",\"2022-07-01 00:02:08.095000\",\"2022-07-01 00:02:08.351000\",\"2022-07-01 00:02:08.607000\",\"2022-07-01 00:02:08.863000\",\"2022-07-01 00:02:09.119000\",\"2022-07-01 00:02:09.375000\",\"2022-07-01 00:02:09.631000\",\"2022-07-01 00:02:09.887000\",\"2022-07-01 00:02:10.143000\",\"2022-07-01 00:02:10.399000\",\"2022-07-01 00:02:10.655000\",\"2022-07-01 00:02:10.911000\",\"2022-07-01 00:02:11.167000\",\"2022-07-01 00:02:11.423000\",\"2022-07-01 00:02:11.679000\",\"2022-07-01 00:02:11.935000\",\"2022-07-01 00:02:12.191000\",\"2022-07-01 00:02:12.447000\",\"2022-07-01 00:02:12.703000\",\"2022-07-01 00:02:12.959000\",\"2022-07-01 00:02:13.215000\",\"2022-07-01 00:02:13.471000\",\"2022-07-01 00:02:13.727000\",\"2022-07-01 00:02:13.983000\",\"2022-07-01 00:02:14.239000\",\"2022-07-01 00:02:14.495000\",\"2022-07-01 00:02:14.751000\",\"2022-07-01 00:02:15.007000\",\"2022-07-01 00:02:15.263000\",\"2022-07-01 00:02:15.519000\",\"2022-07-01 00:02:15.775000\",\"2022-07-01 00:02:16.031000\",\"2022-07-01 00:02:16.287000\",\"2022-07-01 00:02:16.543000\",\"2022-07-01 00:02:16.799000\",\"2022-07-01 00:02:17.055000\",\"2022-07-01 00:02:17.311000\",\"2022-07-01 00:02:17.567000\",\"2022-07-01 00:02:17.823000\",\"2022-07-01 00:02:18.079000\",\"2022-07-01 00:02:18.335000\",\"2022-07-01 00:02:18.591000\",\"2022-07-01 00:02:18.847000\",\"2022-07-01 00:02:19.103000\",\"2022-07-01 00:02:19.359000\",\"2022-07-01 00:02:19.615000\",\"2022-07-01 00:02:19.871000\",\"2022-07-01 00:02:20.127000\",\"2022-07-01 00:02:20.383000\",\"2022-07-01 00:02:20.639000\",\"2022-07-01 00:02:20.895000\",\"2022-07-01 00:02:21.151000\",\"2022-07-01 00:02:21.407000\",\"2022-07-01 00:02:21.663000\",\"2022-07-01 00:02:21.919000\",\"2022-07-01 00:02:22.175000\",\"2022-07-01 00:02:22.431000\",\"2022-07-01 00:02:22.687000\",\"2022-07-01 00:02:22.943000\",\"2022-07-01 00:02:23.199000\",\"2022-07-01 00:02:23.455000\",\"2022-07-01 00:02:23.711000\",\"2022-07-01 00:02:23.967000\",\"2022-07-01 00:02:24.223000\",\"2022-07-01 00:02:24.479000\",\"2022-07-01 00:02:24.735000\"],\"shape\":[567],\"dtype\":\"object\",\"order\":\"little\"}],[\"x_value\",{\"type\":\"ndarray\",\"array\":{\"type\":\"bytes\",\"data\":\"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\"},\"shape\":[567],\"dtype\":\"float64\",\"order\":\"little\"}],[\"y_value\",{\"type\":\"ndarray\",\"array\":{\"type\":\"bytes\",\"data\":\"QBWgdsvYpL+vNxdiYb+kvxc2wNF5yaS/bca2O5XbpL+pOtz1b+qkv6neQw49JaW/qZUAu6Ucpb95if0jJDKlvwDPmZwxP6W/G8ZHBfo2pb/W4cb3zvKkv6UkNf6O8qS/WAp1VwURpb8DtF5p6AGlv0MgWbC0G6W/L4+7XFIipb+TNQG+jy6lvwqU9LdbTqW/Jz93vKhhpb/ZRHs3fGSlvxPt3hW3jaW/aYwlT4p0pb9Ka/Cb0mOlv26pmzSaj6W/5n2mmvV7pb9wsuzNmJelv73KDnQj2qW/5NPGhcEEpr+mpdD6VhKmv5REmT7ZI6a/MOMdzBwFpr8dlfnQh+Olv7K1RMtWZ6W/bh1QufgJpb8MzzG64ZKkv9UzzKZmiqS/1SmlnLV4pL92XgJuGDCkv46uFkSSDKS/hzIPOhPco78wnq7fLb+jv683vxdeRqO/CrsCsz3Yor/JOBVUDIOiv6kz+do6TqK/h9JONcn7ob9OQ27stJqhv9Qz5YwmbKG/z4kBdpwAob9P+HEf9aqgv0lghzukgqC/LXkWZpxkoL+Yg5F4KPOfv2Mer4ilNp+/GtRDm3jTnr/3RPclxKCev95Zd4cmnZ6/rmnrUm04nr90m8NAFmydv0RyRAtIM5y/warsTobJm7/6E7bSNHebv4P6NDTH9Zq/ELbz1J5mmr9/t+btlL6Zv+YdMf/Lapm/986SBsp0mb8+o/dF/quYv6X2aIr1D5i/xsFg2IwVl7+Y/+Q0apOWvylsTvvwJ5a/osTuCJUilr/vG808usuVvz6TinkndZW/l0EPVtfxlL8LJvYAwYuUv9kVzLpsJJS/m5tIDxADlL9xUYuTi8mTv1Dsw2ebdZO/Q0YeCfYGk78K7mI+wqeSv8xauNvWV5K/vWYOkSdFkr+w0AB/tQGSv4oXO8UZKJK/KWzAUNnKkb+xBps+Ix+Rvx2hSPK6UJC/DfjHPnKyj78voLZWCxaQv7A0I5W/AZC/tiuF27lrj79GZ91iJbaOv+LCSS/twY2/0nsiyDO6jb8eLkz2dT+Nv7cB8dSJpoy/Rh/d00+bjL9Jj1V8UlWMv+746juj04u/ikadjr4Ii78Nw7kZfeuKvwCwUcX6rou/1GygLPwhi78QylrPwGuLvw1mXhKYo4u/UvCIEdjRjL95eY3o3SKMvyKPU8HXAY2/o0XTJDMBjr8oX014otiOv15VYoz7F5C/uEqvylfbj78DutDQj+OPv7JAnzd6HZC/ozlj9RZxj7/qxlJk6HGQv6/CwhWEdZG/u/N/6HRikr+eGn3+04OSv9ZThegLf5O/w/12THNolL8Tl/vWIjiUv55ZZp80xZS/UnInSfl/lb9y3koxKuKVvz/og2Minpa/SPhGwxWPlr/vTGRH4weXv/b9tEYGdpe/1xTNpebil798OZYsbOOYv1SrGdzJNZm/bV+jEHhMmb9MUiuhuv+Zv6qZ9zBiPJq/tOpWO8H4mr/w0caAUWqbv76sDhpooJu/zYO5skshnL/xIRdKVbucv66EXp7WPZ2/mbIoNJ2Znb9Z25xbxBaev0tgQUIeRp6/tMe2DV1wnr+QGlLGcUCfv3z9193mC6C/lgssd5MVoL9FGi7VeRKgv1XSI/r3yJ+//8Y5ErEGoL9Q7Dp2PQGgvzcU4VdKJaC/AwPbVKMvoL+iq+hf7xagv8CC3z4e/p+/+Y2uz24GoL/FJne1oxOgv+yqExpAtJ+/t5taGbizn783pN8rq8qfv3mMnzuCUZ+/eqW2WZ8nn7+YfQFyB8eev7W78wPY+Z6/zBAmCMD/nr/rWroD7tmevxdVoepg0J6/XKUur5mJnr/yR4QPdFeev0LF8fKmMZ2/s5usYDr+nL9BvODiEAmdv/clJ8tzOpy/905+68DCm7/svoSG1YqbvykJQt8BkZq/qAi5UM5Xmb+BETeMYveXv65ZmtvFu5e/98t2KDubl79RvlKtdOSWvy9gyHkmDJa/tjh5xkTnlL8V2O2BR+yTv97O9lNg25K/M1ml+ioOkr/HlEIyevSQvzS1D6pyMJC/soRGS/33jr+nNxtjkg6Nvyufrj1WIYu/QREA3c2Tib9Jng95yYuHvwW2uLqr9IW/571EDOH3g78t2+znyw2Dv0EmERHiOYK/UIclB2uhgb9KSfQSoSGAv0ddKvimV32/ZEOXbTCfe78QvTarH5N4v9qlGYyCuXW/PWjHJFsRdL/p7i+EWbZ0v3PQn+KqRXO/SKuSM5GsdL+1n3DlURJzv9YIGVnNUm2/x9/ApHQJcL8F4DsDRRlyv/Ekg0q+zHK/uC35N2KIdL9xqKqT3RN2vwoioj4otHi/30lkT51veb9PbscTwhx5v4hxLxeOc3m/nR1po0wAfL+cqGqgR3V/v07gJG2tpoC/xXdSPRpJgb9J5ydMBKCCv8+5jPgdJYS/M21LWZCqhb+pO+JWGfuGv3WiJG3xDIe/x/+GEBz+h7+Y8u7/lIeIv8WK4KA5woi/IAm0oYZiib8/MEkiSUKKv4KWhys0R4u/+0JC9xAEjL+Kl/sptIGMv3AExERFjIy/u+84B780jL9xTYSEXVGMv2MPrGxYwYy/EBcyt3gBjb+PH4nan0uPv9gbd/GXwo6/5LE+nMJ1j79/vSSIkSKPv+on8t0TD5C/ui0jSnpekL9a2JHyrAeQv8S7oQaaqo+/nMks+ySpj79vki2uFPKPvzEGx0bPFpC/STmPtxICkL83R/jD+LWPv2wyoQi0u4+/ccXBvSRpj79dRvtp7cePvzvvIKlOVo+/br9I5bc6j783x1O0jRaPv83OaaimI46/g6vuXwHWjb9rsIArWOiMv5Jv4qfST42/v84LyL6qjL8xg9X6mfiMvx8ayIH/N42/qm/cyz3pjb+BbsfONtuMv6PBTvJhvY2/2OnFod7Sjb+DsEoWrSSNv8UO830iY4y/bs/qo143jL9FE+T79OyLv0Bpd/MMjYu//AyEcSsVir9DSR+3em6Jv5X0DVwHhom/SzeXkIetib/g6HH7COyIv18WVpNnI4i/Ogz83cHshr9ew9KYfn2Gv9uQnbxqk4a/jaStZi4Lhb+OgkiMQ1mEv/plY+6pP4O/0JLSs6rzgb8VEYHHEDCBv/zjL8BNZYC/j1VS9x1Ufb+8gAWSanZ9v0AYzcnR/H6/Fysg7BE8f7/KUT8x6zN+v2MYSycGR3y/ThHG6Um0e7/eJOx1sBl7v4eLIoQ8hHq/9ZpyEyLReb/PQp9k+6R4v9ZdabHFgne/LFQUdixSd78/LHbgxUd3v2CbP3Tp6Xi/jgyvMVqReb8lMEJmGtV5v0+6edYxD3m/a+VzIEM9eL+OWPV8wJF6v+YoxANRTny/df2eMuAnfL8KgeXTJvh9v2X8yQmrGX+/SrW/0gEZgL/8n8vtwRiBv2NwSZw5zoG/ucArYs3Kg7/NBMhyQIKEv0/CcxCnXIa/Dr0CJ5Trh78zt88mnxCJv8FoYrvssIm/okkidzFGi7/Tncl10duLvxK76agAnoy/Lfxx35Bkjb8v8+IrFouPv9R6HB5r04+/uz+gbDjXkL8fh43mS96Rv3UVX6hUbZK/lMQ+c2kLk7+K7ENag3CTv5WO6fUdNpS/h+KRpmgGlb9zKniW0ACVv2xhkFdLsZW/f2aPnsIUlr/L0a8qjH+Wv5FhpWPGC5e/QKBNdDifl7/ud9fC9AmYv1YSxLUtVZi/gQ+U0qnvmL8dTvB3Lp+Zv5oseTK7y5m/89j5dEFomr8V42/INS+av05pRd+SGJq/L8c9qtk7mr+iaFKNzTyav+Wc/MBTVJq/8Gz3weXwmr/vM115GLSav96VTZdGjpq/hsHAIF6Ymr+NKlvVpnKav54k690QxJq/BOl5JqGcmr9839ioUJqavzaVUkL67pm/HRwlHZCFmb+InI+KvkSZv/TVNysAmJi/zRjzLm/yl78lo3NUL6yXv5WhjYdu4pa/xGZuKPZ8lr83Mw8knIuVv1Zh3JonqJW/iXmTNaNMlb+F4NeZWYOUv60dTb0Dv5O/pTCBsFKHk7/ZvWVixMuSvy2XanbGdpK/tIcFlJBDkr/C32Hpq0OSv1gCb2HS4ZG/v1VURfx4kb9ych+2fVqRvztOVxRLGpG/78heS90Qkb8gQw7ktR+Rv6i0tlMwL5G/9oTSQ+dPkb/3PgjSmwKRv+OxUaSjppC/HpGQvMNKkL/T6vPu0oGQv+nRSJMovpC/Ca6VuOWWkL/X3mDVRJKQv4ONr6ECBZG/kAbSLq8vkb+bcTXSFPGQv2vr+/46KJG/IPGERZlSkb/2Kjfz2XGRv/klhao2jpG/fQIWrPm5kb/Q3kSkkjCSv8U9V5ER1JK/YP4+r/XWkr9jGEsnBkeTvzxHXoLFdJO/mXTqOnMXlL8iicKVkY2Uv2oUkszqHZW/mo8yvWBSlb+kkH3zj3yVv7XvROf57pW/4b+dpRvRlr/ofD8QvDyXv+vivwseUJe/21Rdf4tAl7+C9lV/pW+XvwviTxJj+Ze/wV59zQ1lmL9zVx2b16+Yv/E/l/8Aipi/e9ogXSyImL8yuv8xNGOYvxpN/oyq3Ze/HiJetbOql78XhT91w6WXv9G/J024lJe/D7ffc4Ijl7+zlIYEDtSWv55tA7FL2Ja/RbzgUNJclr9ciW9SIA2WvxMN4b9RF5W/GYlxuy48lL8LtXiK+1yTvzpoviAsXpK/IjaX5atgkb8ENf8eagqRvz9AzUF29I+/2t31bVfcjr8PzcSF3+yNv5bT9tx224u/B3FcRF+zir92nRMgZo2Jv9FJpGkf1oe/hHvnzATnhr+Q41M0WRKGv1HU0krMtIO/BcvJ7r+agr8fvXqAIuKBvyIFlGN5MoG/JN/ET6WfgL+Im74b5fmAv6nJyxvZ9YC/87bx5jJugL+7J4FgnUmAv0PJ7Pz3cX+/RKENkzydf78zIlNphLF/v1AOPkuSEn+/2pe07WmDfr+mSYAN1cN9v/pRe3NyXX2/MAZFoZTxfL+nUNo2rGt8v4nfWAVmVHy/UtsJHHCpfL+2zwzdSoF9v4KkZ2yDqX6/82Ze3DePf7+C0WiYQch/v4v6YyQ7sn6/RslQupl2fr+KrEwwUN1+v53xMgiJe3+/hjGl0qjwfr+mcwIxSaB+vxeeKxOEh4C/8MwJM1QZgb96RWQWqUmBv7msrO8vAoG/YRQg5J6pgb+bp7zSwLOBv4BpXVuicIK/bVn1at3Vgb/jpedSZseBvzQW8BpLy4G/J1OQlRvpgb8PllgyczyCv24u5j6shIG/YZhJXf2bgb/X0n91ZaeBv8q2jW9B0IG/8XhcEUqRgr9hxvvFsVSCvwjLc1zIBYO/mRjFzU09g79d5G9R3m2Cv7JrHCX/8IG/QTBWugwWgr+dDhQb28KCv1JNqm0z64K/bXJePj5Kg7+SfBOtVtKCv0XrGy6vaYS/a3lojlqQhL/YUWyzlweGv32b8cJFCoe/3CabfWUvh7/19eOLwmKHv6U16SK8N4i/jGYzeDDKib80vg37Rv6Kv1EYUSg9K4u/uoS26f7bir89hJ75T1GMv6zZy7lCRo2/BnM5O+CVjr8cPC/vU1CPvxUlzGwDe5C/KigaYns4kb/e/nwdKBeSv6uIt6tnKpK/j4QmFqvXkr9zGp4ty4+TvwV3C1g+SJS/rYpKzK7ZlL+HESbzbdSVv2G1FkNJapa/CKI5ts9/lr+UiUazBQ+Xv4wMiI6xk5e/MX7gAj4zmL/wfUxQ7O2Yv6pukymdSpm/fzEsnjmtmb8bKUmKUDSav/fPTf5Stpq/IxD0dlkKm78yNjnjkNmav69YSu0BTpq/wKM3bDzQmr/gzbIhWs+avyVb8yBKJpu/WCr2N2tnm7+ScU0ATLmbv4myH3hol5u/n+MFy6/jmr8wFk4ei3eav6azGB8bxpq/rR3hRfrMmr/10mtvS/aav3LivbdhTJq/2ywu8/Uzmr9gIEvRmPGZv7Cq5ACW5Zm/gqihbFYtmr8AsEO/8ryZv+4zSrpWWZm/U0xv0Zo+mb+rzP8oxLyYv/7F5v2cFpm/\"},\"shape\":[567],\"dtype\":\"float64\",\"order\":\"little\"}]]}}},\"view\":{\"type\":\"object\",\"name\":\"CDSView\",\"id\":\"p1042\",\"attributes\":{\"filter\":{\"type\":\"object\",\"name\":\"AllIndices\",\"id\":\"p1043\"}}},\"glyph\":{\"type\":\"object\",\"name\":\"Circle\",\"id\":\"p1038\",\"attributes\":{\"x\":{\"type\":\"field\",\"field\":\"x_value\"},\"y\":{\"type\":\"field\",\"field\":\"y_value\"},\"line_color\":{\"type\":\"value\",\"value\":null},\"fill_color\":{\"type\":\"field\",\"field\":\"MJD\",\"transform\":{\"type\":\"object\",\"name\":\"LinearColorMapper\",\"id\":\"p1029\",\"attributes\":{\"palette\":[\"#5e4fa2\",\"#3288bd\",\"#66c2a5\",\"#abdda4\",\"#e6f598\",\"#fee08b\",\"#fdae61\",\"#f46d43\",\"#d53e4f\",\"#9e0142\"],\"low\":59760.9999981366,\"high\":59761.0016751736}}},\"fill_alpha\":{\"type\":\"value\",\"value\":0.6}}},\"nonselection_glyph\":{\"type\":\"object\",\"name\":\"Circle\",\"id\":\"p1039\",\"attributes\":{\"x\":{\"type\":\"field\",\"field\":\"x_value\"},\"y\":{\"type\":\"field\",\"field\":\"y_value\"},\"line_color\":{\"type\":\"value\",\"value\":null},\"line_alpha\":{\"type\":\"value\",\"value\":0.1},\"fill_color\":{\"type\":\"field\",\"field\":\"MJD\",\"transform\":{\"id\":\"p1029\"}},\"fill_alpha\":{\"type\":\"value\",\"value\":0.1},\"hatch_alpha\":{\"type\":\"value\",\"value\":0.1}}},\"muted_glyph\":{\"type\":\"object\",\"name\":\"Circle\",\"id\":\"p1040\",\"attributes\":{\"x\":{\"type\":\"field\",\"field\":\"x_value\"},\"y\":{\"type\":\"field\",\"field\":\"y_value\"},\"line_color\":{\"type\":\"value\",\"value\":null},\"line_alpha\":{\"type\":\"value\",\"value\":0.2},\"fill_color\":{\"type\":\"field\",\"field\":\"MJD\",\"transform\":{\"id\":\"p1029\"}},\"fill_alpha\":{\"type\":\"value\",\"value\":0.2},\"hatch_alpha\":{\"type\":\"value\",\"value\":0.2}}}}}],\"toolbar\":{\"type\":\"object\",\"name\":\"Toolbar\",\"id\":\"p1009\",\"attributes\":{\"tools\":[{\"type\":\"object\",\"name\":\"PanTool\",\"id\":\"p1022\"},{\"type\":\"object\",\"name\":\"WheelZoomTool\",\"id\":\"p1023\",\"attributes\":{\"renderers\":\"auto\"}},{\"type\":\"object\",\"name\":\"BoxZoomTool\",\"id\":\"p1024\",\"attributes\":{\"overlay\":{\"type\":\"object\",\"name\":\"BoxAnnotation\",\"id\":\"p1025\",\"attributes\":{\"syncable\":false,\"level\":\"overlay\",\"visible\":false,\"left_units\":\"canvas\",\"right_units\":\"canvas\",\"top_units\":\"canvas\",\"bottom_units\":\"canvas\",\"line_color\":\"black\",\"line_alpha\":1.0,\"line_width\":2,\"line_dash\":[4,4],\"fill_color\":\"lightgrey\",\"fill_alpha\":0.5}}}},{\"type\":\"object\",\"name\":\"SaveTool\",\"id\":\"p1026\"},{\"type\":\"object\",\"name\":\"ResetTool\",\"id\":\"p1027\"},{\"type\":\"object\",\"name\":\"HelpTool\",\"id\":\"p1028\"}]}},\"left\":[{\"type\":\"object\",\"name\":\"LinearAxis\",\"id\":\"p1017\",\"attributes\":{\"ticker\":{\"type\":\"object\",\"name\":\"BasicTicker\",\"id\":\"p1018\",\"attributes\":{\"mantissas\":[1,2,5]}},\"formatter\":{\"type\":\"object\",\"name\":\"BasicTickFormatter\",\"id\":\"p1019\"},\"axis_label\":\"FSM y-axis commanded angle (arcsec)\",\"major_label_policy\":{\"type\":\"object\",\"name\":\"AllLabels\",\"id\":\"p1020\"}}}],\"right\":[{\"type\":\"object\",\"name\":\"ColorBar\",\"id\":\"p1045\",\"attributes\":{\"location\":[0,0],\"width\":12,\"ticker\":{\"type\":\"object\",\"name\":\"FixedTicker\",\"id\":\"p1044\",\"attributes\":{\"ticks\":[59760.9999981366,59761.0001640625,59761.0003299884,59761.0004959144,59761.0006618403,59761.0008277662,59761.0009936921,59761.0011596181,59761.001325544,59761.0014914699,59761.0016573958],\"minor_ticks\":[]}},\"major_label_overrides\":{\"type\":\"map\",\"entries\":[[59760.9999981366,\"2022-06-30 23:59:59.839000\"],[59761.0001640625,\"2022-07-01 00:00:14.175000\"],[59761.0003299884,\"2022-07-01 00:00:28.511000\"],[59761.0004959144,\"2022-07-01 00:00:42.847000\"],[59761.0006618403,\"2022-07-01 00:00:57.183000\"],[59761.0008277662,\"2022-07-01 00:01:11.519000\"],[59761.0009936921,\"2022-07-01 00:01:25.855000\"],[59761.0011596181,\"2022-07-01 00:01:40.191000\"],[59761.001325544,\"2022-07-01 00:01:54.527000\"],[59761.0014914699,\"2022-07-01 00:02:08.863000\"],[59761.0016573958,\"2022-07-01 00:02:23.199000\"]]},\"major_label_policy\":{\"type\":\"object\",\"name\":\"NoOverlap\",\"id\":\"p1046\"},\"label_standoff\":45,\"color_mapper\":{\"id\":\"p1029\"}}}],\"below\":[{\"type\":\"object\",\"name\":\"LinearAxis\",\"id\":\"p1012\",\"attributes\":{\"ticker\":{\"type\":\"object\",\"name\":\"BasicTicker\",\"id\":\"p1013\",\"attributes\":{\"mantissas\":[1,2,5]}},\"formatter\":{\"type\":\"object\",\"name\":\"BasicTickFormatter\",\"id\":\"p1014\"},\"axis_label\":\"FSM x-axis commanded angle (arcsec)\",\"major_label_policy\":{\"type\":\"object\",\"name\":\"AllLabels\",\"id\":\"p1015\"}}}],\"center\":[{\"type\":\"object\",\"name\":\"Grid\",\"id\":\"p1016\",\"attributes\":{\"axis\":{\"id\":\"p1012\"}}},{\"type\":\"object\",\"name\":\"Grid\",\"id\":\"p1021\",\"attributes\":{\"dimension\":1,\"axis\":{\"id\":\"p1017\"}}}],\"match_aspect\":true}}]}};\n",
       "  const render_items = [{\"docid\":\"d97324f5-4a0b-4d3e-8947-f13e8a60cc42\",\"roots\":{\"p1001\":\"a88a7623-e2ed-4659-922f-681ba49a64ad\"},\"root_ids\":[\"p1001\"]}];\n",
       "  root.Bokeh.embed.embed_items_notebook(docs_json, render_items);\n",
       "  }\n",
       "  if (root.Bokeh !== undefined) {\n",
       "    embed_document(root);\n",
       "  } else {\n",
       "    let attempts = 0;\n",
       "    const timer = setInterval(function(root) {\n",
       "      if (root.Bokeh !== undefined) {\n",
       "        clearInterval(timer);\n",
       "        embed_document(root);\n",
       "      } else {\n",
       "        attempts++;\n",
       "        if (attempts > 100) {\n",
       "          clearInterval(timer);\n",
       "          console.log(\"Bokeh: ERROR: Unable to run BokehJS code because BokehJS library is missing\");\n",
       "        }\n",
       "      }\n",
       "    }, 10, root)\n",
       "  }\n",
       "})(window);"
      ],
      "application/vnd.bokehjs_exec.v0+json": ""
     },
     "metadata": {
      "application/vnd.bokehjs_exec.v0+json": {
       "id": "p1001"
      }
     },
     "output_type": "display_data"
    }
   ],
   "source": [
    "plot_x_v_y_color(split_series[0])"
   ]
  },
  {
   "cell_type": "code",
   "execution_count": 14,
   "metadata": {
    "execution": {
     "iopub.execute_input": "2023-11-03T15:15:01.715473Z",
     "iopub.status.busy": "2023-11-03T15:15:01.714871Z",
     "iopub.status.idle": "2023-11-03T15:15:01.719739Z",
     "shell.execute_reply": "2023-11-03T15:15:01.719188Z"
    },
    "tags": []
   },
   "outputs": [
    {
     "data": {
      "text/plain": [
       "41"
      ]
     },
     "execution_count": 14,
     "metadata": {},
     "output_type": "execute_result"
    }
   ],
   "source": [
    "len(split_series)"
   ]
  },
  {
   "cell_type": "markdown",
   "metadata": {},
   "source": [
    "# Additional Resources\n",
    "* The [JWST Engineering Database Portal](https://mast.stsci.edu/portal_jwst/Mashup/Clients/jwstedb/jwstedb.html)\n",
    "* The [Engineering Data](https://outerspace.stsci.edu/display/MASTDOCS/Engineering+Data) chapter of the JWST Archive Manual.\n",
    "* For more information about retreiving parameter metadata, see the [API for JWST Metadata Page](https://outerspace.stsci.edu/display/MASTDOCS/API+for+JWST+Metadata). As an example, you might run a query to confirm the units on the above figure should be in arcseconds.\n",
    "\n",
    "## About this Notebook\n",
    "This notebook was developed by MAST staff, chiefly Dick Shaw, Peter Forshay, and Bernie Shiao. Additional editing was provided by Thomas Dutkiewicz.\n",
    "\n",
    "**Last updated:** October 2023 <br>\n",
    "\n",
    "For support, please contact the Archive HelpDesk at archive@stsci.edu.\n",
    "\n",
    "***\n",
    " <img style=\"float: right;\" src=\"https://raw.githubusercontent.com/spacetelescope/notebooks/master/assets/stsci_pri_combo_mark_horizonal_white_bkgd.png\" alt=\"Space Telescope Logo\" width=\"200px\"/>\n",
    "\n",
    "[Return to top of page](#JWST-Engineering-Data-Retrieval)"
   ]
  }
 ],
 "metadata": {
  "kernelspec": {
   "display_name": "Python 3 (ipykernel)",
   "language": "python",
   "name": "python3"
  },
  "language_info": {
   "codemirror_mode": {
    "name": "ipython",
    "version": 3
   },
   "file_extension": ".py",
   "mimetype": "text/x-python",
   "name": "python",
   "nbconvert_exporter": "python",
   "pygments_lexer": "ipython3",
   "version": "3.11.6"
  }
 },
 "nbformat": 4,
 "nbformat_minor": 4
}
